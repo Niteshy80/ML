{
 "cells": [
  {
   "cell_type": "code",
   "execution_count": 1,
   "id": "f1c2af7f",
   "metadata": {
    "execution": {
     "iopub.execute_input": "2023-02-11T11:46:19.406743Z",
     "iopub.status.busy": "2023-02-11T11:46:19.406181Z",
     "iopub.status.idle": "2023-02-11T11:46:26.745696Z",
     "shell.execute_reply": "2023-02-11T11:46:26.744373Z"
    },
    "papermill": {
     "duration": 7.351696,
     "end_time": "2023-02-11T11:46:26.748900",
     "exception": false,
     "start_time": "2023-02-11T11:46:19.397204",
     "status": "completed"
    },
    "tags": []
   },
   "outputs": [],
   "source": [
    "# load dependencies\n",
    "import pandas as pd\n",
    "import numpy as np\n",
    "import tensorflow as tf\n",
    "from sklearn.preprocessing import LabelEncoder\n",
    "from sklearn.preprocessing import OneHotEncoder\n",
    "from sklearn.model_selection import train_test_split\n",
    "from sklearn.preprocessing import StandardScaler\n",
    "from sklearn.metrics import confusion_matrix, accuracy_score\n",
    "import warnings\n",
    "warnings.filterwarnings('ignore')\n"
   ]
  },
  {
   "cell_type": "code",
   "execution_count": 2,
   "id": "86924b78",
   "metadata": {
    "execution": {
     "iopub.execute_input": "2023-02-11T11:46:26.762482Z",
     "iopub.status.busy": "2023-02-11T11:46:26.761663Z",
     "iopub.status.idle": "2023-02-11T11:46:26.971099Z",
     "shell.execute_reply": "2023-02-11T11:46:26.969649Z"
    },
    "papermill": {
     "duration": 0.219311,
     "end_time": "2023-02-11T11:46:26.973962",
     "exception": false,
     "start_time": "2023-02-11T11:46:26.754651",
     "status": "completed"
    },
    "tags": []
   },
   "outputs": [
    {
     "data": {
      "text/html": [
       "<div>\n",
       "<style scoped>\n",
       "    .dataframe tbody tr th:only-of-type {\n",
       "        vertical-align: middle;\n",
       "    }\n",
       "\n",
       "    .dataframe tbody tr th {\n",
       "        vertical-align: top;\n",
       "    }\n",
       "\n",
       "    .dataframe thead th {\n",
       "        text-align: right;\n",
       "    }\n",
       "</style>\n",
       "<table border=\"1\" class=\"dataframe\">\n",
       "  <thead>\n",
       "    <tr style=\"text-align: right;\">\n",
       "      <th></th>\n",
       "      <th>CLIENTNUM</th>\n",
       "      <th>Attrition_Flag</th>\n",
       "      <th>Customer_Age</th>\n",
       "      <th>Gender</th>\n",
       "      <th>Dependent_count</th>\n",
       "      <th>Education_Level</th>\n",
       "      <th>Marital_Status</th>\n",
       "      <th>Income_Category</th>\n",
       "      <th>Card_Category</th>\n",
       "      <th>Months_on_book</th>\n",
       "      <th>...</th>\n",
       "      <th>Credit_Limit</th>\n",
       "      <th>Total_Revolving_Bal</th>\n",
       "      <th>Avg_Open_To_Buy</th>\n",
       "      <th>Total_Amt_Chng_Q4_Q1</th>\n",
       "      <th>Total_Trans_Amt</th>\n",
       "      <th>Total_Trans_Ct</th>\n",
       "      <th>Total_Ct_Chng_Q4_Q1</th>\n",
       "      <th>Avg_Utilization_Ratio</th>\n",
       "      <th>Naive_Bayes_Classifier_Attrition_Flag_Card_Category_Contacts_Count_12_mon_Dependent_count_Education_Level_Months_Inactive_12_mon_1</th>\n",
       "      <th>Naive_Bayes_Classifier_Attrition_Flag_Card_Category_Contacts_Count_12_mon_Dependent_count_Education_Level_Months_Inactive_12_mon_2</th>\n",
       "    </tr>\n",
       "  </thead>\n",
       "  <tbody>\n",
       "    <tr>\n",
       "      <th>0</th>\n",
       "      <td>768805383</td>\n",
       "      <td>Existing Customer</td>\n",
       "      <td>45</td>\n",
       "      <td>M</td>\n",
       "      <td>3</td>\n",
       "      <td>High School</td>\n",
       "      <td>Married</td>\n",
       "      <td>$60K - $80K</td>\n",
       "      <td>Blue</td>\n",
       "      <td>39</td>\n",
       "      <td>...</td>\n",
       "      <td>12691.0</td>\n",
       "      <td>777</td>\n",
       "      <td>11914.0</td>\n",
       "      <td>1.335</td>\n",
       "      <td>1144</td>\n",
       "      <td>42</td>\n",
       "      <td>1.625</td>\n",
       "      <td>0.061</td>\n",
       "      <td>0.000093</td>\n",
       "      <td>0.99991</td>\n",
       "    </tr>\n",
       "    <tr>\n",
       "      <th>1</th>\n",
       "      <td>818770008</td>\n",
       "      <td>Existing Customer</td>\n",
       "      <td>49</td>\n",
       "      <td>F</td>\n",
       "      <td>5</td>\n",
       "      <td>Graduate</td>\n",
       "      <td>Single</td>\n",
       "      <td>Less than $40K</td>\n",
       "      <td>Blue</td>\n",
       "      <td>44</td>\n",
       "      <td>...</td>\n",
       "      <td>8256.0</td>\n",
       "      <td>864</td>\n",
       "      <td>7392.0</td>\n",
       "      <td>1.541</td>\n",
       "      <td>1291</td>\n",
       "      <td>33</td>\n",
       "      <td>3.714</td>\n",
       "      <td>0.105</td>\n",
       "      <td>0.000057</td>\n",
       "      <td>0.99994</td>\n",
       "    </tr>\n",
       "    <tr>\n",
       "      <th>2</th>\n",
       "      <td>713982108</td>\n",
       "      <td>Existing Customer</td>\n",
       "      <td>51</td>\n",
       "      <td>M</td>\n",
       "      <td>3</td>\n",
       "      <td>Graduate</td>\n",
       "      <td>Married</td>\n",
       "      <td>$80K - $120K</td>\n",
       "      <td>Blue</td>\n",
       "      <td>36</td>\n",
       "      <td>...</td>\n",
       "      <td>3418.0</td>\n",
       "      <td>0</td>\n",
       "      <td>3418.0</td>\n",
       "      <td>2.594</td>\n",
       "      <td>1887</td>\n",
       "      <td>20</td>\n",
       "      <td>2.333</td>\n",
       "      <td>0.000</td>\n",
       "      <td>0.000021</td>\n",
       "      <td>0.99998</td>\n",
       "    </tr>\n",
       "    <tr>\n",
       "      <th>3</th>\n",
       "      <td>769911858</td>\n",
       "      <td>Existing Customer</td>\n",
       "      <td>40</td>\n",
       "      <td>F</td>\n",
       "      <td>4</td>\n",
       "      <td>High School</td>\n",
       "      <td>Unknown</td>\n",
       "      <td>Less than $40K</td>\n",
       "      <td>Blue</td>\n",
       "      <td>34</td>\n",
       "      <td>...</td>\n",
       "      <td>3313.0</td>\n",
       "      <td>2517</td>\n",
       "      <td>796.0</td>\n",
       "      <td>1.405</td>\n",
       "      <td>1171</td>\n",
       "      <td>20</td>\n",
       "      <td>2.333</td>\n",
       "      <td>0.760</td>\n",
       "      <td>0.000134</td>\n",
       "      <td>0.99987</td>\n",
       "    </tr>\n",
       "    <tr>\n",
       "      <th>4</th>\n",
       "      <td>709106358</td>\n",
       "      <td>Existing Customer</td>\n",
       "      <td>40</td>\n",
       "      <td>M</td>\n",
       "      <td>3</td>\n",
       "      <td>Uneducated</td>\n",
       "      <td>Married</td>\n",
       "      <td>$60K - $80K</td>\n",
       "      <td>Blue</td>\n",
       "      <td>21</td>\n",
       "      <td>...</td>\n",
       "      <td>4716.0</td>\n",
       "      <td>0</td>\n",
       "      <td>4716.0</td>\n",
       "      <td>2.175</td>\n",
       "      <td>816</td>\n",
       "      <td>28</td>\n",
       "      <td>2.500</td>\n",
       "      <td>0.000</td>\n",
       "      <td>0.000022</td>\n",
       "      <td>0.99998</td>\n",
       "    </tr>\n",
       "  </tbody>\n",
       "</table>\n",
       "<p>5 rows × 23 columns</p>\n",
       "</div>"
      ],
      "text/plain": [
       "   CLIENTNUM     Attrition_Flag  Customer_Age Gender  Dependent_count  \\\n",
       "0  768805383  Existing Customer            45      M                3   \n",
       "1  818770008  Existing Customer            49      F                5   \n",
       "2  713982108  Existing Customer            51      M                3   \n",
       "3  769911858  Existing Customer            40      F                4   \n",
       "4  709106358  Existing Customer            40      M                3   \n",
       "\n",
       "  Education_Level Marital_Status Income_Category Card_Category  \\\n",
       "0     High School        Married     $60K - $80K          Blue   \n",
       "1        Graduate         Single  Less than $40K          Blue   \n",
       "2        Graduate        Married    $80K - $120K          Blue   \n",
       "3     High School        Unknown  Less than $40K          Blue   \n",
       "4      Uneducated        Married     $60K - $80K          Blue   \n",
       "\n",
       "   Months_on_book  ...  Credit_Limit  Total_Revolving_Bal  Avg_Open_To_Buy  \\\n",
       "0              39  ...       12691.0                  777          11914.0   \n",
       "1              44  ...        8256.0                  864           7392.0   \n",
       "2              36  ...        3418.0                    0           3418.0   \n",
       "3              34  ...        3313.0                 2517            796.0   \n",
       "4              21  ...        4716.0                    0           4716.0   \n",
       "\n",
       "   Total_Amt_Chng_Q4_Q1  Total_Trans_Amt  Total_Trans_Ct  Total_Ct_Chng_Q4_Q1  \\\n",
       "0                 1.335             1144              42                1.625   \n",
       "1                 1.541             1291              33                3.714   \n",
       "2                 2.594             1887              20                2.333   \n",
       "3                 1.405             1171              20                2.333   \n",
       "4                 2.175              816              28                2.500   \n",
       "\n",
       "   Avg_Utilization_Ratio  \\\n",
       "0                  0.061   \n",
       "1                  0.105   \n",
       "2                  0.000   \n",
       "3                  0.760   \n",
       "4                  0.000   \n",
       "\n",
       "   Naive_Bayes_Classifier_Attrition_Flag_Card_Category_Contacts_Count_12_mon_Dependent_count_Education_Level_Months_Inactive_12_mon_1  \\\n",
       "0                                           0.000093                                                                                    \n",
       "1                                           0.000057                                                                                    \n",
       "2                                           0.000021                                                                                    \n",
       "3                                           0.000134                                                                                    \n",
       "4                                           0.000022                                                                                    \n",
       "\n",
       "   Naive_Bayes_Classifier_Attrition_Flag_Card_Category_Contacts_Count_12_mon_Dependent_count_Education_Level_Months_Inactive_12_mon_2  \n",
       "0                                            0.99991                                                                                   \n",
       "1                                            0.99994                                                                                   \n",
       "2                                            0.99998                                                                                   \n",
       "3                                            0.99987                                                                                   \n",
       "4                                            0.99998                                                                                   \n",
       "\n",
       "[5 rows x 23 columns]"
      ]
     },
     "execution_count": 2,
     "metadata": {},
     "output_type": "execute_result"
    }
   ],
   "source": [
    "# load datasets\n",
    "dataset = pd.read_csv(\"/kaggle/input/credit-card-customers/BankChurners.csv\")\n",
    "dataset.head()"
   ]
  },
  {
   "cell_type": "code",
   "execution_count": 3,
   "id": "b404621e",
   "metadata": {
    "execution": {
     "iopub.execute_input": "2023-02-11T11:46:26.988670Z",
     "iopub.status.busy": "2023-02-11T11:46:26.988195Z",
     "iopub.status.idle": "2023-02-11T11:46:26.997847Z",
     "shell.execute_reply": "2023-02-11T11:46:26.996417Z"
    },
    "papermill": {
     "duration": 0.019936,
     "end_time": "2023-02-11T11:46:27.000430",
     "exception": false,
     "start_time": "2023-02-11T11:46:26.980494",
     "status": "completed"
    },
    "tags": []
   },
   "outputs": [
    {
     "data": {
      "text/plain": [
       "Index(['CLIENTNUM', 'Attrition_Flag', 'Customer_Age', 'Gender',\n",
       "       'Dependent_count', 'Education_Level', 'Marital_Status',\n",
       "       'Income_Category', 'Card_Category', 'Months_on_book',\n",
       "       'Total_Relationship_Count', 'Months_Inactive_12_mon',\n",
       "       'Contacts_Count_12_mon', 'Credit_Limit', 'Total_Revolving_Bal',\n",
       "       'Avg_Open_To_Buy', 'Total_Amt_Chng_Q4_Q1', 'Total_Trans_Amt',\n",
       "       'Total_Trans_Ct', 'Total_Ct_Chng_Q4_Q1', 'Avg_Utilization_Ratio',\n",
       "       'Naive_Bayes_Classifier_Attrition_Flag_Card_Category_Contacts_Count_12_mon_Dependent_count_Education_Level_Months_Inactive_12_mon_1',\n",
       "       'Naive_Bayes_Classifier_Attrition_Flag_Card_Category_Contacts_Count_12_mon_Dependent_count_Education_Level_Months_Inactive_12_mon_2'],\n",
       "      dtype='object')"
      ]
     },
     "execution_count": 3,
     "metadata": {},
     "output_type": "execute_result"
    }
   ],
   "source": [
    "# see all features\n",
    "dataset.columns"
   ]
  },
  {
   "cell_type": "code",
   "execution_count": 4,
   "id": "5d7028d7",
   "metadata": {
    "execution": {
     "iopub.execute_input": "2023-02-11T11:46:27.015238Z",
     "iopub.status.busy": "2023-02-11T11:46:27.014779Z",
     "iopub.status.idle": "2023-02-11T11:46:27.025960Z",
     "shell.execute_reply": "2023-02-11T11:46:27.024331Z"
    },
    "papermill": {
     "duration": 0.022066,
     "end_time": "2023-02-11T11:46:27.028726",
     "exception": false,
     "start_time": "2023-02-11T11:46:27.006660",
     "status": "completed"
    },
    "tags": []
   },
   "outputs": [
    {
     "data": {
      "text/plain": [
       "Index(['Attrition_Flag', 'Customer_Age', 'Gender', 'Dependent_count',\n",
       "       'Education_Level', 'Marital_Status', 'Income_Category', 'Card_Category',\n",
       "       'Months_on_book', 'Total_Relationship_Count', 'Months_Inactive_12_mon',\n",
       "       'Contacts_Count_12_mon', 'Credit_Limit', 'Total_Revolving_Bal',\n",
       "       'Avg_Open_To_Buy', 'Total_Amt_Chng_Q4_Q1', 'Total_Trans_Amt',\n",
       "       'Total_Trans_Ct', 'Total_Ct_Chng_Q4_Q1', 'Avg_Utilization_Ratio'],\n",
       "      dtype='object')"
      ]
     },
     "execution_count": 4,
     "metadata": {},
     "output_type": "execute_result"
    }
   ],
   "source": [
    "# remove mentioned features\n",
    "dataset = dataset.iloc[:, 1:-2]\n",
    "dataset.columns"
   ]
  },
  {
   "cell_type": "code",
   "execution_count": 5,
   "id": "7298cd10",
   "metadata": {
    "execution": {
     "iopub.execute_input": "2023-02-11T11:46:27.043713Z",
     "iopub.status.busy": "2023-02-11T11:46:27.043247Z",
     "iopub.status.idle": "2023-02-11T11:46:27.083217Z",
     "shell.execute_reply": "2023-02-11T11:46:27.082049Z"
    },
    "papermill": {
     "duration": 0.05229,
     "end_time": "2023-02-11T11:46:27.087726",
     "exception": false,
     "start_time": "2023-02-11T11:46:27.035436",
     "status": "completed"
    },
    "tags": []
   },
   "outputs": [
    {
     "name": "stdout",
     "output_type": "stream",
     "text": [
      "<class 'pandas.core.frame.DataFrame'>\n",
      "RangeIndex: 10127 entries, 0 to 10126\n",
      "Data columns (total 20 columns):\n",
      " #   Column                    Non-Null Count  Dtype  \n",
      "---  ------                    --------------  -----  \n",
      " 0   Attrition_Flag            10127 non-null  object \n",
      " 1   Customer_Age              10127 non-null  int64  \n",
      " 2   Gender                    10127 non-null  object \n",
      " 3   Dependent_count           10127 non-null  int64  \n",
      " 4   Education_Level           10127 non-null  object \n",
      " 5   Marital_Status            10127 non-null  object \n",
      " 6   Income_Category           10127 non-null  object \n",
      " 7   Card_Category             10127 non-null  object \n",
      " 8   Months_on_book            10127 non-null  int64  \n",
      " 9   Total_Relationship_Count  10127 non-null  int64  \n",
      " 10  Months_Inactive_12_mon    10127 non-null  int64  \n",
      " 11  Contacts_Count_12_mon     10127 non-null  int64  \n",
      " 12  Credit_Limit              10127 non-null  float64\n",
      " 13  Total_Revolving_Bal       10127 non-null  int64  \n",
      " 14  Avg_Open_To_Buy           10127 non-null  float64\n",
      " 15  Total_Amt_Chng_Q4_Q1      10127 non-null  float64\n",
      " 16  Total_Trans_Amt           10127 non-null  int64  \n",
      " 17  Total_Trans_Ct            10127 non-null  int64  \n",
      " 18  Total_Ct_Chng_Q4_Q1       10127 non-null  float64\n",
      " 19  Avg_Utilization_Ratio     10127 non-null  float64\n",
      "dtypes: float64(5), int64(9), object(6)\n",
      "memory usage: 1.5+ MB\n"
     ]
    }
   ],
   "source": [
    "# get general information\n",
    "dataset.info()"
   ]
  },
  {
   "cell_type": "code",
   "execution_count": 6,
   "id": "80af469f",
   "metadata": {
    "execution": {
     "iopub.execute_input": "2023-02-11T11:46:27.103556Z",
     "iopub.status.busy": "2023-02-11T11:46:27.103121Z",
     "iopub.status.idle": "2023-02-11T11:46:27.116971Z",
     "shell.execute_reply": "2023-02-11T11:46:27.115600Z"
    },
    "papermill": {
     "duration": 0.024564,
     "end_time": "2023-02-11T11:46:27.119518",
     "exception": false,
     "start_time": "2023-02-11T11:46:27.094954",
     "status": "completed"
    },
    "tags": []
   },
   "outputs": [
    {
     "data": {
      "text/plain": [
       "Attrition_Flag              0\n",
       "Customer_Age                0\n",
       "Gender                      0\n",
       "Dependent_count             0\n",
       "Education_Level             0\n",
       "Marital_Status              0\n",
       "Income_Category             0\n",
       "Card_Category               0\n",
       "Months_on_book              0\n",
       "Total_Relationship_Count    0\n",
       "Months_Inactive_12_mon      0\n",
       "Contacts_Count_12_mon       0\n",
       "Credit_Limit                0\n",
       "Total_Revolving_Bal         0\n",
       "Avg_Open_To_Buy             0\n",
       "Total_Amt_Chng_Q4_Q1        0\n",
       "Total_Trans_Amt             0\n",
       "Total_Trans_Ct              0\n",
       "Total_Ct_Chng_Q4_Q1         0\n",
       "Avg_Utilization_Ratio       0\n",
       "dtype: int64"
      ]
     },
     "execution_count": 6,
     "metadata": {},
     "output_type": "execute_result"
    }
   ],
   "source": [
    "# check for data absence & hangle it\n",
    "dataset.isna().sum()"
   ]
  },
  {
   "cell_type": "code",
   "execution_count": 7,
   "id": "00df8092",
   "metadata": {
    "execution": {
     "iopub.execute_input": "2023-02-11T11:46:27.134876Z",
     "iopub.status.busy": "2023-02-11T11:46:27.134458Z",
     "iopub.status.idle": "2023-02-11T11:46:27.158056Z",
     "shell.execute_reply": "2023-02-11T11:46:27.156239Z"
    },
    "papermill": {
     "duration": 0.034931,
     "end_time": "2023-02-11T11:46:27.161213",
     "exception": false,
     "start_time": "2023-02-11T11:46:27.126282",
     "status": "completed"
    },
    "tags": []
   },
   "outputs": [
    {
     "data": {
      "text/plain": [
       "0"
      ]
     },
     "execution_count": 7,
     "metadata": {},
     "output_type": "execute_result"
    }
   ],
   "source": [
    "# check duplicate data and hangle it\n",
    "dataset.duplicated().sum()"
   ]
  },
  {
   "cell_type": "code",
   "execution_count": 8,
   "id": "0e415504",
   "metadata": {
    "execution": {
     "iopub.execute_input": "2023-02-11T11:46:27.177143Z",
     "iopub.status.busy": "2023-02-11T11:46:27.176600Z",
     "iopub.status.idle": "2023-02-11T11:46:27.207439Z",
     "shell.execute_reply": "2023-02-11T11:46:27.205548Z"
    },
    "papermill": {
     "duration": 0.042909,
     "end_time": "2023-02-11T11:46:27.210765",
     "exception": false,
     "start_time": "2023-02-11T11:46:27.167856",
     "status": "completed"
    },
    "tags": []
   },
   "outputs": [],
   "source": [
    "# change datatype of feature to save some memory\n",
    "clm_to_cnge_ctgory = [clm for clm in list(dataset.select_dtypes(include='object').columns) if dataset[clm].nunique() < 6]\n",
    "dataset[clm_to_cnge_ctgory] = dataset[clm_to_cnge_ctgory].astype(\"category\")"
   ]
  },
  {
   "cell_type": "code",
   "execution_count": 9,
   "id": "ab2aae4a",
   "metadata": {
    "execution": {
     "iopub.execute_input": "2023-02-11T11:46:27.226121Z",
     "iopub.status.busy": "2023-02-11T11:46:27.225601Z",
     "iopub.status.idle": "2023-02-11T11:46:27.246297Z",
     "shell.execute_reply": "2023-02-11T11:46:27.245283Z"
    },
    "papermill": {
     "duration": 0.031981,
     "end_time": "2023-02-11T11:46:27.249430",
     "exception": false,
     "start_time": "2023-02-11T11:46:27.217449",
     "status": "completed"
    },
    "tags": []
   },
   "outputs": [
    {
     "name": "stdout",
     "output_type": "stream",
     "text": [
      "<class 'pandas.core.frame.DataFrame'>\n",
      "RangeIndex: 10127 entries, 0 to 10126\n",
      "Data columns (total 20 columns):\n",
      " #   Column                    Non-Null Count  Dtype   \n",
      "---  ------                    --------------  -----   \n",
      " 0   Attrition_Flag            10127 non-null  category\n",
      " 1   Customer_Age              10127 non-null  int64   \n",
      " 2   Gender                    10127 non-null  category\n",
      " 3   Dependent_count           10127 non-null  int64   \n",
      " 4   Education_Level           10127 non-null  object  \n",
      " 5   Marital_Status            10127 non-null  category\n",
      " 6   Income_Category           10127 non-null  object  \n",
      " 7   Card_Category             10127 non-null  category\n",
      " 8   Months_on_book            10127 non-null  int64   \n",
      " 9   Total_Relationship_Count  10127 non-null  int64   \n",
      " 10  Months_Inactive_12_mon    10127 non-null  int64   \n",
      " 11  Contacts_Count_12_mon     10127 non-null  int64   \n",
      " 12  Credit_Limit              10127 non-null  float64 \n",
      " 13  Total_Revolving_Bal       10127 non-null  int64   \n",
      " 14  Avg_Open_To_Buy           10127 non-null  float64 \n",
      " 15  Total_Amt_Chng_Q4_Q1      10127 non-null  float64 \n",
      " 16  Total_Trans_Amt           10127 non-null  int64   \n",
      " 17  Total_Trans_Ct            10127 non-null  int64   \n",
      " 18  Total_Ct_Chng_Q4_Q1       10127 non-null  float64 \n",
      " 19  Avg_Utilization_Ratio     10127 non-null  float64 \n",
      "dtypes: category(4), float64(5), int64(9), object(2)\n",
      "memory usage: 1.3+ MB\n"
     ]
    }
   ],
   "source": [
    "# get general information - again to see memory consumption\n",
    "dataset.info()"
   ]
  },
  {
   "cell_type": "code",
   "execution_count": 10,
   "id": "399bfcd1",
   "metadata": {
    "execution": {
     "iopub.execute_input": "2023-02-11T11:46:27.265482Z",
     "iopub.status.busy": "2023-02-11T11:46:27.265087Z",
     "iopub.status.idle": "2023-02-11T11:46:27.278381Z",
     "shell.execute_reply": "2023-02-11T11:46:27.277245Z"
    },
    "papermill": {
     "duration": 0.024489,
     "end_time": "2023-02-11T11:46:27.281035",
     "exception": false,
     "start_time": "2023-02-11T11:46:27.256546",
     "status": "completed"
    },
    "tags": []
   },
   "outputs": [],
   "source": [
    "# manage categorical features\n",
    "label_encoder_flag = LabelEncoder()\n",
    "label_encoder_gender = LabelEncoder()\n",
    "# dataset[['Attrition_Flag', 'Gender']] = \n",
    "dataset['Attrition_Flag'] = label_encoder_flag.fit_transform(dataset['Attrition_Flag'])\n",
    "dataset['Gender'] = label_encoder_gender.fit_transform(dataset['Gender'])"
   ]
  },
  {
   "cell_type": "code",
   "execution_count": 11,
   "id": "6230c58b",
   "metadata": {
    "execution": {
     "iopub.execute_input": "2023-02-11T11:46:27.297136Z",
     "iopub.status.busy": "2023-02-11T11:46:27.296705Z",
     "iopub.status.idle": "2023-02-11T11:46:27.326908Z",
     "shell.execute_reply": "2023-02-11T11:46:27.325605Z"
    },
    "papermill": {
     "duration": 0.042415,
     "end_time": "2023-02-11T11:46:27.330056",
     "exception": false,
     "start_time": "2023-02-11T11:46:27.287641",
     "status": "completed"
    },
    "tags": []
   },
   "outputs": [],
   "source": [
    "one_encoder = OneHotEncoder(handle_unknown = 'ignore')\n",
    "# dataset[['Education_Level', 'Marital_Status', 'Income_Category', 'Card_Category']] = \n",
    "encoded_data = pd.DataFrame(one_encoder.fit_transform(dataset[['Education_Level', 'Marital_Status', 'Income_Category', 'Card_Category']]).toarray(),\n",
    "             columns = one_encoder.get_feature_names())\n",
    "\n",
    "dataset = pd.concat([dataset, encoded_data], axis=1)"
   ]
  },
  {
   "cell_type": "code",
   "execution_count": 12,
   "id": "75ce3d9b",
   "metadata": {
    "execution": {
     "iopub.execute_input": "2023-02-11T11:46:27.345187Z",
     "iopub.status.busy": "2023-02-11T11:46:27.344769Z",
     "iopub.status.idle": "2023-02-11T11:46:27.358071Z",
     "shell.execute_reply": "2023-02-11T11:46:27.356749Z"
    },
    "papermill": {
     "duration": 0.024668,
     "end_time": "2023-02-11T11:46:27.361192",
     "exception": false,
     "start_time": "2023-02-11T11:46:27.336524",
     "status": "completed"
    },
    "tags": []
   },
   "outputs": [],
   "source": [
    "dataset.drop(['Education_Level', 'Marital_Status', 'Income_Category', 'Card_Category'], inplace = True, axis = 1)"
   ]
  },
  {
   "cell_type": "code",
   "execution_count": 13,
   "id": "2f40597d",
   "metadata": {
    "execution": {
     "iopub.execute_input": "2023-02-11T11:46:27.377206Z",
     "iopub.status.busy": "2023-02-11T11:46:27.376754Z",
     "iopub.status.idle": "2023-02-11T11:46:27.383435Z",
     "shell.execute_reply": "2023-02-11T11:46:27.382347Z"
    },
    "papermill": {
     "duration": 0.017592,
     "end_time": "2023-02-11T11:46:27.385785",
     "exception": false,
     "start_time": "2023-02-11T11:46:27.368193",
     "status": "completed"
    },
    "tags": []
   },
   "outputs": [],
   "source": [
    "# dependent and independent features\n",
    "x = dataset.iloc[:, 1:]\n",
    "y = dataset.iloc[:, 0:1]              "
   ]
  },
  {
   "cell_type": "code",
   "execution_count": 14,
   "id": "b7ed9b14",
   "metadata": {
    "execution": {
     "iopub.execute_input": "2023-02-11T11:46:27.402416Z",
     "iopub.status.busy": "2023-02-11T11:46:27.402005Z",
     "iopub.status.idle": "2023-02-11T11:46:27.414755Z",
     "shell.execute_reply": "2023-02-11T11:46:27.413435Z"
    },
    "papermill": {
     "duration": 0.024702,
     "end_time": "2023-02-11T11:46:27.417489",
     "exception": false,
     "start_time": "2023-02-11T11:46:27.392787",
     "status": "completed"
    },
    "tags": []
   },
   "outputs": [],
   "source": [
    "# split dataset\n",
    "x_train, x_test, y_train, y_test = train_test_split(x, y, test_size = 0.25, random_state = 0)"
   ]
  },
  {
   "cell_type": "code",
   "execution_count": 15,
   "id": "4e8b126b",
   "metadata": {
    "execution": {
     "iopub.execute_input": "2023-02-11T11:46:27.434499Z",
     "iopub.status.busy": "2023-02-11T11:46:27.434058Z",
     "iopub.status.idle": "2023-02-11T11:46:27.452493Z",
     "shell.execute_reply": "2023-02-11T11:46:27.451294Z"
    },
    "papermill": {
     "duration": 0.030243,
     "end_time": "2023-02-11T11:46:27.455351",
     "exception": false,
     "start_time": "2023-02-11T11:46:27.425108",
     "status": "completed"
    },
    "tags": []
   },
   "outputs": [],
   "source": [
    "# feature scaling\n",
    "scaler = StandardScaler()\n",
    "x_train = scaler.fit_transform(x_train)\n",
    "x_test = scaler.transform(x_test)"
   ]
  },
  {
   "cell_type": "code",
   "execution_count": 16,
   "id": "c0dd0dc7",
   "metadata": {
    "execution": {
     "iopub.execute_input": "2023-02-11T11:46:27.469743Z",
     "iopub.status.busy": "2023-02-11T11:46:27.469304Z",
     "iopub.status.idle": "2023-02-11T11:46:29.053659Z",
     "shell.execute_reply": "2023-02-11T11:46:29.052740Z"
    },
    "papermill": {
     "duration": 1.594257,
     "end_time": "2023-02-11T11:46:29.056000",
     "exception": false,
     "start_time": "2023-02-11T11:46:27.461743",
     "status": "completed"
    },
    "tags": []
   },
   "outputs": [
    {
     "name": "stderr",
     "output_type": "stream",
     "text": [
      "2023-02-11 11:46:29.018944: I tensorflow/core/common_runtime/process_util.cc:146] Creating new thread pool with default inter op setting: 2. Tune using inter_op_parallelism_threads for best performance.\n"
     ]
    }
   ],
   "source": [
    "# build ann\n",
    "ann = tf.keras.models.Sequential()\n",
    "ann.add(tf.keras.layers.Dense(units = 6, activation = 'relu'))\n",
    "ann.add(tf.keras.layers.Dense(units = 6, activation = 'relu'))\n",
    "ann.add(tf.keras.layers.Dense(units = 1, activation = 'sigmoid'))"
   ]
  },
  {
   "cell_type": "code",
   "execution_count": 17,
   "id": "d6fa062d",
   "metadata": {
    "execution": {
     "iopub.execute_input": "2023-02-11T11:46:29.071025Z",
     "iopub.status.busy": "2023-02-11T11:46:29.070192Z",
     "iopub.status.idle": "2023-02-11T11:46:35.146991Z",
     "shell.execute_reply": "2023-02-11T11:46:35.145621Z"
    },
    "papermill": {
     "duration": 6.087831,
     "end_time": "2023-02-11T11:46:35.150017",
     "exception": false,
     "start_time": "2023-02-11T11:46:29.062186",
     "status": "completed"
    },
    "tags": []
   },
   "outputs": [
    {
     "name": "stderr",
     "output_type": "stream",
     "text": [
      "2023-02-11 11:46:29.207760: I tensorflow/compiler/mlir/mlir_graph_optimization_pass.cc:185] None of the MLIR Optimization Passes are enabled (registered 2)\n"
     ]
    },
    {
     "name": "stdout",
     "output_type": "stream",
     "text": [
      "Epoch 1/10\n",
      "238/238 [==============================] - 1s 2ms/step - loss: 0.5152 - accuracy: 0.8063\n",
      "Epoch 2/10\n",
      "238/238 [==============================] - 0s 2ms/step - loss: 0.3662 - accuracy: 0.8446\n",
      "Epoch 3/10\n",
      "238/238 [==============================] - 0s 2ms/step - loss: 0.3000 - accuracy: 0.8837\n",
      "Epoch 4/10\n",
      "238/238 [==============================] - 0s 2ms/step - loss: 0.2701 - accuracy: 0.8970\n",
      "Epoch 5/10\n",
      "238/238 [==============================] - 0s 2ms/step - loss: 0.2558 - accuracy: 0.8995\n",
      "Epoch 6/10\n",
      "238/238 [==============================] - 0s 2ms/step - loss: 0.2468 - accuracy: 0.9027\n",
      "Epoch 7/10\n",
      "238/238 [==============================] - 0s 2ms/step - loss: 0.2400 - accuracy: 0.9035\n",
      "Epoch 8/10\n",
      "238/238 [==============================] - 0s 2ms/step - loss: 0.2335 - accuracy: 0.9095\n",
      "Epoch 9/10\n",
      "238/238 [==============================] - 0s 2ms/step - loss: 0.2280 - accuracy: 0.9111\n",
      "Epoch 10/10\n",
      "238/238 [==============================] - 0s 2ms/step - loss: 0.2225 - accuracy: 0.9135\n"
     ]
    },
    {
     "data": {
      "text/plain": [
       "<keras.callbacks.History at 0x7f9abee136d0>"
      ]
     },
     "execution_count": 17,
     "metadata": {},
     "output_type": "execute_result"
    }
   ],
   "source": [
    "# compile and train\n",
    "ann.compile(optimizer = 'adam', loss = 'binary_crossentropy', metrics = ['accuracy'])\n",
    "ann.fit(x_train, y_train, batch_size = 32, epochs = 10)  \n"
   ]
  },
  {
   "cell_type": "code",
   "execution_count": 18,
   "id": "be085e4b",
   "metadata": {
    "execution": {
     "iopub.execute_input": "2023-02-11T11:46:35.179717Z",
     "iopub.status.busy": "2023-02-11T11:46:35.179262Z",
     "iopub.status.idle": "2023-02-11T11:46:35.393724Z",
     "shell.execute_reply": "2023-02-11T11:46:35.392766Z"
    },
    "papermill": {
     "duration": 0.232522,
     "end_time": "2023-02-11T11:46:35.396406",
     "exception": false,
     "start_time": "2023-02-11T11:46:35.163884",
     "status": "completed"
    },
    "tags": []
   },
   "outputs": [],
   "source": [
    "# prediction \n",
    "y_pred = ann.predict(x_test)\n",
    "y_pred = (y_pred > 0.5)\n",
    "y_pred_df = pd.DataFrame(y_pred, columns = ['y_pred'])\n",
    "y_pred_df = y_pred_df.y_pred.replace(True, 1).replace(False, 0)"
   ]
  },
  {
   "cell_type": "code",
   "execution_count": 19,
   "id": "a70a9311",
   "metadata": {
    "execution": {
     "iopub.execute_input": "2023-02-11T11:46:35.426009Z",
     "iopub.status.busy": "2023-02-11T11:46:35.424959Z",
     "iopub.status.idle": "2023-02-11T11:46:35.437693Z",
     "shell.execute_reply": "2023-02-11T11:46:35.436141Z"
    },
    "papermill": {
     "duration": 0.03073,
     "end_time": "2023-02-11T11:46:35.440379",
     "exception": false,
     "start_time": "2023-02-11T11:46:35.409649",
     "status": "completed"
    },
    "tags": []
   },
   "outputs": [
    {
     "name": "stdout",
     "output_type": "stream",
     "text": [
      "[[ 231  153]\n",
      " [  81 2067]]\n"
     ]
    },
    {
     "data": {
      "text/plain": [
       "0.9075829383886256"
      ]
     },
     "execution_count": 19,
     "metadata": {},
     "output_type": "execute_result"
    }
   ],
   "source": [
    "# check confusion matrix and accuracy score\n",
    "cm = confusion_matrix(y_test, y_pred_df)\n",
    "print(cm)\n",
    "accuracy_score(y_test, y_pred_df)\n"
   ]
  }
 ],
 "metadata": {
  "kernelspec": {
   "display_name": "Python 3",
   "language": "python",
   "name": "python3"
  },
  "language_info": {
   "codemirror_mode": {
    "name": "ipython",
    "version": 3
   },
   "file_extension": ".py",
   "mimetype": "text/x-python",
   "name": "python",
   "nbconvert_exporter": "python",
   "pygments_lexer": "ipython3",
   "version": "3.7.12"
  },
  "papermill": {
   "default_parameters": {},
   "duration": 29.420528,
   "end_time": "2023-02-11T11:46:38.861387",
   "environment_variables": {},
   "exception": null,
   "input_path": "__notebook__.ipynb",
   "output_path": "__notebook__.ipynb",
   "parameters": {},
   "start_time": "2023-02-11T11:46:09.440859",
   "version": "2.3.4"
  }
 },
 "nbformat": 4,
 "nbformat_minor": 5
}
