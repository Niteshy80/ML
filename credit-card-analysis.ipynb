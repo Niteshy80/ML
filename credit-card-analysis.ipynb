{
 "cells": [
  {
   "cell_type": "markdown",
   "id": "b33a9f60",
   "metadata": {
    "papermill": {
     "duration": 0.00987,
     "end_time": "2023-08-26T02:23:13.253880",
     "exception": false,
     "start_time": "2023-08-26T02:23:13.244010",
     "status": "completed"
    },
    "tags": []
   },
   "source": [
    "<H1 style=\"text_align: center;\">Credit Card Customer Analysis</H1>"
   ]
  },
  {
   "cell_type": "markdown",
   "id": "2ba308aa",
   "metadata": {
    "papermill": {
     "duration": 0.009149,
     "end_time": "2023-08-26T02:23:13.272501",
     "exception": false,
     "start_time": "2023-08-26T02:23:13.263352",
     "status": "completed"
    },
    "tags": []
   },
   "source": [
    " <br>**Extract meaningful insights that can inform strategic decisions to mitigate cardholder attrition.**\n",
    " \n",
    "Business Goal: find the characteristics of a customer that is no longer an existing card holder\n",
    "\n"
   ]
  },
  {
   "cell_type": "code",
   "execution_count": 1,
   "id": "43ab0a9a",
   "metadata": {
    "_cell_guid": "b1076dfc-b9ad-4769-8c92-a6c4dae69d19",
    "_uuid": "8f2839f25d086af736a60e9eeb907d3b93b6e0e5",
    "execution": {
     "iopub.execute_input": "2023-08-26T02:23:13.293492Z",
     "iopub.status.busy": "2023-08-26T02:23:13.292931Z",
     "iopub.status.idle": "2023-08-26T02:23:14.326905Z",
     "shell.execute_reply": "2023-08-26T02:23:14.325459Z"
    },
    "jupyter": {
     "source_hidden": true
    },
    "papermill": {
     "duration": 1.047887,
     "end_time": "2023-08-26T02:23:14.329755",
     "exception": false,
     "start_time": "2023-08-26T02:23:13.281868",
     "status": "completed"
    },
    "tags": []
   },
   "outputs": [
    {
     "name": "stdout",
     "output_type": "stream",
     "text": [
      "/kaggle/input/credit-card-customers/BankChurners.csv\n"
     ]
    }
   ],
   "source": [
    "import numpy as np # linear algebra\n",
    "import pandas as pd # data processing, CSV file I/O (e.g. pd.read_csv)\n",
    "import plotly.express as px\n",
    "\n",
    "\n",
    "# Input data files are available in the read-only \"../input/\" directory\n",
    "# For example, running this (by clicking run or pressing Shift+Enter) will list all files under the input directory\n",
    "\n",
    "import os\n",
    "for dirname, _, filenames in os.walk('/kaggle/input'):\n",
    "    for filename in filenames:\n",
    "        print(os.path.join(dirname, filename))"
   ]
  },
  {
   "cell_type": "code",
   "execution_count": 2,
   "id": "6655cbb1",
   "metadata": {
    "execution": {
     "iopub.execute_input": "2023-08-26T02:23:14.352438Z",
     "iopub.status.busy": "2023-08-26T02:23:14.351970Z",
     "iopub.status.idle": "2023-08-26T02:23:14.440740Z",
     "shell.execute_reply": "2023-08-26T02:23:14.439352Z"
    },
    "jupyter": {
     "source_hidden": true
    },
    "papermill": {
     "duration": 0.10408,
     "end_time": "2023-08-26T02:23:14.444183",
     "exception": false,
     "start_time": "2023-08-26T02:23:14.340103",
     "status": "completed"
    },
    "tags": []
   },
   "outputs": [],
   "source": [
    "df = pd.read_csv('/kaggle/input/credit-card-customers/BankChurners.csv')"
   ]
  },
  {
   "cell_type": "code",
   "execution_count": 3,
   "id": "88708ba9",
   "metadata": {
    "_kg_hide-input": true,
    "_kg_hide-output": true,
    "execution": {
     "iopub.execute_input": "2023-08-26T02:23:14.467517Z",
     "iopub.status.busy": "2023-08-26T02:23:14.467072Z",
     "iopub.status.idle": "2023-08-26T02:23:14.476122Z",
     "shell.execute_reply": "2023-08-26T02:23:14.474851Z"
    },
    "jupyter": {
     "source_hidden": true
    },
    "papermill": {
     "duration": 0.02458,
     "end_time": "2023-08-26T02:23:14.478746",
     "exception": false,
     "start_time": "2023-08-26T02:23:14.454166",
     "status": "completed"
    },
    "tags": []
   },
   "outputs": [
    {
     "data": {
      "text/plain": [
       "(10127, 23)"
      ]
     },
     "execution_count": 3,
     "metadata": {},
     "output_type": "execute_result"
    }
   ],
   "source": [
    "df.shape"
   ]
  },
  {
   "cell_type": "code",
   "execution_count": 4,
   "id": "58c53737",
   "metadata": {
    "execution": {
     "iopub.execute_input": "2023-08-26T02:23:14.500845Z",
     "iopub.status.busy": "2023-08-26T02:23:14.500389Z",
     "iopub.status.idle": "2023-08-26T02:23:14.521146Z",
     "shell.execute_reply": "2023-08-26T02:23:14.519737Z"
    },
    "jupyter": {
     "source_hidden": true
    },
    "papermill": {
     "duration": 0.035362,
     "end_time": "2023-08-26T02:23:14.523800",
     "exception": false,
     "start_time": "2023-08-26T02:23:14.488438",
     "status": "completed"
    },
    "tags": []
   },
   "outputs": [],
   "source": [
    "columns = ['Naive_Bayes_Classifier_Attrition_Flag_Card_Category_Contacts_Count_12_mon_Dependent_count_Education_Level_Months_Inactive_12_mon_2','Naive_Bayes_Classifier_Attrition_Flag_Card_Category_Contacts_Count_12_mon_Dependent_count_Education_Level_Months_Inactive_12_mon_1']\n",
    "df.drop(columns=columns, inplace = True)"
   ]
  },
  {
   "cell_type": "code",
   "execution_count": 5,
   "id": "787116b7",
   "metadata": {
    "execution": {
     "iopub.execute_input": "2023-08-26T02:23:14.545792Z",
     "iopub.status.busy": "2023-08-26T02:23:14.545055Z",
     "iopub.status.idle": "2023-08-26T02:23:14.578089Z",
     "shell.execute_reply": "2023-08-26T02:23:14.576677Z"
    },
    "jupyter": {
     "source_hidden": true
    },
    "papermill": {
     "duration": 0.047531,
     "end_time": "2023-08-26T02:23:14.581077",
     "exception": false,
     "start_time": "2023-08-26T02:23:14.533546",
     "status": "completed"
    },
    "tags": []
   },
   "outputs": [
    {
     "data": {
      "text/html": [
       "<div>\n",
       "<style scoped>\n",
       "    .dataframe tbody tr th:only-of-type {\n",
       "        vertical-align: middle;\n",
       "    }\n",
       "\n",
       "    .dataframe tbody tr th {\n",
       "        vertical-align: top;\n",
       "    }\n",
       "\n",
       "    .dataframe thead th {\n",
       "        text-align: right;\n",
       "    }\n",
       "</style>\n",
       "<table border=\"1\" class=\"dataframe\">\n",
       "  <thead>\n",
       "    <tr style=\"text-align: right;\">\n",
       "      <th></th>\n",
       "      <th>CLIENTNUM</th>\n",
       "      <th>Attrition_Flag</th>\n",
       "      <th>Customer_Age</th>\n",
       "      <th>Gender</th>\n",
       "      <th>Dependent_count</th>\n",
       "      <th>Education_Level</th>\n",
       "      <th>Marital_Status</th>\n",
       "      <th>Income_Category</th>\n",
       "      <th>Card_Category</th>\n",
       "      <th>Months_on_book</th>\n",
       "      <th>...</th>\n",
       "      <th>Months_Inactive_12_mon</th>\n",
       "      <th>Contacts_Count_12_mon</th>\n",
       "      <th>Credit_Limit</th>\n",
       "      <th>Total_Revolving_Bal</th>\n",
       "      <th>Avg_Open_To_Buy</th>\n",
       "      <th>Total_Amt_Chng_Q4_Q1</th>\n",
       "      <th>Total_Trans_Amt</th>\n",
       "      <th>Total_Trans_Ct</th>\n",
       "      <th>Total_Ct_Chng_Q4_Q1</th>\n",
       "      <th>Avg_Utilization_Ratio</th>\n",
       "    </tr>\n",
       "  </thead>\n",
       "  <tbody>\n",
       "    <tr>\n",
       "      <th>0</th>\n",
       "      <td>768805383</td>\n",
       "      <td>Existing Customer</td>\n",
       "      <td>45</td>\n",
       "      <td>M</td>\n",
       "      <td>3</td>\n",
       "      <td>High School</td>\n",
       "      <td>Married</td>\n",
       "      <td>$60K - $80K</td>\n",
       "      <td>Blue</td>\n",
       "      <td>39</td>\n",
       "      <td>...</td>\n",
       "      <td>1</td>\n",
       "      <td>3</td>\n",
       "      <td>12691.0</td>\n",
       "      <td>777</td>\n",
       "      <td>11914.0</td>\n",
       "      <td>1.335</td>\n",
       "      <td>1144</td>\n",
       "      <td>42</td>\n",
       "      <td>1.625</td>\n",
       "      <td>0.061</td>\n",
       "    </tr>\n",
       "    <tr>\n",
       "      <th>1</th>\n",
       "      <td>818770008</td>\n",
       "      <td>Existing Customer</td>\n",
       "      <td>49</td>\n",
       "      <td>F</td>\n",
       "      <td>5</td>\n",
       "      <td>Graduate</td>\n",
       "      <td>Single</td>\n",
       "      <td>Less than $40K</td>\n",
       "      <td>Blue</td>\n",
       "      <td>44</td>\n",
       "      <td>...</td>\n",
       "      <td>1</td>\n",
       "      <td>2</td>\n",
       "      <td>8256.0</td>\n",
       "      <td>864</td>\n",
       "      <td>7392.0</td>\n",
       "      <td>1.541</td>\n",
       "      <td>1291</td>\n",
       "      <td>33</td>\n",
       "      <td>3.714</td>\n",
       "      <td>0.105</td>\n",
       "    </tr>\n",
       "    <tr>\n",
       "      <th>2</th>\n",
       "      <td>713982108</td>\n",
       "      <td>Existing Customer</td>\n",
       "      <td>51</td>\n",
       "      <td>M</td>\n",
       "      <td>3</td>\n",
       "      <td>Graduate</td>\n",
       "      <td>Married</td>\n",
       "      <td>$80K - $120K</td>\n",
       "      <td>Blue</td>\n",
       "      <td>36</td>\n",
       "      <td>...</td>\n",
       "      <td>1</td>\n",
       "      <td>0</td>\n",
       "      <td>3418.0</td>\n",
       "      <td>0</td>\n",
       "      <td>3418.0</td>\n",
       "      <td>2.594</td>\n",
       "      <td>1887</td>\n",
       "      <td>20</td>\n",
       "      <td>2.333</td>\n",
       "      <td>0.000</td>\n",
       "    </tr>\n",
       "    <tr>\n",
       "      <th>3</th>\n",
       "      <td>769911858</td>\n",
       "      <td>Existing Customer</td>\n",
       "      <td>40</td>\n",
       "      <td>F</td>\n",
       "      <td>4</td>\n",
       "      <td>High School</td>\n",
       "      <td>Unknown</td>\n",
       "      <td>Less than $40K</td>\n",
       "      <td>Blue</td>\n",
       "      <td>34</td>\n",
       "      <td>...</td>\n",
       "      <td>4</td>\n",
       "      <td>1</td>\n",
       "      <td>3313.0</td>\n",
       "      <td>2517</td>\n",
       "      <td>796.0</td>\n",
       "      <td>1.405</td>\n",
       "      <td>1171</td>\n",
       "      <td>20</td>\n",
       "      <td>2.333</td>\n",
       "      <td>0.760</td>\n",
       "    </tr>\n",
       "    <tr>\n",
       "      <th>4</th>\n",
       "      <td>709106358</td>\n",
       "      <td>Existing Customer</td>\n",
       "      <td>40</td>\n",
       "      <td>M</td>\n",
       "      <td>3</td>\n",
       "      <td>Uneducated</td>\n",
       "      <td>Married</td>\n",
       "      <td>$60K - $80K</td>\n",
       "      <td>Blue</td>\n",
       "      <td>21</td>\n",
       "      <td>...</td>\n",
       "      <td>1</td>\n",
       "      <td>0</td>\n",
       "      <td>4716.0</td>\n",
       "      <td>0</td>\n",
       "      <td>4716.0</td>\n",
       "      <td>2.175</td>\n",
       "      <td>816</td>\n",
       "      <td>28</td>\n",
       "      <td>2.500</td>\n",
       "      <td>0.000</td>\n",
       "    </tr>\n",
       "  </tbody>\n",
       "</table>\n",
       "<p>5 rows × 21 columns</p>\n",
       "</div>"
      ],
      "text/plain": [
       "   CLIENTNUM     Attrition_Flag  Customer_Age Gender  Dependent_count  \\\n",
       "0  768805383  Existing Customer            45      M                3   \n",
       "1  818770008  Existing Customer            49      F                5   \n",
       "2  713982108  Existing Customer            51      M                3   \n",
       "3  769911858  Existing Customer            40      F                4   \n",
       "4  709106358  Existing Customer            40      M                3   \n",
       "\n",
       "  Education_Level Marital_Status Income_Category Card_Category  \\\n",
       "0     High School        Married     $60K - $80K          Blue   \n",
       "1        Graduate         Single  Less than $40K          Blue   \n",
       "2        Graduate        Married    $80K - $120K          Blue   \n",
       "3     High School        Unknown  Less than $40K          Blue   \n",
       "4      Uneducated        Married     $60K - $80K          Blue   \n",
       "\n",
       "   Months_on_book  ...  Months_Inactive_12_mon  Contacts_Count_12_mon  \\\n",
       "0              39  ...                       1                      3   \n",
       "1              44  ...                       1                      2   \n",
       "2              36  ...                       1                      0   \n",
       "3              34  ...                       4                      1   \n",
       "4              21  ...                       1                      0   \n",
       "\n",
       "   Credit_Limit  Total_Revolving_Bal  Avg_Open_To_Buy  Total_Amt_Chng_Q4_Q1  \\\n",
       "0       12691.0                  777          11914.0                 1.335   \n",
       "1        8256.0                  864           7392.0                 1.541   \n",
       "2        3418.0                    0           3418.0                 2.594   \n",
       "3        3313.0                 2517            796.0                 1.405   \n",
       "4        4716.0                    0           4716.0                 2.175   \n",
       "\n",
       "   Total_Trans_Amt  Total_Trans_Ct  Total_Ct_Chng_Q4_Q1  Avg_Utilization_Ratio  \n",
       "0             1144              42                1.625                  0.061  \n",
       "1             1291              33                3.714                  0.105  \n",
       "2             1887              20                2.333                  0.000  \n",
       "3             1171              20                2.333                  0.760  \n",
       "4              816              28                2.500                  0.000  \n",
       "\n",
       "[5 rows x 21 columns]"
      ]
     },
     "execution_count": 5,
     "metadata": {},
     "output_type": "execute_result"
    }
   ],
   "source": [
    "df.head()"
   ]
  },
  {
   "cell_type": "code",
   "execution_count": 6,
   "id": "1705ad3f",
   "metadata": {
    "execution": {
     "iopub.execute_input": "2023-08-26T02:23:14.604913Z",
     "iopub.status.busy": "2023-08-26T02:23:14.603952Z",
     "iopub.status.idle": "2023-08-26T02:23:14.613901Z",
     "shell.execute_reply": "2023-08-26T02:23:14.613026Z"
    },
    "papermill": {
     "duration": 0.024832,
     "end_time": "2023-08-26T02:23:14.616458",
     "exception": false,
     "start_time": "2023-08-26T02:23:14.591626",
     "status": "completed"
    },
    "tags": []
   },
   "outputs": [
    {
     "data": {
      "text/plain": [
       "array(['$60K - $80K', 'Less than $40K', '$80K - $120K', '$40K - $60K',\n",
       "       '$120K +', 'Unknown'], dtype=object)"
      ]
     },
     "execution_count": 6,
     "metadata": {},
     "output_type": "execute_result"
    }
   ],
   "source": [
    "df.Income_Category.unique()"
   ]
  },
  {
   "cell_type": "code",
   "execution_count": 7,
   "id": "b31d4148",
   "metadata": {
    "execution": {
     "iopub.execute_input": "2023-08-26T02:23:14.640154Z",
     "iopub.status.busy": "2023-08-26T02:23:14.639314Z",
     "iopub.status.idle": "2023-08-26T02:23:14.657057Z",
     "shell.execute_reply": "2023-08-26T02:23:14.655833Z"
    },
    "papermill": {
     "duration": 0.032654,
     "end_time": "2023-08-26T02:23:14.660029",
     "exception": false,
     "start_time": "2023-08-26T02:23:14.627375",
     "status": "completed"
    },
    "tags": []
   },
   "outputs": [
    {
     "data": {
      "text/plain": [
       "count    116.000000\n",
       "mean      35.525862\n",
       "std        6.618106\n",
       "min       18.000000\n",
       "25%       33.000000\n",
       "50%       36.000000\n",
       "75%       38.000000\n",
       "max       55.000000\n",
       "Name: Months_on_book, dtype: float64"
      ]
     },
     "execution_count": 7,
     "metadata": {},
     "output_type": "execute_result"
    }
   ],
   "source": [
    "df[df['Card_Category']=='Gold'].Months_on_book.describe()"
   ]
  },
  {
   "cell_type": "code",
   "execution_count": 8,
   "id": "30647414",
   "metadata": {
    "collapsed": true,
    "execution": {
     "iopub.execute_input": "2023-08-26T02:23:14.683471Z",
     "iopub.status.busy": "2023-08-26T02:23:14.683024Z",
     "iopub.status.idle": "2023-08-26T02:23:14.696788Z",
     "shell.execute_reply": "2023-08-26T02:23:14.695312Z"
    },
    "jupyter": {
     "outputs_hidden": true,
     "source_hidden": true
    },
    "papermill": {
     "duration": 0.028858,
     "end_time": "2023-08-26T02:23:14.699649",
     "exception": false,
     "start_time": "2023-08-26T02:23:14.670791",
     "status": "completed"
    },
    "tags": []
   },
   "outputs": [
    {
     "data": {
      "text/plain": [
       "count    10127.000000\n",
       "mean        46.325960\n",
       "std          8.016814\n",
       "min         26.000000\n",
       "25%         41.000000\n",
       "50%         46.000000\n",
       "75%         52.000000\n",
       "max         73.000000\n",
       "Name: Customer_Age, dtype: float64"
      ]
     },
     "execution_count": 8,
     "metadata": {},
     "output_type": "execute_result"
    }
   ],
   "source": [
    "df.Customer_Age.describe()"
   ]
  },
  {
   "cell_type": "code",
   "execution_count": 9,
   "id": "42980020",
   "metadata": {
    "_kg_hide-input": true,
    "execution": {
     "iopub.execute_input": "2023-08-26T02:23:14.724051Z",
     "iopub.status.busy": "2023-08-26T02:23:14.723572Z",
     "iopub.status.idle": "2023-08-26T02:23:16.642773Z",
     "shell.execute_reply": "2023-08-26T02:23:16.641499Z"
    },
    "papermill": {
     "duration": 1.934404,
     "end_time": "2023-08-26T02:23:16.645478",
     "exception": false,
     "start_time": "2023-08-26T02:23:14.711074",
     "status": "completed"
    },
    "tags": []
   },
   "outputs": [
    {
     "data": {
      "text/html": [
       "        <script type=\"text/javascript\">\n",
       "        window.PlotlyConfig = {MathJaxConfig: 'local'};\n",
       "        if (window.MathJax && window.MathJax.Hub && window.MathJax.Hub.Config) {window.MathJax.Hub.Config({SVG: {font: \"STIX-Web\"}});}\n",
       "        if (typeof require !== 'undefined') {\n",
       "        require.undef(\"plotly\");\n",
       "        requirejs.config({\n",
       "            paths: {\n",
       "                'plotly': ['https://cdn.plot.ly/plotly-2.24.1.min']\n",
       "            }\n",
       "        });\n",
       "        require(['plotly'], function(Plotly) {\n",
       "            window._Plotly = Plotly;\n",
       "        });\n",
       "        }\n",
       "        </script>\n",
       "        "
      ]
     },
     "metadata": {},
     "output_type": "display_data"
    },
    {
     "data": {
      "text/html": [
       "<div>                            <div id=\"4d6fcb07-7bc4-4946-acc5-2f55ca80b551\" class=\"plotly-graph-div\" style=\"height:525px; width:100%;\"></div>            <script type=\"text/javascript\">                require([\"plotly\"], function(Plotly) {                    window.PLOTLYENV=window.PLOTLYENV || {};                                    if (document.getElementById(\"4d6fcb07-7bc4-4946-acc5-2f55ca80b551\")) {                    Plotly.newPlot(                        \"4d6fcb07-7bc4-4946-acc5-2f55ca80b551\",                        [{\"alignmentgroup\":\"True\",\"hovertemplate\":\"Attrition_Flag=%{x}\\u003cbr\\u003eGender=F\\u003cbr\\u003eCount=%{y}\\u003cextra\\u003e\\u003c\\u002fextra\\u003e\",\"legendgroup\":\"Existing Customer\",\"marker\":{\"color\":\"#636efa\",\"pattern\":{\"shape\":\"\"}},\"name\":\"Existing Customer\",\"offsetgroup\":\"Existing Customer\",\"orientation\":\"v\",\"showlegend\":true,\"textposition\":\"auto\",\"x\":[\"Existing Customer\"],\"xaxis\":\"x\",\"y\":[4428],\"yaxis\":\"y\",\"type\":\"bar\"},{\"alignmentgroup\":\"True\",\"hovertemplate\":\"Attrition_Flag=%{x}\\u003cbr\\u003eGender=M\\u003cbr\\u003eCount=%{y}\\u003cextra\\u003e\\u003c\\u002fextra\\u003e\",\"legendgroup\":\"Existing Customer\",\"marker\":{\"color\":\"#636efa\",\"pattern\":{\"shape\":\"\"}},\"name\":\"Existing Customer\",\"offsetgroup\":\"Existing Customer\",\"orientation\":\"v\",\"showlegend\":false,\"textposition\":\"auto\",\"x\":[\"Existing Customer\"],\"xaxis\":\"x2\",\"y\":[4072],\"yaxis\":\"y2\",\"type\":\"bar\"},{\"alignmentgroup\":\"True\",\"hovertemplate\":\"Attrition_Flag=%{x}\\u003cbr\\u003eGender=F\\u003cbr\\u003eCount=%{y}\\u003cextra\\u003e\\u003c\\u002fextra\\u003e\",\"legendgroup\":\"Attrited Customer\",\"marker\":{\"color\":\"#EF553B\",\"pattern\":{\"shape\":\"\"}},\"name\":\"Attrited Customer\",\"offsetgroup\":\"Attrited Customer\",\"orientation\":\"v\",\"showlegend\":true,\"textposition\":\"auto\",\"x\":[\"Attrited Customer\"],\"xaxis\":\"x\",\"y\":[930],\"yaxis\":\"y\",\"type\":\"bar\"},{\"alignmentgroup\":\"True\",\"hovertemplate\":\"Attrition_Flag=%{x}\\u003cbr\\u003eGender=M\\u003cbr\\u003eCount=%{y}\\u003cextra\\u003e\\u003c\\u002fextra\\u003e\",\"legendgroup\":\"Attrited Customer\",\"marker\":{\"color\":\"#EF553B\",\"pattern\":{\"shape\":\"\"}},\"name\":\"Attrited Customer\",\"offsetgroup\":\"Attrited Customer\",\"orientation\":\"v\",\"showlegend\":false,\"textposition\":\"auto\",\"x\":[\"Attrited Customer\"],\"xaxis\":\"x2\",\"y\":[697],\"yaxis\":\"y2\",\"type\":\"bar\"}],                        {\"template\":{\"data\":{\"histogram2dcontour\":[{\"type\":\"histogram2dcontour\",\"colorbar\":{\"outlinewidth\":0,\"ticks\":\"\"},\"colorscale\":[[0.0,\"#0d0887\"],[0.1111111111111111,\"#46039f\"],[0.2222222222222222,\"#7201a8\"],[0.3333333333333333,\"#9c179e\"],[0.4444444444444444,\"#bd3786\"],[0.5555555555555556,\"#d8576b\"],[0.6666666666666666,\"#ed7953\"],[0.7777777777777778,\"#fb9f3a\"],[0.8888888888888888,\"#fdca26\"],[1.0,\"#f0f921\"]]}],\"choropleth\":[{\"type\":\"choropleth\",\"colorbar\":{\"outlinewidth\":0,\"ticks\":\"\"}}],\"histogram2d\":[{\"type\":\"histogram2d\",\"colorbar\":{\"outlinewidth\":0,\"ticks\":\"\"},\"colorscale\":[[0.0,\"#0d0887\"],[0.1111111111111111,\"#46039f\"],[0.2222222222222222,\"#7201a8\"],[0.3333333333333333,\"#9c179e\"],[0.4444444444444444,\"#bd3786\"],[0.5555555555555556,\"#d8576b\"],[0.6666666666666666,\"#ed7953\"],[0.7777777777777778,\"#fb9f3a\"],[0.8888888888888888,\"#fdca26\"],[1.0,\"#f0f921\"]]}],\"heatmap\":[{\"type\":\"heatmap\",\"colorbar\":{\"outlinewidth\":0,\"ticks\":\"\"},\"colorscale\":[[0.0,\"#0d0887\"],[0.1111111111111111,\"#46039f\"],[0.2222222222222222,\"#7201a8\"],[0.3333333333333333,\"#9c179e\"],[0.4444444444444444,\"#bd3786\"],[0.5555555555555556,\"#d8576b\"],[0.6666666666666666,\"#ed7953\"],[0.7777777777777778,\"#fb9f3a\"],[0.8888888888888888,\"#fdca26\"],[1.0,\"#f0f921\"]]}],\"heatmapgl\":[{\"type\":\"heatmapgl\",\"colorbar\":{\"outlinewidth\":0,\"ticks\":\"\"},\"colorscale\":[[0.0,\"#0d0887\"],[0.1111111111111111,\"#46039f\"],[0.2222222222222222,\"#7201a8\"],[0.3333333333333333,\"#9c179e\"],[0.4444444444444444,\"#bd3786\"],[0.5555555555555556,\"#d8576b\"],[0.6666666666666666,\"#ed7953\"],[0.7777777777777778,\"#fb9f3a\"],[0.8888888888888888,\"#fdca26\"],[1.0,\"#f0f921\"]]}],\"contourcarpet\":[{\"type\":\"contourcarpet\",\"colorbar\":{\"outlinewidth\":0,\"ticks\":\"\"}}],\"contour\":[{\"type\":\"contour\",\"colorbar\":{\"outlinewidth\":0,\"ticks\":\"\"},\"colorscale\":[[0.0,\"#0d0887\"],[0.1111111111111111,\"#46039f\"],[0.2222222222222222,\"#7201a8\"],[0.3333333333333333,\"#9c179e\"],[0.4444444444444444,\"#bd3786\"],[0.5555555555555556,\"#d8576b\"],[0.6666666666666666,\"#ed7953\"],[0.7777777777777778,\"#fb9f3a\"],[0.8888888888888888,\"#fdca26\"],[1.0,\"#f0f921\"]]}],\"surface\":[{\"type\":\"surface\",\"colorbar\":{\"outlinewidth\":0,\"ticks\":\"\"},\"colorscale\":[[0.0,\"#0d0887\"],[0.1111111111111111,\"#46039f\"],[0.2222222222222222,\"#7201a8\"],[0.3333333333333333,\"#9c179e\"],[0.4444444444444444,\"#bd3786\"],[0.5555555555555556,\"#d8576b\"],[0.6666666666666666,\"#ed7953\"],[0.7777777777777778,\"#fb9f3a\"],[0.8888888888888888,\"#fdca26\"],[1.0,\"#f0f921\"]]}],\"mesh3d\":[{\"type\":\"mesh3d\",\"colorbar\":{\"outlinewidth\":0,\"ticks\":\"\"}}],\"scatter\":[{\"fillpattern\":{\"fillmode\":\"overlay\",\"size\":10,\"solidity\":0.2},\"type\":\"scatter\"}],\"parcoords\":[{\"type\":\"parcoords\",\"line\":{\"colorbar\":{\"outlinewidth\":0,\"ticks\":\"\"}}}],\"scatterpolargl\":[{\"type\":\"scatterpolargl\",\"marker\":{\"colorbar\":{\"outlinewidth\":0,\"ticks\":\"\"}}}],\"bar\":[{\"error_x\":{\"color\":\"#2a3f5f\"},\"error_y\":{\"color\":\"#2a3f5f\"},\"marker\":{\"line\":{\"color\":\"#E5ECF6\",\"width\":0.5},\"pattern\":{\"fillmode\":\"overlay\",\"size\":10,\"solidity\":0.2}},\"type\":\"bar\"}],\"scattergeo\":[{\"type\":\"scattergeo\",\"marker\":{\"colorbar\":{\"outlinewidth\":0,\"ticks\":\"\"}}}],\"scatterpolar\":[{\"type\":\"scatterpolar\",\"marker\":{\"colorbar\":{\"outlinewidth\":0,\"ticks\":\"\"}}}],\"histogram\":[{\"marker\":{\"pattern\":{\"fillmode\":\"overlay\",\"size\":10,\"solidity\":0.2}},\"type\":\"histogram\"}],\"scattergl\":[{\"type\":\"scattergl\",\"marker\":{\"colorbar\":{\"outlinewidth\":0,\"ticks\":\"\"}}}],\"scatter3d\":[{\"type\":\"scatter3d\",\"line\":{\"colorbar\":{\"outlinewidth\":0,\"ticks\":\"\"}},\"marker\":{\"colorbar\":{\"outlinewidth\":0,\"ticks\":\"\"}}}],\"scattermapbox\":[{\"type\":\"scattermapbox\",\"marker\":{\"colorbar\":{\"outlinewidth\":0,\"ticks\":\"\"}}}],\"scatterternary\":[{\"type\":\"scatterternary\",\"marker\":{\"colorbar\":{\"outlinewidth\":0,\"ticks\":\"\"}}}],\"scattercarpet\":[{\"type\":\"scattercarpet\",\"marker\":{\"colorbar\":{\"outlinewidth\":0,\"ticks\":\"\"}}}],\"carpet\":[{\"aaxis\":{\"endlinecolor\":\"#2a3f5f\",\"gridcolor\":\"white\",\"linecolor\":\"white\",\"minorgridcolor\":\"white\",\"startlinecolor\":\"#2a3f5f\"},\"baxis\":{\"endlinecolor\":\"#2a3f5f\",\"gridcolor\":\"white\",\"linecolor\":\"white\",\"minorgridcolor\":\"white\",\"startlinecolor\":\"#2a3f5f\"},\"type\":\"carpet\"}],\"table\":[{\"cells\":{\"fill\":{\"color\":\"#EBF0F8\"},\"line\":{\"color\":\"white\"}},\"header\":{\"fill\":{\"color\":\"#C8D4E3\"},\"line\":{\"color\":\"white\"}},\"type\":\"table\"}],\"barpolar\":[{\"marker\":{\"line\":{\"color\":\"#E5ECF6\",\"width\":0.5},\"pattern\":{\"fillmode\":\"overlay\",\"size\":10,\"solidity\":0.2}},\"type\":\"barpolar\"}],\"pie\":[{\"automargin\":true,\"type\":\"pie\"}]},\"layout\":{\"autotypenumbers\":\"strict\",\"colorway\":[\"#636efa\",\"#EF553B\",\"#00cc96\",\"#ab63fa\",\"#FFA15A\",\"#19d3f3\",\"#FF6692\",\"#B6E880\",\"#FF97FF\",\"#FECB52\"],\"font\":{\"color\":\"#2a3f5f\"},\"hovermode\":\"closest\",\"hoverlabel\":{\"align\":\"left\"},\"paper_bgcolor\":\"white\",\"plot_bgcolor\":\"#E5ECF6\",\"polar\":{\"bgcolor\":\"#E5ECF6\",\"angularaxis\":{\"gridcolor\":\"white\",\"linecolor\":\"white\",\"ticks\":\"\"},\"radialaxis\":{\"gridcolor\":\"white\",\"linecolor\":\"white\",\"ticks\":\"\"}},\"ternary\":{\"bgcolor\":\"#E5ECF6\",\"aaxis\":{\"gridcolor\":\"white\",\"linecolor\":\"white\",\"ticks\":\"\"},\"baxis\":{\"gridcolor\":\"white\",\"linecolor\":\"white\",\"ticks\":\"\"},\"caxis\":{\"gridcolor\":\"white\",\"linecolor\":\"white\",\"ticks\":\"\"}},\"coloraxis\":{\"colorbar\":{\"outlinewidth\":0,\"ticks\":\"\"}},\"colorscale\":{\"sequential\":[[0.0,\"#0d0887\"],[0.1111111111111111,\"#46039f\"],[0.2222222222222222,\"#7201a8\"],[0.3333333333333333,\"#9c179e\"],[0.4444444444444444,\"#bd3786\"],[0.5555555555555556,\"#d8576b\"],[0.6666666666666666,\"#ed7953\"],[0.7777777777777778,\"#fb9f3a\"],[0.8888888888888888,\"#fdca26\"],[1.0,\"#f0f921\"]],\"sequentialminus\":[[0.0,\"#0d0887\"],[0.1111111111111111,\"#46039f\"],[0.2222222222222222,\"#7201a8\"],[0.3333333333333333,\"#9c179e\"],[0.4444444444444444,\"#bd3786\"],[0.5555555555555556,\"#d8576b\"],[0.6666666666666666,\"#ed7953\"],[0.7777777777777778,\"#fb9f3a\"],[0.8888888888888888,\"#fdca26\"],[1.0,\"#f0f921\"]],\"diverging\":[[0,\"#8e0152\"],[0.1,\"#c51b7d\"],[0.2,\"#de77ae\"],[0.3,\"#f1b6da\"],[0.4,\"#fde0ef\"],[0.5,\"#f7f7f7\"],[0.6,\"#e6f5d0\"],[0.7,\"#b8e186\"],[0.8,\"#7fbc41\"],[0.9,\"#4d9221\"],[1,\"#276419\"]]},\"xaxis\":{\"gridcolor\":\"white\",\"linecolor\":\"white\",\"ticks\":\"\",\"title\":{\"standoff\":15},\"zerolinecolor\":\"white\",\"automargin\":true,\"zerolinewidth\":2},\"yaxis\":{\"gridcolor\":\"white\",\"linecolor\":\"white\",\"ticks\":\"\",\"title\":{\"standoff\":15},\"zerolinecolor\":\"white\",\"automargin\":true,\"zerolinewidth\":2},\"scene\":{\"xaxis\":{\"backgroundcolor\":\"#E5ECF6\",\"gridcolor\":\"white\",\"linecolor\":\"white\",\"showbackground\":true,\"ticks\":\"\",\"zerolinecolor\":\"white\",\"gridwidth\":2},\"yaxis\":{\"backgroundcolor\":\"#E5ECF6\",\"gridcolor\":\"white\",\"linecolor\":\"white\",\"showbackground\":true,\"ticks\":\"\",\"zerolinecolor\":\"white\",\"gridwidth\":2},\"zaxis\":{\"backgroundcolor\":\"#E5ECF6\",\"gridcolor\":\"white\",\"linecolor\":\"white\",\"showbackground\":true,\"ticks\":\"\",\"zerolinecolor\":\"white\",\"gridwidth\":2}},\"shapedefaults\":{\"line\":{\"color\":\"#2a3f5f\"}},\"annotationdefaults\":{\"arrowcolor\":\"#2a3f5f\",\"arrowhead\":0,\"arrowwidth\":1},\"geo\":{\"bgcolor\":\"white\",\"landcolor\":\"#E5ECF6\",\"subunitcolor\":\"white\",\"showland\":true,\"showlakes\":true,\"lakecolor\":\"white\"},\"title\":{\"x\":0.05},\"mapbox\":{\"style\":\"light\"}}},\"xaxis\":{\"anchor\":\"y\",\"domain\":[0.0,0.49],\"title\":{\"text\":\"Attrition Flag\"},\"categoryorder\":\"array\",\"categoryarray\":[\"Existing Customer\",\"Attrited Customer\"]},\"yaxis\":{\"anchor\":\"x\",\"domain\":[0.0,1.0],\"title\":{\"text\":\"Count\"}},\"xaxis2\":{\"anchor\":\"y2\",\"domain\":[0.51,1.0],\"matches\":\"x\",\"title\":{\"text\":\"Attrition_Flag\"},\"categoryorder\":\"array\",\"categoryarray\":[\"Existing Customer\",\"Attrited Customer\"]},\"yaxis2\":{\"anchor\":\"x2\",\"domain\":[0.0,1.0],\"matches\":\"y\",\"showticklabels\":false},\"annotations\":[{\"showarrow\":false,\"text\":\"Gender=F\",\"x\":0.245,\"xanchor\":\"center\",\"xref\":\"paper\",\"y\":1.0,\"yanchor\":\"bottom\",\"yref\":\"paper\"},{\"showarrow\":false,\"text\":\"Gender=M\",\"x\":0.755,\"xanchor\":\"center\",\"xref\":\"paper\",\"y\":1.0,\"yanchor\":\"bottom\",\"yref\":\"paper\"},{\"font\":{\"size\":10},\"showarrow\":false,\"text\":\"Female Attrition Rate: 17.36%\\u003cbr\\u003eMale Attrition Rate: 14.6%\\u003cbr\\u003e\\u003cbr\\u003eOverall 2.76% difference\",\"x\":1.12,\"xref\":\"paper\",\"y\":0.8,\"yref\":\"paper\"}],\"legend\":{\"title\":{\"text\":\"Attrition_Flag\"},\"tracegroupgap\":0},\"margin\":{\"t\":60},\"barmode\":\"relative\",\"title\":{\"text\":\"Attrition by Gender\"}},                        {\"responsive\": true}                    ).then(function(){\n",
       "                            \n",
       "var gd = document.getElementById('4d6fcb07-7bc4-4946-acc5-2f55ca80b551');\n",
       "var x = new MutationObserver(function (mutations, observer) {{\n",
       "        var display = window.getComputedStyle(gd).display;\n",
       "        if (!display || display === 'none') {{\n",
       "            console.log([gd, 'removed!']);\n",
       "            Plotly.purge(gd);\n",
       "            observer.disconnect();\n",
       "        }}\n",
       "}});\n",
       "\n",
       "// Listen for the removal of the full notebook cells\n",
       "var notebookContainer = gd.closest('#notebook-container');\n",
       "if (notebookContainer) {{\n",
       "    x.observe(notebookContainer, {childList: true});\n",
       "}}\n",
       "\n",
       "// Listen for the clearing of the current output cell\n",
       "var outputEl = gd.closest('.output');\n",
       "if (outputEl) {{\n",
       "    x.observe(outputEl, {childList: true});\n",
       "}}\n",
       "\n",
       "                        })                };                });            </script>        </div>"
      ]
     },
     "metadata": {},
     "output_type": "display_data"
    }
   ],
   "source": [
    "# Craeting a dataframe  with the gender and attrition flag to find ratio and percentage of churn by M/F\n",
    "Attrition_by_Gender = df.groupby(['Gender','Attrition_Flag']).size()\n",
    "Attrition_by_Gender = Attrition_by_Gender.reset_index(name=\"Count\")\n",
    "\n",
    "fig = px.bar(Attrition_by_Gender, x='Attrition_Flag', y='Count', color='Attrition_Flag', facet_col='Gender',\n",
    "            category_orders={'Attrition_Flag': ['Existing Customer', 'Attrited Customer']})\n",
    "\n",
    "fig.update_layout(title_text='Attrition by Gender',\n",
    "                  xaxis_title='Attrition Flag',\n",
    "                  yaxis_title='Count')\n",
    "\n",
    "annotation_text = \"Female Attrition Rate: 17.36%<br>\"\n",
    "annotation_text += \"Male Attrition Rate: 14.6%<br><br>\"\n",
    "annotation_text += \"Overall 2.76% difference\"\n",
    "\n",
    "fig.add_annotation(text=annotation_text,\n",
    "                   xref=\"paper\", yref=\"paper\",\n",
    "                   x=1.12, y=0.8,\n",
    "                   showarrow=False,\n",
    "                   font=dict(size=10))\n",
    "\n",
    "fig.show()"
   ]
  },
  {
   "cell_type": "markdown",
   "id": "b5c9a6cc",
   "metadata": {
    "papermill": {
     "duration": 0.010923,
     "end_time": "2023-08-26T02:23:16.667720",
     "exception": false,
     "start_time": "2023-08-26T02:23:16.656797",
     "status": "completed"
    },
    "tags": []
   },
   "source": [
    "**Quick Analysis:**\n",
    "Women are more likely to attrit then men are in every category except the Silver Card Category. Most interesting \n",
    "is that in the Platinum category we see almost 50% of women leave the category versus men are more likely to stay with only a 9% attrition\n",
    "percentage. In summary, the analysis indicates a slightly higher attrition rate among women compared to men, with a marginal difference of 3%.\n",
    "\n",
    "<strong>Attrition Percentage By Card Category - Gender</strong>\n",
    "\n",
    "| Blue        |     Gold    | Platinum      |  Silver |\n",
    "| :---        |    :----:   |         :---: |    ---:\n",
    "| F  17%     | F  21%     | F 44%  |  F 13% |\n",
    "| M  14% | M    16%    | M 9%    |   M 15.7% |\n",
    "\n",
    "<br>**Question is**: What are the benefits to being a part of each Card Category?<br>\n"
   ]
  },
  {
   "cell_type": "markdown",
   "id": "a09a44af",
   "metadata": {
    "papermill": {
     "duration": 0.010993,
     "end_time": "2023-08-26T02:23:16.689977",
     "exception": false,
     "start_time": "2023-08-26T02:23:16.678984",
     "status": "completed"
    },
    "tags": []
   },
   "source": [
    "* F    5358\n",
    "* M    4769"
   ]
  },
  {
   "cell_type": "code",
   "execution_count": 10,
   "id": "594722ca",
   "metadata": {
    "_kg_hide-input": true,
    "_kg_hide-output": true,
    "collapsed": true,
    "execution": {
     "iopub.execute_input": "2023-08-26T02:23:16.714941Z",
     "iopub.status.busy": "2023-08-26T02:23:16.714123Z",
     "iopub.status.idle": "2023-08-26T02:23:16.723781Z",
     "shell.execute_reply": "2023-08-26T02:23:16.722539Z"
    },
    "jupyter": {
     "outputs_hidden": true,
     "source_hidden": true
    },
    "papermill": {
     "duration": 0.025301,
     "end_time": "2023-08-26T02:23:16.726475",
     "exception": false,
     "start_time": "2023-08-26T02:23:16.701174",
     "status": "completed"
    },
    "tags": []
   },
   "outputs": [
    {
     "data": {
      "text/plain": [
       "CLIENTNUM                     int64\n",
       "Attrition_Flag               object\n",
       "Customer_Age                  int64\n",
       "Gender                       object\n",
       "Dependent_count               int64\n",
       "Education_Level              object\n",
       "Marital_Status               object\n",
       "Income_Category              object\n",
       "Card_Category                object\n",
       "Months_on_book                int64\n",
       "Total_Relationship_Count      int64\n",
       "Months_Inactive_12_mon        int64\n",
       "Contacts_Count_12_mon         int64\n",
       "Credit_Limit                float64\n",
       "Total_Revolving_Bal           int64\n",
       "Avg_Open_To_Buy             float64\n",
       "Total_Amt_Chng_Q4_Q1        float64\n",
       "Total_Trans_Amt               int64\n",
       "Total_Trans_Ct                int64\n",
       "Total_Ct_Chng_Q4_Q1         float64\n",
       "Avg_Utilization_Ratio       float64\n",
       "dtype: object"
      ]
     },
     "execution_count": 10,
     "metadata": {},
     "output_type": "execute_result"
    }
   ],
   "source": [
    "df.dtypes"
   ]
  },
  {
   "cell_type": "code",
   "execution_count": 11,
   "id": "7fcd7019",
   "metadata": {
    "_kg_hide-input": true,
    "execution": {
     "iopub.execute_input": "2023-08-26T02:23:16.751465Z",
     "iopub.status.busy": "2023-08-26T02:23:16.750997Z",
     "iopub.status.idle": "2023-08-26T02:23:16.775899Z",
     "shell.execute_reply": "2023-08-26T02:23:16.774706Z"
    },
    "papermill": {
     "duration": 0.040395,
     "end_time": "2023-08-26T02:23:16.778358",
     "exception": false,
     "start_time": "2023-08-26T02:23:16.737963",
     "status": "completed"
    },
    "tags": []
   },
   "outputs": [
    {
     "data": {
      "text/html": [
       "<div>\n",
       "<style scoped>\n",
       "    .dataframe tbody tr th:only-of-type {\n",
       "        vertical-align: middle;\n",
       "    }\n",
       "\n",
       "    .dataframe tbody tr th {\n",
       "        vertical-align: top;\n",
       "    }\n",
       "\n",
       "    .dataframe thead th {\n",
       "        text-align: right;\n",
       "    }\n",
       "</style>\n",
       "<table border=\"1\" class=\"dataframe\">\n",
       "  <thead>\n",
       "    <tr style=\"text-align: right;\">\n",
       "      <th></th>\n",
       "      <th>Income_Category</th>\n",
       "      <th>Attrition_Flag</th>\n",
       "      <th>Count</th>\n",
       "    </tr>\n",
       "  </thead>\n",
       "  <tbody>\n",
       "    <tr>\n",
       "      <th>0</th>\n",
       "      <td>$120K +</td>\n",
       "      <td>Attrited Customer</td>\n",
       "      <td>126</td>\n",
       "    </tr>\n",
       "    <tr>\n",
       "      <th>1</th>\n",
       "      <td>$120K +</td>\n",
       "      <td>Existing Customer</td>\n",
       "      <td>601</td>\n",
       "    </tr>\n",
       "    <tr>\n",
       "      <th>2</th>\n",
       "      <td>$40K - $60K</td>\n",
       "      <td>Attrited Customer</td>\n",
       "      <td>271</td>\n",
       "    </tr>\n",
       "    <tr>\n",
       "      <th>3</th>\n",
       "      <td>$40K - $60K</td>\n",
       "      <td>Existing Customer</td>\n",
       "      <td>1519</td>\n",
       "    </tr>\n",
       "    <tr>\n",
       "      <th>4</th>\n",
       "      <td>$60K - $80K</td>\n",
       "      <td>Attrited Customer</td>\n",
       "      <td>189</td>\n",
       "    </tr>\n",
       "    <tr>\n",
       "      <th>5</th>\n",
       "      <td>$60K - $80K</td>\n",
       "      <td>Existing Customer</td>\n",
       "      <td>1213</td>\n",
       "    </tr>\n",
       "    <tr>\n",
       "      <th>6</th>\n",
       "      <td>$80K - $120K</td>\n",
       "      <td>Attrited Customer</td>\n",
       "      <td>242</td>\n",
       "    </tr>\n",
       "    <tr>\n",
       "      <th>7</th>\n",
       "      <td>$80K - $120K</td>\n",
       "      <td>Existing Customer</td>\n",
       "      <td>1293</td>\n",
       "    </tr>\n",
       "    <tr>\n",
       "      <th>8</th>\n",
       "      <td>Less than $40K</td>\n",
       "      <td>Attrited Customer</td>\n",
       "      <td>612</td>\n",
       "    </tr>\n",
       "    <tr>\n",
       "      <th>9</th>\n",
       "      <td>Less than $40K</td>\n",
       "      <td>Existing Customer</td>\n",
       "      <td>2949</td>\n",
       "    </tr>\n",
       "  </tbody>\n",
       "</table>\n",
       "</div>"
      ],
      "text/plain": [
       "  Income_Category     Attrition_Flag  Count\n",
       "0         $120K +  Attrited Customer    126\n",
       "1         $120K +  Existing Customer    601\n",
       "2     $40K - $60K  Attrited Customer    271\n",
       "3     $40K - $60K  Existing Customer   1519\n",
       "4     $60K - $80K  Attrited Customer    189\n",
       "5     $60K - $80K  Existing Customer   1213\n",
       "6    $80K - $120K  Attrited Customer    242\n",
       "7    $80K - $120K  Existing Customer   1293\n",
       "8  Less than $40K  Attrited Customer    612\n",
       "9  Less than $40K  Existing Customer   2949"
      ]
     },
     "execution_count": 11,
     "metadata": {},
     "output_type": "execute_result"
    }
   ],
   "source": [
    "# Remove the Unkown Variable\n",
    "Attrition_by_Income = df[df['Income_Category']!='Unknown']\n",
    "\n",
    "Attrition_by_Income = Attrition_by_Income.groupby(['Income_Category','Attrition_Flag']).size()\n",
    "Attrition_by_Income = Attrition_by_Income.reset_index(name=\"Count\")\n",
    "Attrition_by_Income"
   ]
  },
  {
   "cell_type": "code",
   "execution_count": 12,
   "id": "c4325e96",
   "metadata": {
    "_kg_hide-input": true,
    "execution": {
     "iopub.execute_input": "2023-08-26T02:23:16.804406Z",
     "iopub.status.busy": "2023-08-26T02:23:16.803965Z",
     "iopub.status.idle": "2023-08-26T02:23:16.977295Z",
     "shell.execute_reply": "2023-08-26T02:23:16.976157Z"
    },
    "papermill": {
     "duration": 0.189534,
     "end_time": "2023-08-26T02:23:16.980032",
     "exception": false,
     "start_time": "2023-08-26T02:23:16.790498",
     "status": "completed"
    },
    "tags": []
   },
   "outputs": [
    {
     "data": {
      "text/html": [
       "<div>                            <div id=\"87123c1d-0f2e-4d7e-ba79-d144dd702f06\" class=\"plotly-graph-div\" style=\"height:500px; width:1100px;\"></div>            <script type=\"text/javascript\">                require([\"plotly\"], function(Plotly) {                    window.PLOTLYENV=window.PLOTLYENV || {};                                    if (document.getElementById(\"87123c1d-0f2e-4d7e-ba79-d144dd702f06\")) {                    Plotly.newPlot(                        \"87123c1d-0f2e-4d7e-ba79-d144dd702f06\",                        [{\"alignmentgroup\":\"True\",\"hovertemplate\":\"Attrition_Flag=%{x}\\u003cbr\\u003eIncome_Category=$120K +\\u003cbr\\u003eCount=%{y}\\u003cextra\\u003e\\u003c\\u002fextra\\u003e\",\"legendgroup\":\"Existing Customer\",\"marker\":{\"color\":\"#1f77b4\",\"pattern\":{\"shape\":\"\"}},\"name\":\"Existing Customer\",\"offsetgroup\":\"Existing Customer\",\"orientation\":\"v\",\"showlegend\":true,\"textposition\":\"auto\",\"x\":[\"Existing Customer\"],\"xaxis\":\"x\",\"y\":[601],\"yaxis\":\"y\",\"type\":\"bar\"},{\"alignmentgroup\":\"True\",\"hovertemplate\":\"Attrition_Flag=%{x}\\u003cbr\\u003eIncome_Category=$40K - $60K\\u003cbr\\u003eCount=%{y}\\u003cextra\\u003e\\u003c\\u002fextra\\u003e\",\"legendgroup\":\"Existing Customer\",\"marker\":{\"color\":\"#1f77b4\",\"pattern\":{\"shape\":\"\"}},\"name\":\"Existing Customer\",\"offsetgroup\":\"Existing Customer\",\"orientation\":\"v\",\"showlegend\":false,\"textposition\":\"auto\",\"x\":[\"Existing Customer\"],\"xaxis\":\"x2\",\"y\":[1519],\"yaxis\":\"y2\",\"type\":\"bar\"},{\"alignmentgroup\":\"True\",\"hovertemplate\":\"Attrition_Flag=%{x}\\u003cbr\\u003eIncome_Category=$60K - $80K\\u003cbr\\u003eCount=%{y}\\u003cextra\\u003e\\u003c\\u002fextra\\u003e\",\"legendgroup\":\"Existing Customer\",\"marker\":{\"color\":\"#1f77b4\",\"pattern\":{\"shape\":\"\"}},\"name\":\"Existing Customer\",\"offsetgroup\":\"Existing Customer\",\"orientation\":\"v\",\"showlegend\":false,\"textposition\":\"auto\",\"x\":[\"Existing Customer\"],\"xaxis\":\"x3\",\"y\":[1213],\"yaxis\":\"y3\",\"type\":\"bar\"},{\"alignmentgroup\":\"True\",\"hovertemplate\":\"Attrition_Flag=%{x}\\u003cbr\\u003eIncome_Category=$80K - $120K\\u003cbr\\u003eCount=%{y}\\u003cextra\\u003e\\u003c\\u002fextra\\u003e\",\"legendgroup\":\"Existing Customer\",\"marker\":{\"color\":\"#1f77b4\",\"pattern\":{\"shape\":\"\"}},\"name\":\"Existing Customer\",\"offsetgroup\":\"Existing Customer\",\"orientation\":\"v\",\"showlegend\":false,\"textposition\":\"auto\",\"x\":[\"Existing Customer\"],\"xaxis\":\"x4\",\"y\":[1293],\"yaxis\":\"y4\",\"type\":\"bar\"},{\"alignmentgroup\":\"True\",\"hovertemplate\":\"Attrition_Flag=%{x}\\u003cbr\\u003eIncome_Category=Less than $40K\\u003cbr\\u003eCount=%{y}\\u003cextra\\u003e\\u003c\\u002fextra\\u003e\",\"legendgroup\":\"Existing Customer\",\"marker\":{\"color\":\"#1f77b4\",\"pattern\":{\"shape\":\"\"}},\"name\":\"Existing Customer\",\"offsetgroup\":\"Existing Customer\",\"orientation\":\"v\",\"showlegend\":false,\"textposition\":\"auto\",\"x\":[\"Existing Customer\"],\"xaxis\":\"x5\",\"y\":[2949],\"yaxis\":\"y5\",\"type\":\"bar\"},{\"alignmentgroup\":\"True\",\"hovertemplate\":\"Attrition_Flag=%{x}\\u003cbr\\u003eIncome_Category=$120K +\\u003cbr\\u003eCount=%{y}\\u003cextra\\u003e\\u003c\\u002fextra\\u003e\",\"legendgroup\":\"Attrited Customer\",\"marker\":{\"color\":\"#ff7f0e\",\"pattern\":{\"shape\":\"\"}},\"name\":\"Attrited Customer\",\"offsetgroup\":\"Attrited Customer\",\"orientation\":\"v\",\"showlegend\":true,\"textposition\":\"auto\",\"x\":[\"Attrited Customer\"],\"xaxis\":\"x\",\"y\":[126],\"yaxis\":\"y\",\"type\":\"bar\"},{\"alignmentgroup\":\"True\",\"hovertemplate\":\"Attrition_Flag=%{x}\\u003cbr\\u003eIncome_Category=$40K - $60K\\u003cbr\\u003eCount=%{y}\\u003cextra\\u003e\\u003c\\u002fextra\\u003e\",\"legendgroup\":\"Attrited Customer\",\"marker\":{\"color\":\"#ff7f0e\",\"pattern\":{\"shape\":\"\"}},\"name\":\"Attrited Customer\",\"offsetgroup\":\"Attrited Customer\",\"orientation\":\"v\",\"showlegend\":false,\"textposition\":\"auto\",\"x\":[\"Attrited Customer\"],\"xaxis\":\"x2\",\"y\":[271],\"yaxis\":\"y2\",\"type\":\"bar\"},{\"alignmentgroup\":\"True\",\"hovertemplate\":\"Attrition_Flag=%{x}\\u003cbr\\u003eIncome_Category=$60K - $80K\\u003cbr\\u003eCount=%{y}\\u003cextra\\u003e\\u003c\\u002fextra\\u003e\",\"legendgroup\":\"Attrited Customer\",\"marker\":{\"color\":\"#ff7f0e\",\"pattern\":{\"shape\":\"\"}},\"name\":\"Attrited Customer\",\"offsetgroup\":\"Attrited Customer\",\"orientation\":\"v\",\"showlegend\":false,\"textposition\":\"auto\",\"x\":[\"Attrited Customer\"],\"xaxis\":\"x3\",\"y\":[189],\"yaxis\":\"y3\",\"type\":\"bar\"},{\"alignmentgroup\":\"True\",\"hovertemplate\":\"Attrition_Flag=%{x}\\u003cbr\\u003eIncome_Category=$80K - $120K\\u003cbr\\u003eCount=%{y}\\u003cextra\\u003e\\u003c\\u002fextra\\u003e\",\"legendgroup\":\"Attrited Customer\",\"marker\":{\"color\":\"#ff7f0e\",\"pattern\":{\"shape\":\"\"}},\"name\":\"Attrited Customer\",\"offsetgroup\":\"Attrited Customer\",\"orientation\":\"v\",\"showlegend\":false,\"textposition\":\"auto\",\"x\":[\"Attrited Customer\"],\"xaxis\":\"x4\",\"y\":[242],\"yaxis\":\"y4\",\"type\":\"bar\"},{\"alignmentgroup\":\"True\",\"hovertemplate\":\"Attrition_Flag=%{x}\\u003cbr\\u003eIncome_Category=Less than $40K\\u003cbr\\u003eCount=%{y}\\u003cextra\\u003e\\u003c\\u002fextra\\u003e\",\"legendgroup\":\"Attrited Customer\",\"marker\":{\"color\":\"#ff7f0e\",\"pattern\":{\"shape\":\"\"}},\"name\":\"Attrited Customer\",\"offsetgroup\":\"Attrited Customer\",\"orientation\":\"v\",\"showlegend\":false,\"textposition\":\"auto\",\"x\":[\"Attrited Customer\"],\"xaxis\":\"x5\",\"y\":[612],\"yaxis\":\"y5\",\"type\":\"bar\"}],                        {\"template\":{\"data\":{\"histogram2dcontour\":[{\"type\":\"histogram2dcontour\",\"colorbar\":{\"outlinewidth\":0,\"ticks\":\"\"},\"colorscale\":[[0.0,\"#0d0887\"],[0.1111111111111111,\"#46039f\"],[0.2222222222222222,\"#7201a8\"],[0.3333333333333333,\"#9c179e\"],[0.4444444444444444,\"#bd3786\"],[0.5555555555555556,\"#d8576b\"],[0.6666666666666666,\"#ed7953\"],[0.7777777777777778,\"#fb9f3a\"],[0.8888888888888888,\"#fdca26\"],[1.0,\"#f0f921\"]]}],\"choropleth\":[{\"type\":\"choropleth\",\"colorbar\":{\"outlinewidth\":0,\"ticks\":\"\"}}],\"histogram2d\":[{\"type\":\"histogram2d\",\"colorbar\":{\"outlinewidth\":0,\"ticks\":\"\"},\"colorscale\":[[0.0,\"#0d0887\"],[0.1111111111111111,\"#46039f\"],[0.2222222222222222,\"#7201a8\"],[0.3333333333333333,\"#9c179e\"],[0.4444444444444444,\"#bd3786\"],[0.5555555555555556,\"#d8576b\"],[0.6666666666666666,\"#ed7953\"],[0.7777777777777778,\"#fb9f3a\"],[0.8888888888888888,\"#fdca26\"],[1.0,\"#f0f921\"]]}],\"heatmap\":[{\"type\":\"heatmap\",\"colorbar\":{\"outlinewidth\":0,\"ticks\":\"\"},\"colorscale\":[[0.0,\"#0d0887\"],[0.1111111111111111,\"#46039f\"],[0.2222222222222222,\"#7201a8\"],[0.3333333333333333,\"#9c179e\"],[0.4444444444444444,\"#bd3786\"],[0.5555555555555556,\"#d8576b\"],[0.6666666666666666,\"#ed7953\"],[0.7777777777777778,\"#fb9f3a\"],[0.8888888888888888,\"#fdca26\"],[1.0,\"#f0f921\"]]}],\"heatmapgl\":[{\"type\":\"heatmapgl\",\"colorbar\":{\"outlinewidth\":0,\"ticks\":\"\"},\"colorscale\":[[0.0,\"#0d0887\"],[0.1111111111111111,\"#46039f\"],[0.2222222222222222,\"#7201a8\"],[0.3333333333333333,\"#9c179e\"],[0.4444444444444444,\"#bd3786\"],[0.5555555555555556,\"#d8576b\"],[0.6666666666666666,\"#ed7953\"],[0.7777777777777778,\"#fb9f3a\"],[0.8888888888888888,\"#fdca26\"],[1.0,\"#f0f921\"]]}],\"contourcarpet\":[{\"type\":\"contourcarpet\",\"colorbar\":{\"outlinewidth\":0,\"ticks\":\"\"}}],\"contour\":[{\"type\":\"contour\",\"colorbar\":{\"outlinewidth\":0,\"ticks\":\"\"},\"colorscale\":[[0.0,\"#0d0887\"],[0.1111111111111111,\"#46039f\"],[0.2222222222222222,\"#7201a8\"],[0.3333333333333333,\"#9c179e\"],[0.4444444444444444,\"#bd3786\"],[0.5555555555555556,\"#d8576b\"],[0.6666666666666666,\"#ed7953\"],[0.7777777777777778,\"#fb9f3a\"],[0.8888888888888888,\"#fdca26\"],[1.0,\"#f0f921\"]]}],\"surface\":[{\"type\":\"surface\",\"colorbar\":{\"outlinewidth\":0,\"ticks\":\"\"},\"colorscale\":[[0.0,\"#0d0887\"],[0.1111111111111111,\"#46039f\"],[0.2222222222222222,\"#7201a8\"],[0.3333333333333333,\"#9c179e\"],[0.4444444444444444,\"#bd3786\"],[0.5555555555555556,\"#d8576b\"],[0.6666666666666666,\"#ed7953\"],[0.7777777777777778,\"#fb9f3a\"],[0.8888888888888888,\"#fdca26\"],[1.0,\"#f0f921\"]]}],\"mesh3d\":[{\"type\":\"mesh3d\",\"colorbar\":{\"outlinewidth\":0,\"ticks\":\"\"}}],\"scatter\":[{\"fillpattern\":{\"fillmode\":\"overlay\",\"size\":10,\"solidity\":0.2},\"type\":\"scatter\"}],\"parcoords\":[{\"type\":\"parcoords\",\"line\":{\"colorbar\":{\"outlinewidth\":0,\"ticks\":\"\"}}}],\"scatterpolargl\":[{\"type\":\"scatterpolargl\",\"marker\":{\"colorbar\":{\"outlinewidth\":0,\"ticks\":\"\"}}}],\"bar\":[{\"error_x\":{\"color\":\"#2a3f5f\"},\"error_y\":{\"color\":\"#2a3f5f\"},\"marker\":{\"line\":{\"color\":\"#E5ECF6\",\"width\":0.5},\"pattern\":{\"fillmode\":\"overlay\",\"size\":10,\"solidity\":0.2}},\"type\":\"bar\"}],\"scattergeo\":[{\"type\":\"scattergeo\",\"marker\":{\"colorbar\":{\"outlinewidth\":0,\"ticks\":\"\"}}}],\"scatterpolar\":[{\"type\":\"scatterpolar\",\"marker\":{\"colorbar\":{\"outlinewidth\":0,\"ticks\":\"\"}}}],\"histogram\":[{\"marker\":{\"pattern\":{\"fillmode\":\"overlay\",\"size\":10,\"solidity\":0.2}},\"type\":\"histogram\"}],\"scattergl\":[{\"type\":\"scattergl\",\"marker\":{\"colorbar\":{\"outlinewidth\":0,\"ticks\":\"\"}}}],\"scatter3d\":[{\"type\":\"scatter3d\",\"line\":{\"colorbar\":{\"outlinewidth\":0,\"ticks\":\"\"}},\"marker\":{\"colorbar\":{\"outlinewidth\":0,\"ticks\":\"\"}}}],\"scattermapbox\":[{\"type\":\"scattermapbox\",\"marker\":{\"colorbar\":{\"outlinewidth\":0,\"ticks\":\"\"}}}],\"scatterternary\":[{\"type\":\"scatterternary\",\"marker\":{\"colorbar\":{\"outlinewidth\":0,\"ticks\":\"\"}}}],\"scattercarpet\":[{\"type\":\"scattercarpet\",\"marker\":{\"colorbar\":{\"outlinewidth\":0,\"ticks\":\"\"}}}],\"carpet\":[{\"aaxis\":{\"endlinecolor\":\"#2a3f5f\",\"gridcolor\":\"white\",\"linecolor\":\"white\",\"minorgridcolor\":\"white\",\"startlinecolor\":\"#2a3f5f\"},\"baxis\":{\"endlinecolor\":\"#2a3f5f\",\"gridcolor\":\"white\",\"linecolor\":\"white\",\"minorgridcolor\":\"white\",\"startlinecolor\":\"#2a3f5f\"},\"type\":\"carpet\"}],\"table\":[{\"cells\":{\"fill\":{\"color\":\"#EBF0F8\"},\"line\":{\"color\":\"white\"}},\"header\":{\"fill\":{\"color\":\"#C8D4E3\"},\"line\":{\"color\":\"white\"}},\"type\":\"table\"}],\"barpolar\":[{\"marker\":{\"line\":{\"color\":\"#E5ECF6\",\"width\":0.5},\"pattern\":{\"fillmode\":\"overlay\",\"size\":10,\"solidity\":0.2}},\"type\":\"barpolar\"}],\"pie\":[{\"automargin\":true,\"type\":\"pie\"}]},\"layout\":{\"autotypenumbers\":\"strict\",\"colorway\":[\"#636efa\",\"#EF553B\",\"#00cc96\",\"#ab63fa\",\"#FFA15A\",\"#19d3f3\",\"#FF6692\",\"#B6E880\",\"#FF97FF\",\"#FECB52\"],\"font\":{\"color\":\"#2a3f5f\"},\"hovermode\":\"closest\",\"hoverlabel\":{\"align\":\"left\"},\"paper_bgcolor\":\"white\",\"plot_bgcolor\":\"#E5ECF6\",\"polar\":{\"bgcolor\":\"#E5ECF6\",\"angularaxis\":{\"gridcolor\":\"white\",\"linecolor\":\"white\",\"ticks\":\"\"},\"radialaxis\":{\"gridcolor\":\"white\",\"linecolor\":\"white\",\"ticks\":\"\"}},\"ternary\":{\"bgcolor\":\"#E5ECF6\",\"aaxis\":{\"gridcolor\":\"white\",\"linecolor\":\"white\",\"ticks\":\"\"},\"baxis\":{\"gridcolor\":\"white\",\"linecolor\":\"white\",\"ticks\":\"\"},\"caxis\":{\"gridcolor\":\"white\",\"linecolor\":\"white\",\"ticks\":\"\"}},\"coloraxis\":{\"colorbar\":{\"outlinewidth\":0,\"ticks\":\"\"}},\"colorscale\":{\"sequential\":[[0.0,\"#0d0887\"],[0.1111111111111111,\"#46039f\"],[0.2222222222222222,\"#7201a8\"],[0.3333333333333333,\"#9c179e\"],[0.4444444444444444,\"#bd3786\"],[0.5555555555555556,\"#d8576b\"],[0.6666666666666666,\"#ed7953\"],[0.7777777777777778,\"#fb9f3a\"],[0.8888888888888888,\"#fdca26\"],[1.0,\"#f0f921\"]],\"sequentialminus\":[[0.0,\"#0d0887\"],[0.1111111111111111,\"#46039f\"],[0.2222222222222222,\"#7201a8\"],[0.3333333333333333,\"#9c179e\"],[0.4444444444444444,\"#bd3786\"],[0.5555555555555556,\"#d8576b\"],[0.6666666666666666,\"#ed7953\"],[0.7777777777777778,\"#fb9f3a\"],[0.8888888888888888,\"#fdca26\"],[1.0,\"#f0f921\"]],\"diverging\":[[0,\"#8e0152\"],[0.1,\"#c51b7d\"],[0.2,\"#de77ae\"],[0.3,\"#f1b6da\"],[0.4,\"#fde0ef\"],[0.5,\"#f7f7f7\"],[0.6,\"#e6f5d0\"],[0.7,\"#b8e186\"],[0.8,\"#7fbc41\"],[0.9,\"#4d9221\"],[1,\"#276419\"]]},\"xaxis\":{\"gridcolor\":\"white\",\"linecolor\":\"white\",\"ticks\":\"\",\"title\":{\"standoff\":15},\"zerolinecolor\":\"white\",\"automargin\":true,\"zerolinewidth\":2},\"yaxis\":{\"gridcolor\":\"white\",\"linecolor\":\"white\",\"ticks\":\"\",\"title\":{\"standoff\":15},\"zerolinecolor\":\"white\",\"automargin\":true,\"zerolinewidth\":2},\"scene\":{\"xaxis\":{\"backgroundcolor\":\"#E5ECF6\",\"gridcolor\":\"white\",\"linecolor\":\"white\",\"showbackground\":true,\"ticks\":\"\",\"zerolinecolor\":\"white\",\"gridwidth\":2},\"yaxis\":{\"backgroundcolor\":\"#E5ECF6\",\"gridcolor\":\"white\",\"linecolor\":\"white\",\"showbackground\":true,\"ticks\":\"\",\"zerolinecolor\":\"white\",\"gridwidth\":2},\"zaxis\":{\"backgroundcolor\":\"#E5ECF6\",\"gridcolor\":\"white\",\"linecolor\":\"white\",\"showbackground\":true,\"ticks\":\"\",\"zerolinecolor\":\"white\",\"gridwidth\":2}},\"shapedefaults\":{\"line\":{\"color\":\"#2a3f5f\"}},\"annotationdefaults\":{\"arrowcolor\":\"#2a3f5f\",\"arrowhead\":0,\"arrowwidth\":1},\"geo\":{\"bgcolor\":\"white\",\"landcolor\":\"#E5ECF6\",\"subunitcolor\":\"white\",\"showland\":true,\"showlakes\":true,\"lakecolor\":\"white\"},\"title\":{\"x\":0.05},\"mapbox\":{\"style\":\"light\"}}},\"xaxis\":{\"anchor\":\"y\",\"domain\":[0.0,0.18400000000000002],\"title\":{\"text\":\"Attrition\"},\"categoryorder\":\"array\",\"categoryarray\":[\"Existing Customer\",\"Attrited Customer\"]},\"yaxis\":{\"anchor\":\"x\",\"domain\":[0.0,1.0],\"title\":{\"text\":\"Count\"}},\"xaxis2\":{\"anchor\":\"y2\",\"domain\":[0.20400000000000001,0.388],\"matches\":\"x\",\"title\":{\"text\":\"Attrition_Flag\"},\"categoryorder\":\"array\",\"categoryarray\":[\"Existing Customer\",\"Attrited Customer\"]},\"yaxis2\":{\"anchor\":\"x2\",\"domain\":[0.0,1.0],\"matches\":\"y\",\"showticklabels\":false},\"xaxis3\":{\"anchor\":\"y3\",\"domain\":[0.40800000000000003,0.5920000000000001],\"matches\":\"x\",\"title\":{\"text\":\"Attrition_Flag\"},\"categoryorder\":\"array\",\"categoryarray\":[\"Existing Customer\",\"Attrited Customer\"]},\"yaxis3\":{\"anchor\":\"x3\",\"domain\":[0.0,1.0],\"matches\":\"y\",\"showticklabels\":false},\"xaxis4\":{\"anchor\":\"y4\",\"domain\":[0.6120000000000001,0.7960000000000002],\"matches\":\"x\",\"title\":{\"text\":\"Attrition_Flag\"},\"categoryorder\":\"array\",\"categoryarray\":[\"Existing Customer\",\"Attrited Customer\"]},\"yaxis4\":{\"anchor\":\"x4\",\"domain\":[0.0,1.0],\"matches\":\"y\",\"showticklabels\":false},\"xaxis5\":{\"anchor\":\"y5\",\"domain\":[0.8160000000000001,1.0],\"matches\":\"x\",\"title\":{\"text\":\"Attrition_Flag\"},\"categoryorder\":\"array\",\"categoryarray\":[\"Existing Customer\",\"Attrited Customer\"]},\"yaxis5\":{\"anchor\":\"x5\",\"domain\":[0.0,1.0],\"matches\":\"y\",\"showticklabels\":false},\"annotations\":[{\"showarrow\":false,\"text\":\"$120K +\",\"x\":0.09200000000000001,\"xanchor\":\"center\",\"xref\":\"paper\",\"y\":1.0,\"yanchor\":\"bottom\",\"yref\":\"paper\"},{\"showarrow\":false,\"text\":\"$40K - 60K\",\"x\":0.29600000000000004,\"xanchor\":\"center\",\"xref\":\"paper\",\"y\":1.0,\"yanchor\":\"bottom\",\"yref\":\"paper\"},{\"showarrow\":false,\"text\":\"$60K - 80K\",\"x\":0.5,\"xanchor\":\"center\",\"xref\":\"paper\",\"y\":1.0,\"yanchor\":\"bottom\",\"yref\":\"paper\"},{\"showarrow\":false,\"text\":\"$80K - 120K\",\"x\":0.7040000000000002,\"xanchor\":\"center\",\"xref\":\"paper\",\"y\":1.0,\"yanchor\":\"bottom\",\"yref\":\"paper\"},{\"showarrow\":false,\"text\":\"Income_Category=Less than $40K\",\"x\":0.908,\"xanchor\":\"center\",\"xref\":\"paper\",\"y\":1.0,\"yanchor\":\"bottom\",\"yref\":\"paper\"},{\"font\":{\"size\":10},\"showarrow\":false,\"text\":\"120K+ Attrition Rate: 20.96%\\u003cbr\\u003e$40K - 60K Attrition Rate: 17.77%\\u003cbr\\u003e\",\"x\":1.23,\"xref\":\"paper\",\"y\":0.5,\"yref\":\"paper\"}],\"legend\":{\"title\":{\"text\":\"Attrition_Flag\"},\"tracegroupgap\":0},\"margin\":{\"t\":60},\"barmode\":\"relative\",\"title\":{\"text\":\"Attrition by Gender\"},\"width\":1100,\"height\":500},                        {\"responsive\": true}                    ).then(function(){\n",
       "                            \n",
       "var gd = document.getElementById('87123c1d-0f2e-4d7e-ba79-d144dd702f06');\n",
       "var x = new MutationObserver(function (mutations, observer) {{\n",
       "        var display = window.getComputedStyle(gd).display;\n",
       "        if (!display || display === 'none') {{\n",
       "            console.log([gd, 'removed!']);\n",
       "            Plotly.purge(gd);\n",
       "            observer.disconnect();\n",
       "        }}\n",
       "}});\n",
       "\n",
       "// Listen for the removal of the full notebook cells\n",
       "var notebookContainer = gd.closest('#notebook-container');\n",
       "if (notebookContainer) {{\n",
       "    x.observe(notebookContainer, {childList: true});\n",
       "}}\n",
       "\n",
       "// Listen for the clearing of the current output cell\n",
       "var outputEl = gd.closest('.output');\n",
       "if (outputEl) {{\n",
       "    x.observe(outputEl, {childList: true});\n",
       "}}\n",
       "\n",
       "                        })                };                });            </script>        </div>"
      ]
     },
     "metadata": {},
     "output_type": "display_data"
    }
   ],
   "source": [
    "# Attrition Bar Graph By Income Category\n",
    "\n",
    "custom_color_scale = ['#1f77b4', '#ff7f0e']\n",
    "\n",
    "\n",
    "fig = px.bar(Attrition_by_Income, x='Attrition_Flag', y='Count',color='Attrition_Flag',\n",
    "             facet_col='Income_Category',\n",
    "            category_orders={'Attrition_Flag': ['Existing Customer', 'Attrited Customer']},\n",
    "            color_discrete_sequence=custom_color_scale)\n",
    "\n",
    "\n",
    "\n",
    "fig.update_layout(title_text='Attrition by Gender',\n",
    "                  xaxis_title='Attrition',\n",
    "                  yaxis_title='Count',\n",
    "                  width=1100,  # Set the width of the plot\n",
    "                  height=500 ) # Set the height of the plot)\n",
    "\n",
    "facet_col_labels = ['$120K +', '$40K - 60K', '$60K - 80K', '$80K - 120K']\n",
    "\n",
    "# Set facet subplot labels\n",
    "for i, label in enumerate(facet_col_labels):\n",
    "    fig['layout']['annotations'][i]['text'] = label\n",
    "\n",
    "annotation_text = \"120K+ Attrition Rate: 20.96%<br>\"\n",
    "annotation_text += \"$40K - 60K Attrition Rate: 17.77%<br>\"\n",
    "\n",
    "fig.add_annotation(text=annotation_text,\n",
    "                   xref=\"paper\", yref=\"paper\",\n",
    "                   x=1.23, y=0.5,\n",
    "                   showarrow=False,\n",
    "                   font=dict(size=10))\n",
    "\n",
    "fig.show()\n",
    "\n",
    "#3561 -"
   ]
  },
  {
   "cell_type": "markdown",
   "id": "2adcede2",
   "metadata": {
    "papermill": {
     "duration": 0.013179,
     "end_time": "2023-08-26T02:23:17.006286",
     "exception": false,
     "start_time": "2023-08-26T02:23:16.993107",
     "status": "completed"
    },
    "tags": []
   },
   "source": [
    "# Percentage of Attrition by Income Category\n",
    "| 120K +   |     40K - 60K  | 60K - 80K      |  80K - 120K | Less than $40K\n",
    "| :---     |    :----:      |    :---:       |    :---:     |   ----:\n",
    "|     17.33     |       15.14%     |    13.48%       |   15.77%      |  17.19%\n",
    "\n",
    "<br>\n",
    "The income bracket with the least rate of attition is 60K-80K and the bracket with the highest level of attrition is 120K +. Very close behind trails Less than $40K for the highest attrition.\n",
    "<br>"
   ]
  },
  {
   "cell_type": "code",
   "execution_count": 13,
   "id": "4783eeca",
   "metadata": {
    "execution": {
     "iopub.execute_input": "2023-08-26T02:23:17.036061Z",
     "iopub.status.busy": "2023-08-26T02:23:17.034942Z",
     "iopub.status.idle": "2023-08-26T02:23:17.044193Z",
     "shell.execute_reply": "2023-08-26T02:23:17.042961Z"
    },
    "papermill": {
     "duration": 0.026794,
     "end_time": "2023-08-26T02:23:17.046852",
     "exception": false,
     "start_time": "2023-08-26T02:23:17.020058",
     "status": "completed"
    },
    "tags": []
   },
   "outputs": [
    {
     "data": {
      "text/plain": [
       "array(['Blue', 'Gold', 'Silver', 'Platinum'], dtype=object)"
      ]
     },
     "execution_count": 13,
     "metadata": {},
     "output_type": "execute_result"
    }
   ],
   "source": [
    "df.Card_Category.unique()"
   ]
  },
  {
   "cell_type": "code",
   "execution_count": 14,
   "id": "0d9f86b4",
   "metadata": {
    "_kg_hide-input": true,
    "_kg_hide-output": true,
    "collapsed": true,
    "execution": {
     "iopub.execute_input": "2023-08-26T02:23:17.074723Z",
     "iopub.status.busy": "2023-08-26T02:23:17.074052Z",
     "iopub.status.idle": "2023-08-26T02:23:17.091964Z",
     "shell.execute_reply": "2023-08-26T02:23:17.090240Z"
    },
    "jupyter": {
     "outputs_hidden": true,
     "source_hidden": true
    },
    "papermill": {
     "duration": 0.035249,
     "end_time": "2023-08-26T02:23:17.094944",
     "exception": false,
     "start_time": "2023-08-26T02:23:17.059695",
     "status": "completed"
    },
    "tags": []
   },
   "outputs": [
    {
     "name": "stdout",
     "output_type": "stream",
     "text": [
      "F    5358\n",
      "M    4769\n",
      "Name: Gender, dtype: int64\n",
      "\n",
      "Ratio of men to female:  0.89\n",
      "\n",
      "Total Count:  10127\n",
      "Male:  47.09\n",
      "Female:  52.91\n"
     ]
    }
   ],
   "source": [
    "# Group by customer Age - see if there's a correlation between age and attrition || age and any other column\n",
    "gender_counts= df['Gender'].value_counts()\n",
    "print(gender_counts)\n",
    "\n",
    "# Get the ratio of males to females\n",
    "male_count = gender_counts.get('M')\n",
    "female_count = gender_counts.get('F')\n",
    "ratio = round(male_count/female_count, 2)\n",
    "print('\\nRatio of men to female: ', ratio)\n",
    "\n",
    "# Get the percentage of each \n",
    "total_count = df['Gender'].count()\n",
    "male_perc = round((male_count/total_count)*100,2)\n",
    "female_perc = round((female_count/total_count)*100,2)\n",
    "\n",
    "print('\\nTotal Count: ', total_count)\n",
    "print('Male: ', male_perc)\n",
    "print('Female: ', female_perc)"
   ]
  },
  {
   "cell_type": "markdown",
   "id": "26255795",
   "metadata": {
    "papermill": {
     "duration": 0.012372,
     "end_time": "2023-08-26T02:23:17.120587",
     "exception": false,
     "start_time": "2023-08-26T02:23:17.108215",
     "status": "completed"
    },
    "tags": []
   },
   "source": [
    "Goal - find the attrition between the 'Blue', 'Gold', 'Silver', 'Platinum' category"
   ]
  },
  {
   "cell_type": "code",
   "execution_count": 15,
   "id": "dad5ab05",
   "metadata": {
    "execution": {
     "iopub.execute_input": "2023-08-26T02:23:17.147531Z",
     "iopub.status.busy": "2023-08-26T02:23:17.146746Z",
     "iopub.status.idle": "2023-08-26T02:23:17.211625Z",
     "shell.execute_reply": "2023-08-26T02:23:17.210014Z"
    },
    "papermill": {
     "duration": 0.081531,
     "end_time": "2023-08-26T02:23:17.214446",
     "exception": false,
     "start_time": "2023-08-26T02:23:17.132915",
     "status": "completed"
    },
    "tags": []
   },
   "outputs": [
    {
     "data": {
      "text/html": [
       "<div>\n",
       "<style scoped>\n",
       "    .dataframe tbody tr th:only-of-type {\n",
       "        vertical-align: middle;\n",
       "    }\n",
       "\n",
       "    .dataframe tbody tr th {\n",
       "        vertical-align: top;\n",
       "    }\n",
       "\n",
       "    .dataframe thead th {\n",
       "        text-align: right;\n",
       "    }\n",
       "</style>\n",
       "<table border=\"1\" class=\"dataframe\">\n",
       "  <thead>\n",
       "    <tr style=\"text-align: right;\">\n",
       "      <th></th>\n",
       "      <th>CLIENTNUM</th>\n",
       "      <th>Customer_Age</th>\n",
       "      <th>Dependent_count</th>\n",
       "      <th>Months_on_book</th>\n",
       "      <th>Total_Relationship_Count</th>\n",
       "      <th>Months_Inactive_12_mon</th>\n",
       "      <th>Contacts_Count_12_mon</th>\n",
       "      <th>Credit_Limit</th>\n",
       "      <th>Total_Revolving_Bal</th>\n",
       "      <th>Avg_Open_To_Buy</th>\n",
       "      <th>Total_Amt_Chng_Q4_Q1</th>\n",
       "      <th>Total_Trans_Amt</th>\n",
       "      <th>Total_Trans_Ct</th>\n",
       "      <th>Total_Ct_Chng_Q4_Q1</th>\n",
       "      <th>Avg_Utilization_Ratio</th>\n",
       "    </tr>\n",
       "  </thead>\n",
       "  <tbody>\n",
       "    <tr>\n",
       "      <th>count</th>\n",
       "      <td>1.160000e+02</td>\n",
       "      <td>116.000000</td>\n",
       "      <td>116.000000</td>\n",
       "      <td>116.000000</td>\n",
       "      <td>116.000000</td>\n",
       "      <td>116.000000</td>\n",
       "      <td>116.000000</td>\n",
       "      <td>116.000000</td>\n",
       "      <td>116.000000</td>\n",
       "      <td>116.000000</td>\n",
       "      <td>116.000000</td>\n",
       "      <td>116.000000</td>\n",
       "      <td>116.000000</td>\n",
       "      <td>116.000000</td>\n",
       "      <td>116.000000</td>\n",
       "    </tr>\n",
       "    <tr>\n",
       "      <th>mean</th>\n",
       "      <td>7.381368e+08</td>\n",
       "      <td>45.439655</td>\n",
       "      <td>2.672414</td>\n",
       "      <td>35.525862</td>\n",
       "      <td>3.008621</td>\n",
       "      <td>2.310345</td>\n",
       "      <td>2.448276</td>\n",
       "      <td>28416.370690</td>\n",
       "      <td>1344.318966</td>\n",
       "      <td>27072.051724</td>\n",
       "      <td>0.772603</td>\n",
       "      <td>7685.612069</td>\n",
       "      <td>81.517241</td>\n",
       "      <td>0.706190</td>\n",
       "      <td>0.057103</td>\n",
       "    </tr>\n",
       "    <tr>\n",
       "      <th>std</th>\n",
       "      <td>3.756108e+07</td>\n",
       "      <td>6.577020</td>\n",
       "      <td>1.310664</td>\n",
       "      <td>6.618106</td>\n",
       "      <td>1.633857</td>\n",
       "      <td>1.074720</td>\n",
       "      <td>1.098179</td>\n",
       "      <td>8673.910045</td>\n",
       "      <td>774.882696</td>\n",
       "      <td>8648.962567</td>\n",
       "      <td>0.198927</td>\n",
       "      <td>4571.753917</td>\n",
       "      <td>26.713775</td>\n",
       "      <td>0.179573</td>\n",
       "      <td>0.059939</td>\n",
       "    </tr>\n",
       "    <tr>\n",
       "      <th>min</th>\n",
       "      <td>7.082268e+08</td>\n",
       "      <td>29.000000</td>\n",
       "      <td>0.000000</td>\n",
       "      <td>18.000000</td>\n",
       "      <td>1.000000</td>\n",
       "      <td>1.000000</td>\n",
       "      <td>0.000000</td>\n",
       "      <td>3735.000000</td>\n",
       "      <td>0.000000</td>\n",
       "      <td>2261.000000</td>\n",
       "      <td>0.196000</td>\n",
       "      <td>966.000000</td>\n",
       "      <td>22.000000</td>\n",
       "      <td>0.214000</td>\n",
       "      <td>0.000000</td>\n",
       "    </tr>\n",
       "    <tr>\n",
       "      <th>25%</th>\n",
       "      <td>7.130641e+08</td>\n",
       "      <td>41.000000</td>\n",
       "      <td>2.000000</td>\n",
       "      <td>33.000000</td>\n",
       "      <td>2.000000</td>\n",
       "      <td>1.000000</td>\n",
       "      <td>2.000000</td>\n",
       "      <td>22724.250000</td>\n",
       "      <td>813.000000</td>\n",
       "      <td>21144.250000</td>\n",
       "      <td>0.696000</td>\n",
       "      <td>4040.500000</td>\n",
       "      <td>66.750000</td>\n",
       "      <td>0.604750</td>\n",
       "      <td>0.029250</td>\n",
       "    </tr>\n",
       "    <tr>\n",
       "      <th>50%</th>\n",
       "      <td>7.168749e+08</td>\n",
       "      <td>46.000000</td>\n",
       "      <td>3.000000</td>\n",
       "      <td>36.000000</td>\n",
       "      <td>2.500000</td>\n",
       "      <td>2.000000</td>\n",
       "      <td>2.000000</td>\n",
       "      <td>34516.000000</td>\n",
       "      <td>1459.000000</td>\n",
       "      <td>32441.500000</td>\n",
       "      <td>0.742000</td>\n",
       "      <td>7652.500000</td>\n",
       "      <td>82.000000</td>\n",
       "      <td>0.723000</td>\n",
       "      <td>0.050500</td>\n",
       "    </tr>\n",
       "    <tr>\n",
       "      <th>75%</th>\n",
       "      <td>7.729482e+08</td>\n",
       "      <td>49.000000</td>\n",
       "      <td>4.000000</td>\n",
       "      <td>38.000000</td>\n",
       "      <td>4.000000</td>\n",
       "      <td>3.000000</td>\n",
       "      <td>3.000000</td>\n",
       "      <td>34516.000000</td>\n",
       "      <td>1952.250000</td>\n",
       "      <td>33238.500000</td>\n",
       "      <td>0.833250</td>\n",
       "      <td>9320.000000</td>\n",
       "      <td>100.250000</td>\n",
       "      <td>0.783500</td>\n",
       "      <td>0.070250</td>\n",
       "    </tr>\n",
       "    <tr>\n",
       "      <th>max</th>\n",
       "      <td>8.273330e+08</td>\n",
       "      <td>63.000000</td>\n",
       "      <td>5.000000</td>\n",
       "      <td>55.000000</td>\n",
       "      <td>6.000000</td>\n",
       "      <td>6.000000</td>\n",
       "      <td>6.000000</td>\n",
       "      <td>34516.000000</td>\n",
       "      <td>2517.000000</td>\n",
       "      <td>34516.000000</td>\n",
       "      <td>1.975000</td>\n",
       "      <td>16328.000000</td>\n",
       "      <td>131.000000</td>\n",
       "      <td>1.250000</td>\n",
       "      <td>0.395000</td>\n",
       "    </tr>\n",
       "  </tbody>\n",
       "</table>\n",
       "</div>"
      ],
      "text/plain": [
       "          CLIENTNUM  Customer_Age  Dependent_count  Months_on_book  \\\n",
       "count  1.160000e+02    116.000000       116.000000      116.000000   \n",
       "mean   7.381368e+08     45.439655         2.672414       35.525862   \n",
       "std    3.756108e+07      6.577020         1.310664        6.618106   \n",
       "min    7.082268e+08     29.000000         0.000000       18.000000   \n",
       "25%    7.130641e+08     41.000000         2.000000       33.000000   \n",
       "50%    7.168749e+08     46.000000         3.000000       36.000000   \n",
       "75%    7.729482e+08     49.000000         4.000000       38.000000   \n",
       "max    8.273330e+08     63.000000         5.000000       55.000000   \n",
       "\n",
       "       Total_Relationship_Count  Months_Inactive_12_mon  \\\n",
       "count                116.000000              116.000000   \n",
       "mean                   3.008621                2.310345   \n",
       "std                    1.633857                1.074720   \n",
       "min                    1.000000                1.000000   \n",
       "25%                    2.000000                1.000000   \n",
       "50%                    2.500000                2.000000   \n",
       "75%                    4.000000                3.000000   \n",
       "max                    6.000000                6.000000   \n",
       "\n",
       "       Contacts_Count_12_mon  Credit_Limit  Total_Revolving_Bal  \\\n",
       "count             116.000000    116.000000           116.000000   \n",
       "mean                2.448276  28416.370690          1344.318966   \n",
       "std                 1.098179   8673.910045           774.882696   \n",
       "min                 0.000000   3735.000000             0.000000   \n",
       "25%                 2.000000  22724.250000           813.000000   \n",
       "50%                 2.000000  34516.000000          1459.000000   \n",
       "75%                 3.000000  34516.000000          1952.250000   \n",
       "max                 6.000000  34516.000000          2517.000000   \n",
       "\n",
       "       Avg_Open_To_Buy  Total_Amt_Chng_Q4_Q1  Total_Trans_Amt  Total_Trans_Ct  \\\n",
       "count       116.000000            116.000000       116.000000      116.000000   \n",
       "mean      27072.051724              0.772603      7685.612069       81.517241   \n",
       "std        8648.962567              0.198927      4571.753917       26.713775   \n",
       "min        2261.000000              0.196000       966.000000       22.000000   \n",
       "25%       21144.250000              0.696000      4040.500000       66.750000   \n",
       "50%       32441.500000              0.742000      7652.500000       82.000000   \n",
       "75%       33238.500000              0.833250      9320.000000      100.250000   \n",
       "max       34516.000000              1.975000     16328.000000      131.000000   \n",
       "\n",
       "       Total_Ct_Chng_Q4_Q1  Avg_Utilization_Ratio  \n",
       "count           116.000000             116.000000  \n",
       "mean              0.706190               0.057103  \n",
       "std               0.179573               0.059939  \n",
       "min               0.214000               0.000000  \n",
       "25%               0.604750               0.029250  \n",
       "50%               0.723000               0.050500  \n",
       "75%               0.783500               0.070250  \n",
       "max               1.250000               0.395000  "
      ]
     },
     "execution_count": 15,
     "metadata": {},
     "output_type": "execute_result"
    }
   ],
   "source": [
    "# Delving into the Card Category\n",
    "gold_category= df[df['Card_Category'] == 'Gold']\n",
    "gold_category.describe()"
   ]
  },
  {
   "cell_type": "code",
   "execution_count": 16,
   "id": "b4306fea",
   "metadata": {
    "_kg_hide-input": true,
    "execution": {
     "iopub.execute_input": "2023-08-26T02:23:17.246550Z",
     "iopub.status.busy": "2023-08-26T02:23:17.245486Z",
     "iopub.status.idle": "2023-08-26T02:23:17.396302Z",
     "shell.execute_reply": "2023-08-26T02:23:17.395017Z"
    },
    "papermill": {
     "duration": 0.167536,
     "end_time": "2023-08-26T02:23:17.398737",
     "exception": false,
     "start_time": "2023-08-26T02:23:17.231201",
     "status": "completed"
    },
    "tags": []
   },
   "outputs": [
    {
     "data": {
      "text/html": [
       "<div>                            <div id=\"1b7b7d44-3190-4cf0-bf00-0bb4a0f08066\" class=\"plotly-graph-div\" style=\"height:525px; width:100%;\"></div>            <script type=\"text/javascript\">                require([\"plotly\"], function(Plotly) {                    window.PLOTLYENV=window.PLOTLYENV || {};                                    if (document.getElementById(\"1b7b7d44-3190-4cf0-bf00-0bb4a0f08066\")) {                    Plotly.newPlot(                        \"1b7b7d44-3190-4cf0-bf00-0bb4a0f08066\",                        [{\"alignmentgroup\":\"True\",\"hovertemplate\":\"Attrition_Flag=Attrited Customer\\u003cbr\\u003eCard_Category=Blue\\u003cbr\\u003eGender=%{x}\\u003cbr\\u003eCount=%{y}\\u003cextra\\u003e\\u003c\\u002fextra\\u003e\",\"legendgroup\":\"Attrited Customer\",\"marker\":{\"color\":\"#1f77b4\",\"pattern\":{\"shape\":\"\"}},\"name\":\"Attrited Customer\",\"offsetgroup\":\"Attrited Customer\",\"orientation\":\"v\",\"showlegend\":true,\"textposition\":\"auto\",\"x\":[\"F\",\"M\"],\"xaxis\":\"x\",\"y\":[890,629],\"yaxis\":\"y\",\"type\":\"bar\"},{\"alignmentgroup\":\"True\",\"hovertemplate\":\"Attrition_Flag=Attrited Customer\\u003cbr\\u003eCard_Category=Gold\\u003cbr\\u003eGender=%{x}\\u003cbr\\u003eCount=%{y}\\u003cextra\\u003e\\u003c\\u002fextra\\u003e\",\"legendgroup\":\"Attrited Customer\",\"marker\":{\"color\":\"#1f77b4\",\"pattern\":{\"shape\":\"\"}},\"name\":\"Attrited Customer\",\"offsetgroup\":\"Attrited Customer\",\"orientation\":\"v\",\"showlegend\":false,\"textposition\":\"auto\",\"x\":[\"F\",\"M\"],\"xaxis\":\"x2\",\"y\":[8,13],\"yaxis\":\"y2\",\"type\":\"bar\"},{\"alignmentgroup\":\"True\",\"hovertemplate\":\"Attrition_Flag=Attrited Customer\\u003cbr\\u003eCard_Category=Platinum\\u003cbr\\u003eGender=%{x}\\u003cbr\\u003eCount=%{y}\\u003cextra\\u003e\\u003c\\u002fextra\\u003e\",\"legendgroup\":\"Attrited Customer\",\"marker\":{\"color\":\"#1f77b4\",\"pattern\":{\"shape\":\"\"}},\"name\":\"Attrited Customer\",\"offsetgroup\":\"Attrited Customer\",\"orientation\":\"v\",\"showlegend\":false,\"textposition\":\"auto\",\"x\":[\"F\",\"M\"],\"xaxis\":\"x3\",\"y\":[4,1],\"yaxis\":\"y3\",\"type\":\"bar\"},{\"alignmentgroup\":\"True\",\"hovertemplate\":\"Attrition_Flag=Attrited Customer\\u003cbr\\u003eCard_Category=Silver\\u003cbr\\u003eGender=%{x}\\u003cbr\\u003eCount=%{y}\\u003cextra\\u003e\\u003c\\u002fextra\\u003e\",\"legendgroup\":\"Attrited Customer\",\"marker\":{\"color\":\"#1f77b4\",\"pattern\":{\"shape\":\"\"}},\"name\":\"Attrited Customer\",\"offsetgroup\":\"Attrited Customer\",\"orientation\":\"v\",\"showlegend\":false,\"textposition\":\"auto\",\"x\":[\"F\",\"M\"],\"xaxis\":\"x4\",\"y\":[28,54],\"yaxis\":\"y4\",\"type\":\"bar\"},{\"alignmentgroup\":\"True\",\"hovertemplate\":\"Attrition_Flag=Existing Customer\\u003cbr\\u003eCard_Category=Blue\\u003cbr\\u003eGender=%{x}\\u003cbr\\u003eCount=%{y}\\u003cextra\\u003e\\u003c\\u002fextra\\u003e\",\"legendgroup\":\"Existing Customer\",\"marker\":{\"color\":\"#ff7f0e\",\"pattern\":{\"shape\":\"\"}},\"name\":\"Existing Customer\",\"offsetgroup\":\"Existing Customer\",\"orientation\":\"v\",\"showlegend\":true,\"textposition\":\"auto\",\"x\":[\"F\",\"M\"],\"xaxis\":\"x\",\"y\":[4211,3706],\"yaxis\":\"y\",\"type\":\"bar\"},{\"alignmentgroup\":\"True\",\"hovertemplate\":\"Attrition_Flag=Existing Customer\\u003cbr\\u003eCard_Category=Gold\\u003cbr\\u003eGender=%{x}\\u003cbr\\u003eCount=%{y}\\u003cextra\\u003e\\u003c\\u002fextra\\u003e\",\"legendgroup\":\"Existing Customer\",\"marker\":{\"color\":\"#ff7f0e\",\"pattern\":{\"shape\":\"\"}},\"name\":\"Existing Customer\",\"offsetgroup\":\"Existing Customer\",\"orientation\":\"v\",\"showlegend\":false,\"textposition\":\"auto\",\"x\":[\"F\",\"M\"],\"xaxis\":\"x2\",\"y\":[30,65],\"yaxis\":\"y2\",\"type\":\"bar\"},{\"alignmentgroup\":\"True\",\"hovertemplate\":\"Attrition_Flag=Existing Customer\\u003cbr\\u003eCard_Category=Platinum\\u003cbr\\u003eGender=%{x}\\u003cbr\\u003eCount=%{y}\\u003cextra\\u003e\\u003c\\u002fextra\\u003e\",\"legendgroup\":\"Existing Customer\",\"marker\":{\"color\":\"#ff7f0e\",\"pattern\":{\"shape\":\"\"}},\"name\":\"Existing Customer\",\"offsetgroup\":\"Existing Customer\",\"orientation\":\"v\",\"showlegend\":false,\"textposition\":\"auto\",\"x\":[\"F\",\"M\"],\"xaxis\":\"x3\",\"y\":[5,10],\"yaxis\":\"y3\",\"type\":\"bar\"},{\"alignmentgroup\":\"True\",\"hovertemplate\":\"Attrition_Flag=Existing Customer\\u003cbr\\u003eCard_Category=Silver\\u003cbr\\u003eGender=%{x}\\u003cbr\\u003eCount=%{y}\\u003cextra\\u003e\\u003c\\u002fextra\\u003e\",\"legendgroup\":\"Existing Customer\",\"marker\":{\"color\":\"#ff7f0e\",\"pattern\":{\"shape\":\"\"}},\"name\":\"Existing Customer\",\"offsetgroup\":\"Existing Customer\",\"orientation\":\"v\",\"showlegend\":false,\"textposition\":\"auto\",\"x\":[\"F\",\"M\"],\"xaxis\":\"x4\",\"y\":[182,291],\"yaxis\":\"y4\",\"type\":\"bar\"}],                        {\"template\":{\"data\":{\"histogram2dcontour\":[{\"type\":\"histogram2dcontour\",\"colorbar\":{\"outlinewidth\":0,\"ticks\":\"\"},\"colorscale\":[[0.0,\"#0d0887\"],[0.1111111111111111,\"#46039f\"],[0.2222222222222222,\"#7201a8\"],[0.3333333333333333,\"#9c179e\"],[0.4444444444444444,\"#bd3786\"],[0.5555555555555556,\"#d8576b\"],[0.6666666666666666,\"#ed7953\"],[0.7777777777777778,\"#fb9f3a\"],[0.8888888888888888,\"#fdca26\"],[1.0,\"#f0f921\"]]}],\"choropleth\":[{\"type\":\"choropleth\",\"colorbar\":{\"outlinewidth\":0,\"ticks\":\"\"}}],\"histogram2d\":[{\"type\":\"histogram2d\",\"colorbar\":{\"outlinewidth\":0,\"ticks\":\"\"},\"colorscale\":[[0.0,\"#0d0887\"],[0.1111111111111111,\"#46039f\"],[0.2222222222222222,\"#7201a8\"],[0.3333333333333333,\"#9c179e\"],[0.4444444444444444,\"#bd3786\"],[0.5555555555555556,\"#d8576b\"],[0.6666666666666666,\"#ed7953\"],[0.7777777777777778,\"#fb9f3a\"],[0.8888888888888888,\"#fdca26\"],[1.0,\"#f0f921\"]]}],\"heatmap\":[{\"type\":\"heatmap\",\"colorbar\":{\"outlinewidth\":0,\"ticks\":\"\"},\"colorscale\":[[0.0,\"#0d0887\"],[0.1111111111111111,\"#46039f\"],[0.2222222222222222,\"#7201a8\"],[0.3333333333333333,\"#9c179e\"],[0.4444444444444444,\"#bd3786\"],[0.5555555555555556,\"#d8576b\"],[0.6666666666666666,\"#ed7953\"],[0.7777777777777778,\"#fb9f3a\"],[0.8888888888888888,\"#fdca26\"],[1.0,\"#f0f921\"]]}],\"heatmapgl\":[{\"type\":\"heatmapgl\",\"colorbar\":{\"outlinewidth\":0,\"ticks\":\"\"},\"colorscale\":[[0.0,\"#0d0887\"],[0.1111111111111111,\"#46039f\"],[0.2222222222222222,\"#7201a8\"],[0.3333333333333333,\"#9c179e\"],[0.4444444444444444,\"#bd3786\"],[0.5555555555555556,\"#d8576b\"],[0.6666666666666666,\"#ed7953\"],[0.7777777777777778,\"#fb9f3a\"],[0.8888888888888888,\"#fdca26\"],[1.0,\"#f0f921\"]]}],\"contourcarpet\":[{\"type\":\"contourcarpet\",\"colorbar\":{\"outlinewidth\":0,\"ticks\":\"\"}}],\"contour\":[{\"type\":\"contour\",\"colorbar\":{\"outlinewidth\":0,\"ticks\":\"\"},\"colorscale\":[[0.0,\"#0d0887\"],[0.1111111111111111,\"#46039f\"],[0.2222222222222222,\"#7201a8\"],[0.3333333333333333,\"#9c179e\"],[0.4444444444444444,\"#bd3786\"],[0.5555555555555556,\"#d8576b\"],[0.6666666666666666,\"#ed7953\"],[0.7777777777777778,\"#fb9f3a\"],[0.8888888888888888,\"#fdca26\"],[1.0,\"#f0f921\"]]}],\"surface\":[{\"type\":\"surface\",\"colorbar\":{\"outlinewidth\":0,\"ticks\":\"\"},\"colorscale\":[[0.0,\"#0d0887\"],[0.1111111111111111,\"#46039f\"],[0.2222222222222222,\"#7201a8\"],[0.3333333333333333,\"#9c179e\"],[0.4444444444444444,\"#bd3786\"],[0.5555555555555556,\"#d8576b\"],[0.6666666666666666,\"#ed7953\"],[0.7777777777777778,\"#fb9f3a\"],[0.8888888888888888,\"#fdca26\"],[1.0,\"#f0f921\"]]}],\"mesh3d\":[{\"type\":\"mesh3d\",\"colorbar\":{\"outlinewidth\":0,\"ticks\":\"\"}}],\"scatter\":[{\"fillpattern\":{\"fillmode\":\"overlay\",\"size\":10,\"solidity\":0.2},\"type\":\"scatter\"}],\"parcoords\":[{\"type\":\"parcoords\",\"line\":{\"colorbar\":{\"outlinewidth\":0,\"ticks\":\"\"}}}],\"scatterpolargl\":[{\"type\":\"scatterpolargl\",\"marker\":{\"colorbar\":{\"outlinewidth\":0,\"ticks\":\"\"}}}],\"bar\":[{\"error_x\":{\"color\":\"#2a3f5f\"},\"error_y\":{\"color\":\"#2a3f5f\"},\"marker\":{\"line\":{\"color\":\"#E5ECF6\",\"width\":0.5},\"pattern\":{\"fillmode\":\"overlay\",\"size\":10,\"solidity\":0.2}},\"type\":\"bar\"}],\"scattergeo\":[{\"type\":\"scattergeo\",\"marker\":{\"colorbar\":{\"outlinewidth\":0,\"ticks\":\"\"}}}],\"scatterpolar\":[{\"type\":\"scatterpolar\",\"marker\":{\"colorbar\":{\"outlinewidth\":0,\"ticks\":\"\"}}}],\"histogram\":[{\"marker\":{\"pattern\":{\"fillmode\":\"overlay\",\"size\":10,\"solidity\":0.2}},\"type\":\"histogram\"}],\"scattergl\":[{\"type\":\"scattergl\",\"marker\":{\"colorbar\":{\"outlinewidth\":0,\"ticks\":\"\"}}}],\"scatter3d\":[{\"type\":\"scatter3d\",\"line\":{\"colorbar\":{\"outlinewidth\":0,\"ticks\":\"\"}},\"marker\":{\"colorbar\":{\"outlinewidth\":0,\"ticks\":\"\"}}}],\"scattermapbox\":[{\"type\":\"scattermapbox\",\"marker\":{\"colorbar\":{\"outlinewidth\":0,\"ticks\":\"\"}}}],\"scatterternary\":[{\"type\":\"scatterternary\",\"marker\":{\"colorbar\":{\"outlinewidth\":0,\"ticks\":\"\"}}}],\"scattercarpet\":[{\"type\":\"scattercarpet\",\"marker\":{\"colorbar\":{\"outlinewidth\":0,\"ticks\":\"\"}}}],\"carpet\":[{\"aaxis\":{\"endlinecolor\":\"#2a3f5f\",\"gridcolor\":\"white\",\"linecolor\":\"white\",\"minorgridcolor\":\"white\",\"startlinecolor\":\"#2a3f5f\"},\"baxis\":{\"endlinecolor\":\"#2a3f5f\",\"gridcolor\":\"white\",\"linecolor\":\"white\",\"minorgridcolor\":\"white\",\"startlinecolor\":\"#2a3f5f\"},\"type\":\"carpet\"}],\"table\":[{\"cells\":{\"fill\":{\"color\":\"#EBF0F8\"},\"line\":{\"color\":\"white\"}},\"header\":{\"fill\":{\"color\":\"#C8D4E3\"},\"line\":{\"color\":\"white\"}},\"type\":\"table\"}],\"barpolar\":[{\"marker\":{\"line\":{\"color\":\"#E5ECF6\",\"width\":0.5},\"pattern\":{\"fillmode\":\"overlay\",\"size\":10,\"solidity\":0.2}},\"type\":\"barpolar\"}],\"pie\":[{\"automargin\":true,\"type\":\"pie\"}]},\"layout\":{\"autotypenumbers\":\"strict\",\"colorway\":[\"#636efa\",\"#EF553B\",\"#00cc96\",\"#ab63fa\",\"#FFA15A\",\"#19d3f3\",\"#FF6692\",\"#B6E880\",\"#FF97FF\",\"#FECB52\"],\"font\":{\"color\":\"#2a3f5f\"},\"hovermode\":\"closest\",\"hoverlabel\":{\"align\":\"left\"},\"paper_bgcolor\":\"white\",\"plot_bgcolor\":\"#E5ECF6\",\"polar\":{\"bgcolor\":\"#E5ECF6\",\"angularaxis\":{\"gridcolor\":\"white\",\"linecolor\":\"white\",\"ticks\":\"\"},\"radialaxis\":{\"gridcolor\":\"white\",\"linecolor\":\"white\",\"ticks\":\"\"}},\"ternary\":{\"bgcolor\":\"#E5ECF6\",\"aaxis\":{\"gridcolor\":\"white\",\"linecolor\":\"white\",\"ticks\":\"\"},\"baxis\":{\"gridcolor\":\"white\",\"linecolor\":\"white\",\"ticks\":\"\"},\"caxis\":{\"gridcolor\":\"white\",\"linecolor\":\"white\",\"ticks\":\"\"}},\"coloraxis\":{\"colorbar\":{\"outlinewidth\":0,\"ticks\":\"\"}},\"colorscale\":{\"sequential\":[[0.0,\"#0d0887\"],[0.1111111111111111,\"#46039f\"],[0.2222222222222222,\"#7201a8\"],[0.3333333333333333,\"#9c179e\"],[0.4444444444444444,\"#bd3786\"],[0.5555555555555556,\"#d8576b\"],[0.6666666666666666,\"#ed7953\"],[0.7777777777777778,\"#fb9f3a\"],[0.8888888888888888,\"#fdca26\"],[1.0,\"#f0f921\"]],\"sequentialminus\":[[0.0,\"#0d0887\"],[0.1111111111111111,\"#46039f\"],[0.2222222222222222,\"#7201a8\"],[0.3333333333333333,\"#9c179e\"],[0.4444444444444444,\"#bd3786\"],[0.5555555555555556,\"#d8576b\"],[0.6666666666666666,\"#ed7953\"],[0.7777777777777778,\"#fb9f3a\"],[0.8888888888888888,\"#fdca26\"],[1.0,\"#f0f921\"]],\"diverging\":[[0,\"#8e0152\"],[0.1,\"#c51b7d\"],[0.2,\"#de77ae\"],[0.3,\"#f1b6da\"],[0.4,\"#fde0ef\"],[0.5,\"#f7f7f7\"],[0.6,\"#e6f5d0\"],[0.7,\"#b8e186\"],[0.8,\"#7fbc41\"],[0.9,\"#4d9221\"],[1,\"#276419\"]]},\"xaxis\":{\"gridcolor\":\"white\",\"linecolor\":\"white\",\"ticks\":\"\",\"title\":{\"standoff\":15},\"zerolinecolor\":\"white\",\"automargin\":true,\"zerolinewidth\":2},\"yaxis\":{\"gridcolor\":\"white\",\"linecolor\":\"white\",\"ticks\":\"\",\"title\":{\"standoff\":15},\"zerolinecolor\":\"white\",\"automargin\":true,\"zerolinewidth\":2},\"scene\":{\"xaxis\":{\"backgroundcolor\":\"#E5ECF6\",\"gridcolor\":\"white\",\"linecolor\":\"white\",\"showbackground\":true,\"ticks\":\"\",\"zerolinecolor\":\"white\",\"gridwidth\":2},\"yaxis\":{\"backgroundcolor\":\"#E5ECF6\",\"gridcolor\":\"white\",\"linecolor\":\"white\",\"showbackground\":true,\"ticks\":\"\",\"zerolinecolor\":\"white\",\"gridwidth\":2},\"zaxis\":{\"backgroundcolor\":\"#E5ECF6\",\"gridcolor\":\"white\",\"linecolor\":\"white\",\"showbackground\":true,\"ticks\":\"\",\"zerolinecolor\":\"white\",\"gridwidth\":2}},\"shapedefaults\":{\"line\":{\"color\":\"#2a3f5f\"}},\"annotationdefaults\":{\"arrowcolor\":\"#2a3f5f\",\"arrowhead\":0,\"arrowwidth\":1},\"geo\":{\"bgcolor\":\"white\",\"landcolor\":\"#E5ECF6\",\"subunitcolor\":\"white\",\"showland\":true,\"showlakes\":true,\"lakecolor\":\"white\"},\"title\":{\"x\":0.05},\"mapbox\":{\"style\":\"light\"}}},\"xaxis\":{\"anchor\":\"y\",\"domain\":[0.0,0.235],\"title\":{\"text\":\"Card Category\"},\"categoryorder\":\"array\",\"categoryarray\":[\"F\",\"M\"]},\"yaxis\":{\"anchor\":\"x\",\"domain\":[0.0,1.0],\"title\":{\"text\":\"Count\"}},\"xaxis2\":{\"anchor\":\"y2\",\"domain\":[0.255,0.49],\"matches\":\"x\",\"title\":{\"text\":\"Gender\"},\"categoryorder\":\"array\",\"categoryarray\":[\"F\",\"M\"]},\"yaxis2\":{\"anchor\":\"x2\",\"domain\":[0.0,1.0],\"matches\":\"y\",\"showticklabels\":false},\"xaxis3\":{\"anchor\":\"y3\",\"domain\":[0.51,0.745],\"matches\":\"x\",\"title\":{\"text\":\"Gender\"},\"categoryorder\":\"array\",\"categoryarray\":[\"F\",\"M\"]},\"yaxis3\":{\"anchor\":\"x3\",\"domain\":[0.0,1.0],\"matches\":\"y\",\"showticklabels\":false},\"xaxis4\":{\"anchor\":\"y4\",\"domain\":[0.7649999999999999,0.9999999999999999],\"matches\":\"x\",\"title\":{\"text\":\"Gender\"},\"categoryorder\":\"array\",\"categoryarray\":[\"F\",\"M\"]},\"yaxis4\":{\"anchor\":\"x4\",\"domain\":[0.0,1.0],\"matches\":\"y\",\"showticklabels\":false},\"annotations\":[{\"font\":{},\"showarrow\":false,\"text\":\"Card_Category=Blue\",\"x\":0.1175,\"xanchor\":\"center\",\"xref\":\"paper\",\"y\":1.0,\"yanchor\":\"bottom\",\"yref\":\"paper\"},{\"font\":{},\"showarrow\":false,\"text\":\"Card_Category=Gold\",\"x\":0.3725,\"xanchor\":\"center\",\"xref\":\"paper\",\"y\":1.0,\"yanchor\":\"bottom\",\"yref\":\"paper\"},{\"font\":{},\"showarrow\":false,\"text\":\"Card_Category=Platinum\",\"x\":0.6275,\"xanchor\":\"center\",\"xref\":\"paper\",\"y\":1.0,\"yanchor\":\"bottom\",\"yref\":\"paper\"},{\"font\":{},\"showarrow\":false,\"text\":\"Card_Category=Silver\",\"x\":0.8824999999999998,\"xanchor\":\"center\",\"xref\":\"paper\",\"y\":1.0,\"yanchor\":\"bottom\",\"yref\":\"paper\"}],\"legend\":{\"title\":{\"text\":\"Attrition_Flag\"},\"tracegroupgap\":0},\"margin\":{\"t\":60},\"barmode\":\"relative\",\"title\":{\"text\":\"Attrition by Card Category and Gender\"}},                        {\"responsive\": true}                    ).then(function(){\n",
       "                            \n",
       "var gd = document.getElementById('1b7b7d44-3190-4cf0-bf00-0bb4a0f08066');\n",
       "var x = new MutationObserver(function (mutations, observer) {{\n",
       "        var display = window.getComputedStyle(gd).display;\n",
       "        if (!display || display === 'none') {{\n",
       "            console.log([gd, 'removed!']);\n",
       "            Plotly.purge(gd);\n",
       "            observer.disconnect();\n",
       "        }}\n",
       "}});\n",
       "\n",
       "// Listen for the removal of the full notebook cells\n",
       "var notebookContainer = gd.closest('#notebook-container');\n",
       "if (notebookContainer) {{\n",
       "    x.observe(notebookContainer, {childList: true});\n",
       "}}\n",
       "\n",
       "// Listen for the clearing of the current output cell\n",
       "var outputEl = gd.closest('.output');\n",
       "if (outputEl) {{\n",
       "    x.observe(outputEl, {childList: true});\n",
       "}}\n",
       "\n",
       "                        })                };                });            </script>        </div>"
      ]
     },
     "metadata": {},
     "output_type": "display_data"
    }
   ],
   "source": [
    "gender_counts_by_category = df.groupby(['Card_Category','Gender','Attrition_Flag']).size()\n",
    "gender_counts_by_category = gender_counts_by_category.reset_index(name='Count')\n",
    "\n",
    "custom_color_scale = ['#1f77b4', '#ff7f0e']\n",
    "\n",
    "fig = px.bar(gender_counts_by_category, x='Gender', y='Count', color='Attrition_Flag', facet_col='Card_Category',\n",
    "             category_orders={'Gender': ['F', 'M']}, color_discrete_sequence=custom_color_scale)\n",
    "\n",
    "# Update layout for better visualization\n",
    "fig.update_layout(title_text='Attrition by Card Category and Gender',\n",
    "                  xaxis_title='Card Category',\n",
    "                  yaxis_title='Count')\n",
    "\n",
    "# Show the plot\n",
    "fig.show()\n"
   ]
  },
  {
   "cell_type": "code",
   "execution_count": 17,
   "id": "0b7eb058",
   "metadata": {
    "execution": {
     "iopub.execute_input": "2023-08-26T02:23:17.430904Z",
     "iopub.status.busy": "2023-08-26T02:23:17.430195Z",
     "iopub.status.idle": "2023-08-26T02:23:17.453897Z",
     "shell.execute_reply": "2023-08-26T02:23:17.451939Z"
    },
    "papermill": {
     "duration": 0.04361,
     "end_time": "2023-08-26T02:23:17.456782",
     "exception": false,
     "start_time": "2023-08-26T02:23:17.413172",
     "status": "completed"
    },
    "tags": []
   },
   "outputs": [
    {
     "data": {
      "text/html": [
       "<div>\n",
       "<style scoped>\n",
       "    .dataframe tbody tr th:only-of-type {\n",
       "        vertical-align: middle;\n",
       "    }\n",
       "\n",
       "    .dataframe tbody tr th {\n",
       "        vertical-align: top;\n",
       "    }\n",
       "\n",
       "    .dataframe thead th {\n",
       "        text-align: right;\n",
       "    }\n",
       "</style>\n",
       "<table border=\"1\" class=\"dataframe\">\n",
       "  <thead>\n",
       "    <tr style=\"text-align: right;\">\n",
       "      <th></th>\n",
       "      <th>Gender</th>\n",
       "      <th>Card_Category</th>\n",
       "      <th>Attrition_Flag</th>\n",
       "      <th>Count</th>\n",
       "    </tr>\n",
       "  </thead>\n",
       "  <tbody>\n",
       "    <tr>\n",
       "      <th>0</th>\n",
       "      <td>F</td>\n",
       "      <td>Blue</td>\n",
       "      <td>Attrited Customer</td>\n",
       "      <td>890</td>\n",
       "    </tr>\n",
       "    <tr>\n",
       "      <th>1</th>\n",
       "      <td>F</td>\n",
       "      <td>Blue</td>\n",
       "      <td>Existing Customer</td>\n",
       "      <td>4211</td>\n",
       "    </tr>\n",
       "    <tr>\n",
       "      <th>2</th>\n",
       "      <td>F</td>\n",
       "      <td>Gold</td>\n",
       "      <td>Attrited Customer</td>\n",
       "      <td>8</td>\n",
       "    </tr>\n",
       "    <tr>\n",
       "      <th>3</th>\n",
       "      <td>F</td>\n",
       "      <td>Gold</td>\n",
       "      <td>Existing Customer</td>\n",
       "      <td>30</td>\n",
       "    </tr>\n",
       "    <tr>\n",
       "      <th>4</th>\n",
       "      <td>F</td>\n",
       "      <td>Platinum</td>\n",
       "      <td>Attrited Customer</td>\n",
       "      <td>4</td>\n",
       "    </tr>\n",
       "    <tr>\n",
       "      <th>5</th>\n",
       "      <td>F</td>\n",
       "      <td>Platinum</td>\n",
       "      <td>Existing Customer</td>\n",
       "      <td>5</td>\n",
       "    </tr>\n",
       "    <tr>\n",
       "      <th>6</th>\n",
       "      <td>F</td>\n",
       "      <td>Silver</td>\n",
       "      <td>Attrited Customer</td>\n",
       "      <td>28</td>\n",
       "    </tr>\n",
       "    <tr>\n",
       "      <th>7</th>\n",
       "      <td>F</td>\n",
       "      <td>Silver</td>\n",
       "      <td>Existing Customer</td>\n",
       "      <td>182</td>\n",
       "    </tr>\n",
       "    <tr>\n",
       "      <th>8</th>\n",
       "      <td>M</td>\n",
       "      <td>Blue</td>\n",
       "      <td>Attrited Customer</td>\n",
       "      <td>629</td>\n",
       "    </tr>\n",
       "    <tr>\n",
       "      <th>9</th>\n",
       "      <td>M</td>\n",
       "      <td>Blue</td>\n",
       "      <td>Existing Customer</td>\n",
       "      <td>3706</td>\n",
       "    </tr>\n",
       "    <tr>\n",
       "      <th>10</th>\n",
       "      <td>M</td>\n",
       "      <td>Gold</td>\n",
       "      <td>Attrited Customer</td>\n",
       "      <td>13</td>\n",
       "    </tr>\n",
       "    <tr>\n",
       "      <th>11</th>\n",
       "      <td>M</td>\n",
       "      <td>Gold</td>\n",
       "      <td>Existing Customer</td>\n",
       "      <td>65</td>\n",
       "    </tr>\n",
       "    <tr>\n",
       "      <th>12</th>\n",
       "      <td>M</td>\n",
       "      <td>Platinum</td>\n",
       "      <td>Attrited Customer</td>\n",
       "      <td>1</td>\n",
       "    </tr>\n",
       "    <tr>\n",
       "      <th>13</th>\n",
       "      <td>M</td>\n",
       "      <td>Platinum</td>\n",
       "      <td>Existing Customer</td>\n",
       "      <td>10</td>\n",
       "    </tr>\n",
       "    <tr>\n",
       "      <th>14</th>\n",
       "      <td>M</td>\n",
       "      <td>Silver</td>\n",
       "      <td>Attrited Customer</td>\n",
       "      <td>54</td>\n",
       "    </tr>\n",
       "    <tr>\n",
       "      <th>15</th>\n",
       "      <td>M</td>\n",
       "      <td>Silver</td>\n",
       "      <td>Existing Customer</td>\n",
       "      <td>291</td>\n",
       "    </tr>\n",
       "  </tbody>\n",
       "</table>\n",
       "</div>"
      ],
      "text/plain": [
       "   Gender Card_Category     Attrition_Flag  Count\n",
       "0       F          Blue  Attrited Customer    890\n",
       "1       F          Blue  Existing Customer   4211\n",
       "2       F          Gold  Attrited Customer      8\n",
       "3       F          Gold  Existing Customer     30\n",
       "4       F      Platinum  Attrited Customer      4\n",
       "5       F      Platinum  Existing Customer      5\n",
       "6       F        Silver  Attrited Customer     28\n",
       "7       F        Silver  Existing Customer    182\n",
       "8       M          Blue  Attrited Customer    629\n",
       "9       M          Blue  Existing Customer   3706\n",
       "10      M          Gold  Attrited Customer     13\n",
       "11      M          Gold  Existing Customer     65\n",
       "12      M      Platinum  Attrited Customer      1\n",
       "13      M      Platinum  Existing Customer     10\n",
       "14      M        Silver  Attrited Customer     54\n",
       "15      M        Silver  Existing Customer    291"
      ]
     },
     "execution_count": 17,
     "metadata": {},
     "output_type": "execute_result"
    }
   ],
   "source": [
    "gender_counts_by_category = df.groupby(['Gender','Card_Category','Attrition_Flag']).size()\n",
    "gender_counts_by_category = gender_counts_by_category.reset_index(name='Count')\n",
    "gender_counts_by_category"
   ]
  },
  {
   "cell_type": "code",
   "execution_count": 18,
   "id": "31cd0492",
   "metadata": {
    "execution": {
     "iopub.execute_input": "2023-08-26T02:23:17.486786Z",
     "iopub.status.busy": "2023-08-26T02:23:17.486336Z",
     "iopub.status.idle": "2023-08-26T02:23:17.643918Z",
     "shell.execute_reply": "2023-08-26T02:23:17.642302Z"
    },
    "papermill": {
     "duration": 0.176309,
     "end_time": "2023-08-26T02:23:17.647056",
     "exception": false,
     "start_time": "2023-08-26T02:23:17.470747",
     "status": "completed"
    },
    "tags": []
   },
   "outputs": [
    {
     "data": {
      "text/html": [
       "<div>                            <div id=\"d8767d36-f02d-40cc-91ca-b8ae4f0a91d6\" class=\"plotly-graph-div\" style=\"height:525px; width:100%;\"></div>            <script type=\"text/javascript\">                require([\"plotly\"], function(Plotly) {                    window.PLOTLYENV=window.PLOTLYENV || {};                                    if (document.getElementById(\"d8767d36-f02d-40cc-91ca-b8ae4f0a91d6\")) {                    Plotly.newPlot(                        \"d8767d36-f02d-40cc-91ca-b8ae4f0a91d6\",                        [{\"alignmentgroup\":\"True\",\"hovertemplate\":\"Attrition_Flag=Attrited Customer\\u003cbr\\u003eCard_Category=%{y}\\u003cextra\\u003e\\u003c\\u002fextra\\u003e\",\"legendgroup\":\"Attrited Customer\",\"marker\":{\"color\":\"#1f77b4\",\"pattern\":{\"shape\":\"\"}},\"name\":\"Attrited Customer\",\"offsetgroup\":\"Attrited Customer\",\"orientation\":\"v\",\"showlegend\":true,\"textposition\":\"auto\",\"x\":[\"Blue\",\"Blue\"],\"xaxis\":\"x\",\"y\":[\"Blue\",\"Blue\"],\"yaxis\":\"y\",\"type\":\"bar\"},{\"alignmentgroup\":\"True\",\"hovertemplate\":\"Attrition_Flag=Attrited Customer\\u003cbr\\u003eCard_Category=%{y}\\u003cextra\\u003e\\u003c\\u002fextra\\u003e\",\"legendgroup\":\"Attrited Customer\",\"marker\":{\"color\":\"#1f77b4\",\"pattern\":{\"shape\":\"\"}},\"name\":\"Attrited Customer\",\"offsetgroup\":\"Attrited Customer\",\"orientation\":\"v\",\"showlegend\":false,\"textposition\":\"auto\",\"x\":[\"Gold\",\"Gold\"],\"xaxis\":\"x2\",\"y\":[\"Gold\",\"Gold\"],\"yaxis\":\"y2\",\"type\":\"bar\"},{\"alignmentgroup\":\"True\",\"hovertemplate\":\"Attrition_Flag=Attrited Customer\\u003cbr\\u003eCard_Category=%{y}\\u003cextra\\u003e\\u003c\\u002fextra\\u003e\",\"legendgroup\":\"Attrited Customer\",\"marker\":{\"color\":\"#1f77b4\",\"pattern\":{\"shape\":\"\"}},\"name\":\"Attrited Customer\",\"offsetgroup\":\"Attrited Customer\",\"orientation\":\"v\",\"showlegend\":false,\"textposition\":\"auto\",\"x\":[\"Platinum\",\"Platinum\"],\"xaxis\":\"x3\",\"y\":[\"Platinum\",\"Platinum\"],\"yaxis\":\"y3\",\"type\":\"bar\"},{\"alignmentgroup\":\"True\",\"hovertemplate\":\"Attrition_Flag=Attrited Customer\\u003cbr\\u003eCard_Category=%{y}\\u003cextra\\u003e\\u003c\\u002fextra\\u003e\",\"legendgroup\":\"Attrited Customer\",\"marker\":{\"color\":\"#1f77b4\",\"pattern\":{\"shape\":\"\"}},\"name\":\"Attrited Customer\",\"offsetgroup\":\"Attrited Customer\",\"orientation\":\"v\",\"showlegend\":false,\"textposition\":\"auto\",\"x\":[\"Silver\",\"Silver\"],\"xaxis\":\"x4\",\"y\":[\"Silver\",\"Silver\"],\"yaxis\":\"y4\",\"type\":\"bar\"},{\"alignmentgroup\":\"True\",\"hovertemplate\":\"Attrition_Flag=Existing Customer\\u003cbr\\u003eCard_Category=%{y}\\u003cextra\\u003e\\u003c\\u002fextra\\u003e\",\"legendgroup\":\"Existing Customer\",\"marker\":{\"color\":\"#ff7f0e\",\"pattern\":{\"shape\":\"\"}},\"name\":\"Existing Customer\",\"offsetgroup\":\"Existing Customer\",\"orientation\":\"v\",\"showlegend\":true,\"textposition\":\"auto\",\"x\":[\"Blue\",\"Blue\"],\"xaxis\":\"x\",\"y\":[\"Blue\",\"Blue\"],\"yaxis\":\"y\",\"type\":\"bar\"},{\"alignmentgroup\":\"True\",\"hovertemplate\":\"Attrition_Flag=Existing Customer\\u003cbr\\u003eCard_Category=%{y}\\u003cextra\\u003e\\u003c\\u002fextra\\u003e\",\"legendgroup\":\"Existing Customer\",\"marker\":{\"color\":\"#ff7f0e\",\"pattern\":{\"shape\":\"\"}},\"name\":\"Existing Customer\",\"offsetgroup\":\"Existing Customer\",\"orientation\":\"v\",\"showlegend\":false,\"textposition\":\"auto\",\"x\":[\"Gold\",\"Gold\"],\"xaxis\":\"x2\",\"y\":[\"Gold\",\"Gold\"],\"yaxis\":\"y2\",\"type\":\"bar\"},{\"alignmentgroup\":\"True\",\"hovertemplate\":\"Attrition_Flag=Existing Customer\\u003cbr\\u003eCard_Category=%{y}\\u003cextra\\u003e\\u003c\\u002fextra\\u003e\",\"legendgroup\":\"Existing Customer\",\"marker\":{\"color\":\"#ff7f0e\",\"pattern\":{\"shape\":\"\"}},\"name\":\"Existing Customer\",\"offsetgroup\":\"Existing Customer\",\"orientation\":\"v\",\"showlegend\":false,\"textposition\":\"auto\",\"x\":[\"Platinum\",\"Platinum\"],\"xaxis\":\"x3\",\"y\":[\"Platinum\",\"Platinum\"],\"yaxis\":\"y3\",\"type\":\"bar\"},{\"alignmentgroup\":\"True\",\"hovertemplate\":\"Attrition_Flag=Existing Customer\\u003cbr\\u003eCard_Category=%{y}\\u003cextra\\u003e\\u003c\\u002fextra\\u003e\",\"legendgroup\":\"Existing Customer\",\"marker\":{\"color\":\"#ff7f0e\",\"pattern\":{\"shape\":\"\"}},\"name\":\"Existing Customer\",\"offsetgroup\":\"Existing Customer\",\"orientation\":\"v\",\"showlegend\":false,\"textposition\":\"auto\",\"x\":[\"Silver\",\"Silver\"],\"xaxis\":\"x4\",\"y\":[\"Silver\",\"Silver\"],\"yaxis\":\"y4\",\"type\":\"bar\"}],                        {\"template\":{\"data\":{\"histogram2dcontour\":[{\"type\":\"histogram2dcontour\",\"colorbar\":{\"outlinewidth\":0,\"ticks\":\"\"},\"colorscale\":[[0.0,\"#0d0887\"],[0.1111111111111111,\"#46039f\"],[0.2222222222222222,\"#7201a8\"],[0.3333333333333333,\"#9c179e\"],[0.4444444444444444,\"#bd3786\"],[0.5555555555555556,\"#d8576b\"],[0.6666666666666666,\"#ed7953\"],[0.7777777777777778,\"#fb9f3a\"],[0.8888888888888888,\"#fdca26\"],[1.0,\"#f0f921\"]]}],\"choropleth\":[{\"type\":\"choropleth\",\"colorbar\":{\"outlinewidth\":0,\"ticks\":\"\"}}],\"histogram2d\":[{\"type\":\"histogram2d\",\"colorbar\":{\"outlinewidth\":0,\"ticks\":\"\"},\"colorscale\":[[0.0,\"#0d0887\"],[0.1111111111111111,\"#46039f\"],[0.2222222222222222,\"#7201a8\"],[0.3333333333333333,\"#9c179e\"],[0.4444444444444444,\"#bd3786\"],[0.5555555555555556,\"#d8576b\"],[0.6666666666666666,\"#ed7953\"],[0.7777777777777778,\"#fb9f3a\"],[0.8888888888888888,\"#fdca26\"],[1.0,\"#f0f921\"]]}],\"heatmap\":[{\"type\":\"heatmap\",\"colorbar\":{\"outlinewidth\":0,\"ticks\":\"\"},\"colorscale\":[[0.0,\"#0d0887\"],[0.1111111111111111,\"#46039f\"],[0.2222222222222222,\"#7201a8\"],[0.3333333333333333,\"#9c179e\"],[0.4444444444444444,\"#bd3786\"],[0.5555555555555556,\"#d8576b\"],[0.6666666666666666,\"#ed7953\"],[0.7777777777777778,\"#fb9f3a\"],[0.8888888888888888,\"#fdca26\"],[1.0,\"#f0f921\"]]}],\"heatmapgl\":[{\"type\":\"heatmapgl\",\"colorbar\":{\"outlinewidth\":0,\"ticks\":\"\"},\"colorscale\":[[0.0,\"#0d0887\"],[0.1111111111111111,\"#46039f\"],[0.2222222222222222,\"#7201a8\"],[0.3333333333333333,\"#9c179e\"],[0.4444444444444444,\"#bd3786\"],[0.5555555555555556,\"#d8576b\"],[0.6666666666666666,\"#ed7953\"],[0.7777777777777778,\"#fb9f3a\"],[0.8888888888888888,\"#fdca26\"],[1.0,\"#f0f921\"]]}],\"contourcarpet\":[{\"type\":\"contourcarpet\",\"colorbar\":{\"outlinewidth\":0,\"ticks\":\"\"}}],\"contour\":[{\"type\":\"contour\",\"colorbar\":{\"outlinewidth\":0,\"ticks\":\"\"},\"colorscale\":[[0.0,\"#0d0887\"],[0.1111111111111111,\"#46039f\"],[0.2222222222222222,\"#7201a8\"],[0.3333333333333333,\"#9c179e\"],[0.4444444444444444,\"#bd3786\"],[0.5555555555555556,\"#d8576b\"],[0.6666666666666666,\"#ed7953\"],[0.7777777777777778,\"#fb9f3a\"],[0.8888888888888888,\"#fdca26\"],[1.0,\"#f0f921\"]]}],\"surface\":[{\"type\":\"surface\",\"colorbar\":{\"outlinewidth\":0,\"ticks\":\"\"},\"colorscale\":[[0.0,\"#0d0887\"],[0.1111111111111111,\"#46039f\"],[0.2222222222222222,\"#7201a8\"],[0.3333333333333333,\"#9c179e\"],[0.4444444444444444,\"#bd3786\"],[0.5555555555555556,\"#d8576b\"],[0.6666666666666666,\"#ed7953\"],[0.7777777777777778,\"#fb9f3a\"],[0.8888888888888888,\"#fdca26\"],[1.0,\"#f0f921\"]]}],\"mesh3d\":[{\"type\":\"mesh3d\",\"colorbar\":{\"outlinewidth\":0,\"ticks\":\"\"}}],\"scatter\":[{\"fillpattern\":{\"fillmode\":\"overlay\",\"size\":10,\"solidity\":0.2},\"type\":\"scatter\"}],\"parcoords\":[{\"type\":\"parcoords\",\"line\":{\"colorbar\":{\"outlinewidth\":0,\"ticks\":\"\"}}}],\"scatterpolargl\":[{\"type\":\"scatterpolargl\",\"marker\":{\"colorbar\":{\"outlinewidth\":0,\"ticks\":\"\"}}}],\"bar\":[{\"error_x\":{\"color\":\"#2a3f5f\"},\"error_y\":{\"color\":\"#2a3f5f\"},\"marker\":{\"line\":{\"color\":\"#E5ECF6\",\"width\":0.5},\"pattern\":{\"fillmode\":\"overlay\",\"size\":10,\"solidity\":0.2}},\"type\":\"bar\"}],\"scattergeo\":[{\"type\":\"scattergeo\",\"marker\":{\"colorbar\":{\"outlinewidth\":0,\"ticks\":\"\"}}}],\"scatterpolar\":[{\"type\":\"scatterpolar\",\"marker\":{\"colorbar\":{\"outlinewidth\":0,\"ticks\":\"\"}}}],\"histogram\":[{\"marker\":{\"pattern\":{\"fillmode\":\"overlay\",\"size\":10,\"solidity\":0.2}},\"type\":\"histogram\"}],\"scattergl\":[{\"type\":\"scattergl\",\"marker\":{\"colorbar\":{\"outlinewidth\":0,\"ticks\":\"\"}}}],\"scatter3d\":[{\"type\":\"scatter3d\",\"line\":{\"colorbar\":{\"outlinewidth\":0,\"ticks\":\"\"}},\"marker\":{\"colorbar\":{\"outlinewidth\":0,\"ticks\":\"\"}}}],\"scattermapbox\":[{\"type\":\"scattermapbox\",\"marker\":{\"colorbar\":{\"outlinewidth\":0,\"ticks\":\"\"}}}],\"scatterternary\":[{\"type\":\"scatterternary\",\"marker\":{\"colorbar\":{\"outlinewidth\":0,\"ticks\":\"\"}}}],\"scattercarpet\":[{\"type\":\"scattercarpet\",\"marker\":{\"colorbar\":{\"outlinewidth\":0,\"ticks\":\"\"}}}],\"carpet\":[{\"aaxis\":{\"endlinecolor\":\"#2a3f5f\",\"gridcolor\":\"white\",\"linecolor\":\"white\",\"minorgridcolor\":\"white\",\"startlinecolor\":\"#2a3f5f\"},\"baxis\":{\"endlinecolor\":\"#2a3f5f\",\"gridcolor\":\"white\",\"linecolor\":\"white\",\"minorgridcolor\":\"white\",\"startlinecolor\":\"#2a3f5f\"},\"type\":\"carpet\"}],\"table\":[{\"cells\":{\"fill\":{\"color\":\"#EBF0F8\"},\"line\":{\"color\":\"white\"}},\"header\":{\"fill\":{\"color\":\"#C8D4E3\"},\"line\":{\"color\":\"white\"}},\"type\":\"table\"}],\"barpolar\":[{\"marker\":{\"line\":{\"color\":\"#E5ECF6\",\"width\":0.5},\"pattern\":{\"fillmode\":\"overlay\",\"size\":10,\"solidity\":0.2}},\"type\":\"barpolar\"}],\"pie\":[{\"automargin\":true,\"type\":\"pie\"}]},\"layout\":{\"autotypenumbers\":\"strict\",\"colorway\":[\"#636efa\",\"#EF553B\",\"#00cc96\",\"#ab63fa\",\"#FFA15A\",\"#19d3f3\",\"#FF6692\",\"#B6E880\",\"#FF97FF\",\"#FECB52\"],\"font\":{\"color\":\"#2a3f5f\"},\"hovermode\":\"closest\",\"hoverlabel\":{\"align\":\"left\"},\"paper_bgcolor\":\"white\",\"plot_bgcolor\":\"#E5ECF6\",\"polar\":{\"bgcolor\":\"#E5ECF6\",\"angularaxis\":{\"gridcolor\":\"white\",\"linecolor\":\"white\",\"ticks\":\"\"},\"radialaxis\":{\"gridcolor\":\"white\",\"linecolor\":\"white\",\"ticks\":\"\"}},\"ternary\":{\"bgcolor\":\"#E5ECF6\",\"aaxis\":{\"gridcolor\":\"white\",\"linecolor\":\"white\",\"ticks\":\"\"},\"baxis\":{\"gridcolor\":\"white\",\"linecolor\":\"white\",\"ticks\":\"\"},\"caxis\":{\"gridcolor\":\"white\",\"linecolor\":\"white\",\"ticks\":\"\"}},\"coloraxis\":{\"colorbar\":{\"outlinewidth\":0,\"ticks\":\"\"}},\"colorscale\":{\"sequential\":[[0.0,\"#0d0887\"],[0.1111111111111111,\"#46039f\"],[0.2222222222222222,\"#7201a8\"],[0.3333333333333333,\"#9c179e\"],[0.4444444444444444,\"#bd3786\"],[0.5555555555555556,\"#d8576b\"],[0.6666666666666666,\"#ed7953\"],[0.7777777777777778,\"#fb9f3a\"],[0.8888888888888888,\"#fdca26\"],[1.0,\"#f0f921\"]],\"sequentialminus\":[[0.0,\"#0d0887\"],[0.1111111111111111,\"#46039f\"],[0.2222222222222222,\"#7201a8\"],[0.3333333333333333,\"#9c179e\"],[0.4444444444444444,\"#bd3786\"],[0.5555555555555556,\"#d8576b\"],[0.6666666666666666,\"#ed7953\"],[0.7777777777777778,\"#fb9f3a\"],[0.8888888888888888,\"#fdca26\"],[1.0,\"#f0f921\"]],\"diverging\":[[0,\"#8e0152\"],[0.1,\"#c51b7d\"],[0.2,\"#de77ae\"],[0.3,\"#f1b6da\"],[0.4,\"#fde0ef\"],[0.5,\"#f7f7f7\"],[0.6,\"#e6f5d0\"],[0.7,\"#b8e186\"],[0.8,\"#7fbc41\"],[0.9,\"#4d9221\"],[1,\"#276419\"]]},\"xaxis\":{\"gridcolor\":\"white\",\"linecolor\":\"white\",\"ticks\":\"\",\"title\":{\"standoff\":15},\"zerolinecolor\":\"white\",\"automargin\":true,\"zerolinewidth\":2},\"yaxis\":{\"gridcolor\":\"white\",\"linecolor\":\"white\",\"ticks\":\"\",\"title\":{\"standoff\":15},\"zerolinecolor\":\"white\",\"automargin\":true,\"zerolinewidth\":2},\"scene\":{\"xaxis\":{\"backgroundcolor\":\"#E5ECF6\",\"gridcolor\":\"white\",\"linecolor\":\"white\",\"showbackground\":true,\"ticks\":\"\",\"zerolinecolor\":\"white\",\"gridwidth\":2},\"yaxis\":{\"backgroundcolor\":\"#E5ECF6\",\"gridcolor\":\"white\",\"linecolor\":\"white\",\"showbackground\":true,\"ticks\":\"\",\"zerolinecolor\":\"white\",\"gridwidth\":2},\"zaxis\":{\"backgroundcolor\":\"#E5ECF6\",\"gridcolor\":\"white\",\"linecolor\":\"white\",\"showbackground\":true,\"ticks\":\"\",\"zerolinecolor\":\"white\",\"gridwidth\":2}},\"shapedefaults\":{\"line\":{\"color\":\"#2a3f5f\"}},\"annotationdefaults\":{\"arrowcolor\":\"#2a3f5f\",\"arrowhead\":0,\"arrowwidth\":1},\"geo\":{\"bgcolor\":\"white\",\"landcolor\":\"#E5ECF6\",\"subunitcolor\":\"white\",\"showland\":true,\"showlakes\":true,\"lakecolor\":\"white\"},\"title\":{\"x\":0.05},\"mapbox\":{\"style\":\"light\"}}},\"xaxis\":{\"anchor\":\"y\",\"domain\":[0.0,0.235],\"title\":{\"text\":\"Card Category\"},\"categoryorder\":\"array\",\"categoryarray\":[\"Blue\",\"Gold\",\"Platinum\",\"Silver\"]},\"yaxis\":{\"anchor\":\"x\",\"domain\":[0.0,1.0],\"title\":{\"text\":\"Count\"},\"categoryorder\":\"array\",\"categoryarray\":[\"Silver\",\"Platinum\",\"Gold\",\"Blue\"]},\"xaxis2\":{\"anchor\":\"y2\",\"domain\":[0.255,0.49],\"matches\":\"x\",\"title\":{\"text\":\"Card_Category\"},\"categoryorder\":\"array\",\"categoryarray\":[\"Blue\",\"Gold\",\"Platinum\",\"Silver\"]},\"yaxis2\":{\"anchor\":\"x2\",\"domain\":[0.0,1.0],\"matches\":\"y\",\"showticklabels\":false},\"xaxis3\":{\"anchor\":\"y3\",\"domain\":[0.51,0.745],\"matches\":\"x\",\"title\":{\"text\":\"Card_Category\"},\"categoryorder\":\"array\",\"categoryarray\":[\"Blue\",\"Gold\",\"Platinum\",\"Silver\"]},\"yaxis3\":{\"anchor\":\"x3\",\"domain\":[0.0,1.0],\"matches\":\"y\",\"showticklabels\":false},\"xaxis4\":{\"anchor\":\"y4\",\"domain\":[0.7649999999999999,0.9999999999999999],\"matches\":\"x\",\"title\":{\"text\":\"Card_Category\"},\"categoryorder\":\"array\",\"categoryarray\":[\"Blue\",\"Gold\",\"Platinum\",\"Silver\"]},\"yaxis4\":{\"anchor\":\"x4\",\"domain\":[0.0,1.0],\"matches\":\"y\",\"showticklabels\":false},\"annotations\":[{\"font\":{},\"showarrow\":false,\"text\":\"Card_Category=Blue\",\"x\":0.1175,\"xanchor\":\"center\",\"xref\":\"paper\",\"y\":1.0,\"yanchor\":\"bottom\",\"yref\":\"paper\"},{\"font\":{},\"showarrow\":false,\"text\":\"Card_Category=Gold\",\"x\":0.3725,\"xanchor\":\"center\",\"xref\":\"paper\",\"y\":1.0,\"yanchor\":\"bottom\",\"yref\":\"paper\"},{\"font\":{},\"showarrow\":false,\"text\":\"Card_Category=Platinum\",\"x\":0.6275,\"xanchor\":\"center\",\"xref\":\"paper\",\"y\":1.0,\"yanchor\":\"bottom\",\"yref\":\"paper\"},{\"font\":{},\"showarrow\":false,\"text\":\"Card_Category=Silver\",\"x\":0.8824999999999998,\"xanchor\":\"center\",\"xref\":\"paper\",\"y\":1.0,\"yanchor\":\"bottom\",\"yref\":\"paper\"}],\"legend\":{\"title\":{\"text\":\"Attrition_Flag\"},\"tracegroupgap\":0},\"margin\":{\"t\":60},\"barmode\":\"relative\",\"title\":{\"text\":\"Attrition by Card Category and Gender\"}},                        {\"responsive\": true}                    ).then(function(){\n",
       "                            \n",
       "var gd = document.getElementById('d8767d36-f02d-40cc-91ca-b8ae4f0a91d6');\n",
       "var x = new MutationObserver(function (mutations, observer) {{\n",
       "        var display = window.getComputedStyle(gd).display;\n",
       "        if (!display || display === 'none') {{\n",
       "            console.log([gd, 'removed!']);\n",
       "            Plotly.purge(gd);\n",
       "            observer.disconnect();\n",
       "        }}\n",
       "}});\n",
       "\n",
       "// Listen for the removal of the full notebook cells\n",
       "var notebookContainer = gd.closest('#notebook-container');\n",
       "if (notebookContainer) {{\n",
       "    x.observe(notebookContainer, {childList: true});\n",
       "}}\n",
       "\n",
       "// Listen for the clearing of the current output cell\n",
       "var outputEl = gd.closest('.output');\n",
       "if (outputEl) {{\n",
       "    x.observe(outputEl, {childList: true});\n",
       "}}\n",
       "\n",
       "                        })                };                });            </script>        </div>"
      ]
     },
     "metadata": {},
     "output_type": "display_data"
    }
   ],
   "source": [
    "import matplotlib.pyplot as plt\n",
    "\n",
    "Income_group= df[df['Income_Category'] == 'Unknown']\n",
    "Income_group = Income_group.groupby(['Education_Level','Attrition_Flag', 'Gender']).size()\n",
    "\n",
    "\n",
    "custom_color_scale = ['#1f77b4', '#ff7f0e']\n",
    "\n",
    "fig = px.bar(gender_counts_by_category, x='Card_Category', y='Card_Category', color='Attrition_Flag', facet_col='Card_Category',\n",
    "             category_orders={'Gender': ['F', 'M']}, color_discrete_sequence=custom_color_scale)\n",
    "\n",
    "# Update layout for better visualization\n",
    "fig.update_layout(title_text='Attrition by Card Category and Gender',\n",
    "                  xaxis_title='Card Category',\n",
    "                  yaxis_title='Count')\n",
    "\n",
    "# Show the plot\n",
    "fig.show()\n",
    "\n",
    "\n",
    "\n",
    "\n",
    "\n",
    "# Display the plot\n",
    "plt.show()"
   ]
  },
  {
   "cell_type": "code",
   "execution_count": 19,
   "id": "894205c8",
   "metadata": {
    "execution": {
     "iopub.execute_input": "2023-08-26T02:23:17.678404Z",
     "iopub.status.busy": "2023-08-26T02:23:17.677989Z",
     "iopub.status.idle": "2023-08-26T02:23:17.690604Z",
     "shell.execute_reply": "2023-08-26T02:23:17.689268Z"
    },
    "papermill": {
     "duration": 0.031806,
     "end_time": "2023-08-26T02:23:17.693915",
     "exception": false,
     "start_time": "2023-08-26T02:23:17.662109",
     "status": "completed"
    },
    "tags": []
   },
   "outputs": [
    {
     "name": "stdout",
     "output_type": "stream",
     "text": [
      "Gender  Income_Category\n",
      "F       $40K - $60K        1014\n",
      "        Less than $40K     3284\n",
      "        Unknown            1060\n",
      "M       $120K +             727\n",
      "        $40K - $60K         776\n",
      "        $60K - $80K        1402\n",
      "        $80K - $120K       1535\n",
      "        Less than $40K      277\n",
      "        Unknown              52\n",
      "dtype: int64\n"
     ]
    }
   ],
   "source": [
    "income_category = df.groupby(['Gender', 'Income_Category']).size()\n",
    "print(income_category)"
   ]
  },
  {
   "cell_type": "markdown",
   "id": "8d6dd9c6",
   "metadata": {
    "papermill": {
     "duration": 0.014356,
     "end_time": "2023-08-26T02:23:17.722971",
     "exception": false,
     "start_time": "2023-08-26T02:23:17.708615",
     "status": "completed"
    },
    "tags": []
   },
   "source": [
    "Group by income category and men/female"
   ]
  },
  {
   "cell_type": "code",
   "execution_count": 20,
   "id": "3e1b027c",
   "metadata": {
    "_kg_hide-input": true,
    "execution": {
     "iopub.execute_input": "2023-08-26T02:23:17.754987Z",
     "iopub.status.busy": "2023-08-26T02:23:17.754461Z",
     "iopub.status.idle": "2023-08-26T02:23:17.803571Z",
     "shell.execute_reply": "2023-08-26T02:23:17.802359Z"
    },
    "papermill": {
     "duration": 0.068649,
     "end_time": "2023-08-26T02:23:17.806704",
     "exception": false,
     "start_time": "2023-08-26T02:23:17.738055",
     "status": "completed"
    },
    "tags": []
   },
   "outputs": [
    {
     "data": {
      "text/html": [
       "<div>                            <div id=\"e3201911-3780-4210-a016-4c6bf8f4ac7b\" class=\"plotly-graph-div\" style=\"height:525px; width:100%;\"></div>            <script type=\"text/javascript\">                require([\"plotly\"], function(Plotly) {                    window.PLOTLYENV=window.PLOTLYENV || {};                                    if (document.getElementById(\"e3201911-3780-4210-a016-4c6bf8f4ac7b\")) {                    Plotly.newPlot(                        \"e3201911-3780-4210-a016-4c6bf8f4ac7b\",                        [{\"hoverongaps\":false,\"x\":[\"CLIENTNUM\",\"Customer_Age\",\"Dependent_count\",\"Months_on_book\",\"Total_Relationship_Count\",\"Months_Inactive_12_mon\",\"Contacts_Count_12_mon\",\"Credit_Limit\",\"Total_Revolving_Bal\",\"Avg_Open_To_Buy\",\"Total_Amt_Chng_Q4_Q1\",\"Total_Trans_Amt\",\"Total_Trans_Ct\",\"Total_Ct_Chng_Q4_Q1\",\"Avg_Utilization_Ratio\"],\"y\":[\"CLIENTNUM\",\"Customer_Age\",\"Dependent_count\",\"Months_on_book\",\"Total_Relationship_Count\",\"Months_Inactive_12_mon\",\"Contacts_Count_12_mon\",\"Credit_Limit\",\"Total_Revolving_Bal\",\"Avg_Open_To_Buy\",\"Total_Amt_Chng_Q4_Q1\",\"Total_Trans_Amt\",\"Total_Trans_Ct\",\"Total_Ct_Chng_Q4_Q1\",\"Avg_Utilization_Ratio\"],\"z\":[[1.0,0.0076126511950067805,0.006771737176973264,0.13458783088757248,0.006906905114917449,0.005728527607458915,0.005694427757510852,0.0057076226605038,0.00082450409803636,0.00563250682915492,0.017369339875871324,-0.01969170879238515,-0.002961013052193392,0.007695575497010713,0.0002659599938485154],[0.0076126511950067805,1.0,-0.12225375200525321,0.7889123589930508,-0.010931068804259482,0.054360998760120814,-0.0184518547587971,0.002476227359664691,0.014779894579644452,0.0011506778791898996,-0.06204209191981924,-0.04644649085469088,-0.06709686360086074,-0.012142548310869122,0.007114222226032007],[0.006771737176973264,-0.12225375200525321,1.0,-0.10306228148764927,-0.03907638897966843,-0.01076791848095198,-0.04050495976228984,0.06806460020347013,-0.002688145858857811,0.06829130387444331,-0.03543942896257459,0.025046237587382482,0.0499124766384954,0.011087180902770234,-0.03713515854004745],[0.13458783088757248,0.7889123589930508,-0.10306228148764927,1.0,-0.00920308023127444,0.07416351432950953,-0.010774478506729145,0.007507009229698237,0.008622804474098151,0.006732391627270253,-0.048959320126718116,-0.03859062947522644,-0.04981908353962511,-0.014071670900046846,-0.00754083697632563],[0.006906905114917449,-0.010931068804259482,-0.03907638897966843,-0.00920308023127444,1.0,-0.003675376932207407,0.05520316331250555,-0.07138581742352747,0.013725848920523953,-0.07260136283372588,0.0501186436597206,-0.34722887963701443,-0.24189084971343594,0.04083114826057427,0.067662878041457],[0.005728527607458915,0.054360998760120814,-0.01076791848095198,0.07416351432950953,-0.003675376932207407,1.0,0.029492910128659285,-0.02039379144345504,-0.04220960877980104,-0.01660538381048117,-0.03224671239481278,-0.03698242508478301,-0.04278703930774648,-0.03898933797671036,-0.0075026327688393415],[0.005694427757510852,-0.0184518547587971,-0.04050495976228984,-0.010774478506729145,0.05520316331250555,0.029492910128659285,1.0,0.02081701171626793,-0.05391273122599859,0.02564596120868006,-0.024445115120385143,-0.11277392883883214,-0.15221260518404692,-0.09499691598377367,-0.05547128465245328],[0.0057076226605038,0.002476227359664691,0.06806460020347013,0.007507009229698237,-0.07138581742352747,-0.02039379144345504,0.02081701171626793,1.0,0.04249260734895824,0.995980543932001,0.012812535653393454,0.17173015046794077,0.07592691199468905,-0.0020198499941714303,-0.4829650714174503],[0.00082450409803636,0.014779894579644452,-0.002688145858857811,0.008622804474098151,0.013725848920523953,-0.04220960877980104,-0.05391273122599859,0.04249260734895824,1.0,-0.047167127943430955,0.05817366445423314,0.06437047704790985,0.056060493046322143,0.08986100776026948,0.6240219910059064],[0.00563250682915492,0.0011506778791898996,0.06829130387444331,0.006732391627270253,-0.07260136283372588,-0.01660538381048117,0.02564596120868006,0.995980543932001,-0.047167127943430955,1.0,0.0075945291959918825,0.1659232284970104,0.07088510162623113,-0.010075538362497083,-0.5388077476174624],[0.017369339875871324,-0.06204209191981924,-0.03543942896257459,-0.048959320126718116,0.0501186436597206,-0.03224671239481278,-0.024445115120385143,0.012812535653393454,0.05817366445423314,0.0075945291959918825,1.0,0.03967759237186188,0.005468567330772116,0.38418925603371645,0.03523483473073431],[-0.01969170879238515,-0.04644649085469088,0.025046237587382482,-0.03859062947522644,-0.34722887963701443,-0.03698242508478301,-0.11277392883883214,0.17173015046794077,0.06437047704790985,0.1659232284970104,0.03967759237186188,1.0,0.8071920346514367,0.08558097602856081,-0.08303424588646034],[-0.002961013052193392,-0.06709686360086074,0.0499124766384954,-0.04981908353962511,-0.24189084971343594,-0.04278703930774648,-0.15221260518404692,0.07592691199468905,0.056060493046322143,0.07088510162623113,0.005468567330772116,0.8071920346514367,1.0,0.11232443991563544,0.0028381122342156077],[0.007695575497010713,-0.012142548310869122,0.011087180902770234,-0.014071670900046846,0.04083114826057427,-0.03898933797671036,-0.09499691598377367,-0.0020198499941714303,0.08986100776026948,-0.010075538362497083,0.38418925603371645,0.08558097602856081,0.11232443991563544,1.0,0.07414320991782065],[0.0002659599938485154,0.007114222226032007,-0.03713515854004745,-0.00754083697632563,0.067662878041457,-0.0075026327688393415,-0.05547128465245328,-0.4829650714174503,0.6240219910059064,-0.5388077476174624,0.03523483473073431,-0.08303424588646034,0.0028381122342156077,0.07414320991782065,1.0]],\"type\":\"heatmap\"}],                        {\"template\":{\"data\":{\"histogram2dcontour\":[{\"type\":\"histogram2dcontour\",\"colorbar\":{\"outlinewidth\":0,\"ticks\":\"\"},\"colorscale\":[[0.0,\"#0d0887\"],[0.1111111111111111,\"#46039f\"],[0.2222222222222222,\"#7201a8\"],[0.3333333333333333,\"#9c179e\"],[0.4444444444444444,\"#bd3786\"],[0.5555555555555556,\"#d8576b\"],[0.6666666666666666,\"#ed7953\"],[0.7777777777777778,\"#fb9f3a\"],[0.8888888888888888,\"#fdca26\"],[1.0,\"#f0f921\"]]}],\"choropleth\":[{\"type\":\"choropleth\",\"colorbar\":{\"outlinewidth\":0,\"ticks\":\"\"}}],\"histogram2d\":[{\"type\":\"histogram2d\",\"colorbar\":{\"outlinewidth\":0,\"ticks\":\"\"},\"colorscale\":[[0.0,\"#0d0887\"],[0.1111111111111111,\"#46039f\"],[0.2222222222222222,\"#7201a8\"],[0.3333333333333333,\"#9c179e\"],[0.4444444444444444,\"#bd3786\"],[0.5555555555555556,\"#d8576b\"],[0.6666666666666666,\"#ed7953\"],[0.7777777777777778,\"#fb9f3a\"],[0.8888888888888888,\"#fdca26\"],[1.0,\"#f0f921\"]]}],\"heatmap\":[{\"type\":\"heatmap\",\"colorbar\":{\"outlinewidth\":0,\"ticks\":\"\"},\"colorscale\":[[0.0,\"#0d0887\"],[0.1111111111111111,\"#46039f\"],[0.2222222222222222,\"#7201a8\"],[0.3333333333333333,\"#9c179e\"],[0.4444444444444444,\"#bd3786\"],[0.5555555555555556,\"#d8576b\"],[0.6666666666666666,\"#ed7953\"],[0.7777777777777778,\"#fb9f3a\"],[0.8888888888888888,\"#fdca26\"],[1.0,\"#f0f921\"]]}],\"heatmapgl\":[{\"type\":\"heatmapgl\",\"colorbar\":{\"outlinewidth\":0,\"ticks\":\"\"},\"colorscale\":[[0.0,\"#0d0887\"],[0.1111111111111111,\"#46039f\"],[0.2222222222222222,\"#7201a8\"],[0.3333333333333333,\"#9c179e\"],[0.4444444444444444,\"#bd3786\"],[0.5555555555555556,\"#d8576b\"],[0.6666666666666666,\"#ed7953\"],[0.7777777777777778,\"#fb9f3a\"],[0.8888888888888888,\"#fdca26\"],[1.0,\"#f0f921\"]]}],\"contourcarpet\":[{\"type\":\"contourcarpet\",\"colorbar\":{\"outlinewidth\":0,\"ticks\":\"\"}}],\"contour\":[{\"type\":\"contour\",\"colorbar\":{\"outlinewidth\":0,\"ticks\":\"\"},\"colorscale\":[[0.0,\"#0d0887\"],[0.1111111111111111,\"#46039f\"],[0.2222222222222222,\"#7201a8\"],[0.3333333333333333,\"#9c179e\"],[0.4444444444444444,\"#bd3786\"],[0.5555555555555556,\"#d8576b\"],[0.6666666666666666,\"#ed7953\"],[0.7777777777777778,\"#fb9f3a\"],[0.8888888888888888,\"#fdca26\"],[1.0,\"#f0f921\"]]}],\"surface\":[{\"type\":\"surface\",\"colorbar\":{\"outlinewidth\":0,\"ticks\":\"\"},\"colorscale\":[[0.0,\"#0d0887\"],[0.1111111111111111,\"#46039f\"],[0.2222222222222222,\"#7201a8\"],[0.3333333333333333,\"#9c179e\"],[0.4444444444444444,\"#bd3786\"],[0.5555555555555556,\"#d8576b\"],[0.6666666666666666,\"#ed7953\"],[0.7777777777777778,\"#fb9f3a\"],[0.8888888888888888,\"#fdca26\"],[1.0,\"#f0f921\"]]}],\"mesh3d\":[{\"type\":\"mesh3d\",\"colorbar\":{\"outlinewidth\":0,\"ticks\":\"\"}}],\"scatter\":[{\"fillpattern\":{\"fillmode\":\"overlay\",\"size\":10,\"solidity\":0.2},\"type\":\"scatter\"}],\"parcoords\":[{\"type\":\"parcoords\",\"line\":{\"colorbar\":{\"outlinewidth\":0,\"ticks\":\"\"}}}],\"scatterpolargl\":[{\"type\":\"scatterpolargl\",\"marker\":{\"colorbar\":{\"outlinewidth\":0,\"ticks\":\"\"}}}],\"bar\":[{\"error_x\":{\"color\":\"#2a3f5f\"},\"error_y\":{\"color\":\"#2a3f5f\"},\"marker\":{\"line\":{\"color\":\"#E5ECF6\",\"width\":0.5},\"pattern\":{\"fillmode\":\"overlay\",\"size\":10,\"solidity\":0.2}},\"type\":\"bar\"}],\"scattergeo\":[{\"type\":\"scattergeo\",\"marker\":{\"colorbar\":{\"outlinewidth\":0,\"ticks\":\"\"}}}],\"scatterpolar\":[{\"type\":\"scatterpolar\",\"marker\":{\"colorbar\":{\"outlinewidth\":0,\"ticks\":\"\"}}}],\"histogram\":[{\"marker\":{\"pattern\":{\"fillmode\":\"overlay\",\"size\":10,\"solidity\":0.2}},\"type\":\"histogram\"}],\"scattergl\":[{\"type\":\"scattergl\",\"marker\":{\"colorbar\":{\"outlinewidth\":0,\"ticks\":\"\"}}}],\"scatter3d\":[{\"type\":\"scatter3d\",\"line\":{\"colorbar\":{\"outlinewidth\":0,\"ticks\":\"\"}},\"marker\":{\"colorbar\":{\"outlinewidth\":0,\"ticks\":\"\"}}}],\"scattermapbox\":[{\"type\":\"scattermapbox\",\"marker\":{\"colorbar\":{\"outlinewidth\":0,\"ticks\":\"\"}}}],\"scatterternary\":[{\"type\":\"scatterternary\",\"marker\":{\"colorbar\":{\"outlinewidth\":0,\"ticks\":\"\"}}}],\"scattercarpet\":[{\"type\":\"scattercarpet\",\"marker\":{\"colorbar\":{\"outlinewidth\":0,\"ticks\":\"\"}}}],\"carpet\":[{\"aaxis\":{\"endlinecolor\":\"#2a3f5f\",\"gridcolor\":\"white\",\"linecolor\":\"white\",\"minorgridcolor\":\"white\",\"startlinecolor\":\"#2a3f5f\"},\"baxis\":{\"endlinecolor\":\"#2a3f5f\",\"gridcolor\":\"white\",\"linecolor\":\"white\",\"minorgridcolor\":\"white\",\"startlinecolor\":\"#2a3f5f\"},\"type\":\"carpet\"}],\"table\":[{\"cells\":{\"fill\":{\"color\":\"#EBF0F8\"},\"line\":{\"color\":\"white\"}},\"header\":{\"fill\":{\"color\":\"#C8D4E3\"},\"line\":{\"color\":\"white\"}},\"type\":\"table\"}],\"barpolar\":[{\"marker\":{\"line\":{\"color\":\"#E5ECF6\",\"width\":0.5},\"pattern\":{\"fillmode\":\"overlay\",\"size\":10,\"solidity\":0.2}},\"type\":\"barpolar\"}],\"pie\":[{\"automargin\":true,\"type\":\"pie\"}]},\"layout\":{\"autotypenumbers\":\"strict\",\"colorway\":[\"#636efa\",\"#EF553B\",\"#00cc96\",\"#ab63fa\",\"#FFA15A\",\"#19d3f3\",\"#FF6692\",\"#B6E880\",\"#FF97FF\",\"#FECB52\"],\"font\":{\"color\":\"#2a3f5f\"},\"hovermode\":\"closest\",\"hoverlabel\":{\"align\":\"left\"},\"paper_bgcolor\":\"white\",\"plot_bgcolor\":\"#E5ECF6\",\"polar\":{\"bgcolor\":\"#E5ECF6\",\"angularaxis\":{\"gridcolor\":\"white\",\"linecolor\":\"white\",\"ticks\":\"\"},\"radialaxis\":{\"gridcolor\":\"white\",\"linecolor\":\"white\",\"ticks\":\"\"}},\"ternary\":{\"bgcolor\":\"#E5ECF6\",\"aaxis\":{\"gridcolor\":\"white\",\"linecolor\":\"white\",\"ticks\":\"\"},\"baxis\":{\"gridcolor\":\"white\",\"linecolor\":\"white\",\"ticks\":\"\"},\"caxis\":{\"gridcolor\":\"white\",\"linecolor\":\"white\",\"ticks\":\"\"}},\"coloraxis\":{\"colorbar\":{\"outlinewidth\":0,\"ticks\":\"\"}},\"colorscale\":{\"sequential\":[[0.0,\"#0d0887\"],[0.1111111111111111,\"#46039f\"],[0.2222222222222222,\"#7201a8\"],[0.3333333333333333,\"#9c179e\"],[0.4444444444444444,\"#bd3786\"],[0.5555555555555556,\"#d8576b\"],[0.6666666666666666,\"#ed7953\"],[0.7777777777777778,\"#fb9f3a\"],[0.8888888888888888,\"#fdca26\"],[1.0,\"#f0f921\"]],\"sequentialminus\":[[0.0,\"#0d0887\"],[0.1111111111111111,\"#46039f\"],[0.2222222222222222,\"#7201a8\"],[0.3333333333333333,\"#9c179e\"],[0.4444444444444444,\"#bd3786\"],[0.5555555555555556,\"#d8576b\"],[0.6666666666666666,\"#ed7953\"],[0.7777777777777778,\"#fb9f3a\"],[0.8888888888888888,\"#fdca26\"],[1.0,\"#f0f921\"]],\"diverging\":[[0,\"#8e0152\"],[0.1,\"#c51b7d\"],[0.2,\"#de77ae\"],[0.3,\"#f1b6da\"],[0.4,\"#fde0ef\"],[0.5,\"#f7f7f7\"],[0.6,\"#e6f5d0\"],[0.7,\"#b8e186\"],[0.8,\"#7fbc41\"],[0.9,\"#4d9221\"],[1,\"#276419\"]]},\"xaxis\":{\"gridcolor\":\"white\",\"linecolor\":\"white\",\"ticks\":\"\",\"title\":{\"standoff\":15},\"zerolinecolor\":\"white\",\"automargin\":true,\"zerolinewidth\":2},\"yaxis\":{\"gridcolor\":\"white\",\"linecolor\":\"white\",\"ticks\":\"\",\"title\":{\"standoff\":15},\"zerolinecolor\":\"white\",\"automargin\":true,\"zerolinewidth\":2},\"scene\":{\"xaxis\":{\"backgroundcolor\":\"#E5ECF6\",\"gridcolor\":\"white\",\"linecolor\":\"white\",\"showbackground\":true,\"ticks\":\"\",\"zerolinecolor\":\"white\",\"gridwidth\":2},\"yaxis\":{\"backgroundcolor\":\"#E5ECF6\",\"gridcolor\":\"white\",\"linecolor\":\"white\",\"showbackground\":true,\"ticks\":\"\",\"zerolinecolor\":\"white\",\"gridwidth\":2},\"zaxis\":{\"backgroundcolor\":\"#E5ECF6\",\"gridcolor\":\"white\",\"linecolor\":\"white\",\"showbackground\":true,\"ticks\":\"\",\"zerolinecolor\":\"white\",\"gridwidth\":2}},\"shapedefaults\":{\"line\":{\"color\":\"#2a3f5f\"}},\"annotationdefaults\":{\"arrowcolor\":\"#2a3f5f\",\"arrowhead\":0,\"arrowwidth\":1},\"geo\":{\"bgcolor\":\"white\",\"landcolor\":\"#E5ECF6\",\"subunitcolor\":\"white\",\"showland\":true,\"showlakes\":true,\"lakecolor\":\"white\"},\"title\":{\"x\":0.05},\"mapbox\":{\"style\":\"light\"}}},\"title\":{\"text\":\"Correlation Heatmap\"}},                        {\"responsive\": true}                    ).then(function(){\n",
       "                            \n",
       "var gd = document.getElementById('e3201911-3780-4210-a016-4c6bf8f4ac7b');\n",
       "var x = new MutationObserver(function (mutations, observer) {{\n",
       "        var display = window.getComputedStyle(gd).display;\n",
       "        if (!display || display === 'none') {{\n",
       "            console.log([gd, 'removed!']);\n",
       "            Plotly.purge(gd);\n",
       "            observer.disconnect();\n",
       "        }}\n",
       "}});\n",
       "\n",
       "// Listen for the removal of the full notebook cells\n",
       "var notebookContainer = gd.closest('#notebook-container');\n",
       "if (notebookContainer) {{\n",
       "    x.observe(notebookContainer, {childList: true});\n",
       "}}\n",
       "\n",
       "// Listen for the clearing of the current output cell\n",
       "var outputEl = gd.closest('.output');\n",
       "if (outputEl) {{\n",
       "    x.observe(outputEl, {childList: true});\n",
       "}}\n",
       "\n",
       "                        })                };                });            </script>        </div>"
      ]
     },
     "metadata": {},
     "output_type": "display_data"
    }
   ],
   "source": [
    "#Correlation Graph - Heat Map\n",
    "import plotly.express as px\n",
    "import plotly.graph_objects as go\n",
    "import warnings\n",
    "\n",
    "# Note: Deprecated Warnings\n",
    "warnings.filterwarnings(\"ignore\")\n",
    "\n",
    "# Finding the correlation between variables with a heatmap\n",
    "\n",
    "x=list(df.corr().columns)\n",
    "y=list(df.corr().index)\n",
    "values=np.array(df.corr().values)\n",
    "fig = go.Figure(data=go.Heatmap(\n",
    "    z=values,\n",
    "    x=x,\n",
    "    y=y,hoverongaps = False))\n",
    "\n",
    "fig.update_layout(title='Correlation Heatmap')\n",
    "\n",
    "fig.show()"
   ]
  },
  {
   "cell_type": "code",
   "execution_count": 21,
   "id": "42323597",
   "metadata": {
    "_kg_hide-input": true,
    "execution": {
     "iopub.execute_input": "2023-08-26T02:23:17.837894Z",
     "iopub.status.busy": "2023-08-26T02:23:17.837452Z",
     "iopub.status.idle": "2023-08-26T02:23:17.890603Z",
     "shell.execute_reply": "2023-08-26T02:23:17.889247Z"
    },
    "papermill": {
     "duration": 0.071765,
     "end_time": "2023-08-26T02:23:17.893267",
     "exception": false,
     "start_time": "2023-08-26T02:23:17.821502",
     "status": "completed"
    },
    "tags": []
   },
   "outputs": [
    {
     "data": {
      "text/html": [
       "<div>                            <div id=\"b249cb83-42c8-46db-9308-5b18a38fbc3c\" class=\"plotly-graph-div\" style=\"height:525px; width:100%;\"></div>            <script type=\"text/javascript\">                require([\"plotly\"], function(Plotly) {                    window.PLOTLYENV=window.PLOTLYENV || {};                                    if (document.getElementById(\"b249cb83-42c8-46db-9308-5b18a38fbc3c\")) {                    Plotly.newPlot(                        \"b249cb83-42c8-46db-9308-5b18a38fbc3c\",                        [{\"marker\":{\"color\":[1.0,0.0076126511950067805,0.006771737176973264,0.13458783088757248,0.006906905114917449,0.005728527607458915,0.005694427757510852,0.0057076226605038,0.00082450409803636,0.00563250682915492,0.017369339875871324,-0.01969170879238515,-0.002961013052193392,0.007695575497010713,0.0002659599938485154,0.0076126511950067805,1.0,-0.12225375200525321,0.7889123589930508,-0.010931068804259482,0.054360998760120814,-0.0184518547587971,0.002476227359664691,0.014779894579644452,0.0011506778791898996,-0.06204209191981924,-0.04644649085469088,-0.06709686360086074,-0.012142548310869122,0.007114222226032007,0.006771737176973264,-0.12225375200525321,1.0,-0.10306228148764927,-0.03907638897966843,-0.01076791848095198,-0.04050495976228984,0.06806460020347013,-0.002688145858857811,0.06829130387444331,-0.03543942896257459,0.025046237587382482,0.0499124766384954,0.011087180902770234,-0.03713515854004745,0.13458783088757248,0.7889123589930508,-0.10306228148764927,1.0,-0.00920308023127444,0.07416351432950953,-0.010774478506729145,0.007507009229698237,0.008622804474098151,0.006732391627270253,-0.048959320126718116,-0.03859062947522644,-0.04981908353962511,-0.014071670900046846,-0.00754083697632563,0.006906905114917449,-0.010931068804259482,-0.03907638897966843,-0.00920308023127444,1.0,-0.003675376932207407,0.05520316331250555,-0.07138581742352747,0.013725848920523953,-0.07260136283372588,0.0501186436597206,-0.34722887963701443,-0.24189084971343594,0.04083114826057427,0.067662878041457,0.005728527607458915,0.054360998760120814,-0.01076791848095198,0.07416351432950953,-0.003675376932207407,1.0,0.029492910128659285,-0.02039379144345504,-0.04220960877980104,-0.01660538381048117,-0.03224671239481278,-0.03698242508478301,-0.04278703930774648,-0.03898933797671036,-0.0075026327688393415,0.005694427757510852,-0.0184518547587971,-0.04050495976228984,-0.010774478506729145,0.05520316331250555,0.029492910128659285,1.0,0.02081701171626793,-0.05391273122599859,0.02564596120868006,-0.024445115120385143,-0.11277392883883214,-0.15221260518404692,-0.09499691598377367,-0.05547128465245328,0.0057076226605038,0.002476227359664691,0.06806460020347013,0.007507009229698237,-0.07138581742352747,-0.02039379144345504,0.02081701171626793,1.0,0.04249260734895824,0.995980543932001,0.012812535653393454,0.17173015046794077,0.07592691199468905,-0.0020198499941714303,-0.4829650714174503,0.00082450409803636,0.014779894579644452,-0.002688145858857811,0.008622804474098151,0.013725848920523953,-0.04220960877980104,-0.05391273122599859,0.04249260734895824,1.0,-0.047167127943430955,0.05817366445423314,0.06437047704790985,0.056060493046322143,0.08986100776026948,0.6240219910059064,0.00563250682915492,0.0011506778791898996,0.06829130387444331,0.006732391627270253,-0.07260136283372588,-0.01660538381048117,0.02564596120868006,0.995980543932001,-0.047167127943430955,1.0,0.0075945291959918825,0.1659232284970104,0.07088510162623113,-0.010075538362497083,-0.5388077476174624,0.017369339875871324,-0.06204209191981924,-0.03543942896257459,-0.048959320126718116,0.0501186436597206,-0.03224671239481278,-0.024445115120385143,0.012812535653393454,0.05817366445423314,0.0075945291959918825,1.0,0.03967759237186188,0.005468567330772116,0.38418925603371645,0.03523483473073431,-0.01969170879238515,-0.04644649085469088,0.025046237587382482,-0.03859062947522644,-0.34722887963701443,-0.03698242508478301,-0.11277392883883214,0.17173015046794077,0.06437047704790985,0.1659232284970104,0.03967759237186188,1.0,0.8071920346514367,0.08558097602856081,-0.08303424588646034,-0.002961013052193392,-0.06709686360086074,0.0499124766384954,-0.04981908353962511,-0.24189084971343594,-0.04278703930774648,-0.15221260518404692,0.07592691199468905,0.056060493046322143,0.07088510162623113,0.005468567330772116,0.8071920346514367,1.0,0.11232443991563544,0.0028381122342156077,0.007695575497010713,-0.012142548310869122,0.011087180902770234,-0.014071670900046846,0.04083114826057427,-0.03898933797671036,-0.09499691598377367,-0.0020198499941714303,0.08986100776026948,-0.010075538362497083,0.38418925603371645,0.08558097602856081,0.11232443991563544,1.0,0.07414320991782065,0.0002659599938485154,0.007114222226032007,-0.03713515854004745,-0.00754083697632563,0.067662878041457,-0.0075026327688393415,-0.05547128465245328,-0.4829650714174503,0.6240219910059064,-0.5388077476174624,0.03523483473073431,-0.08303424588646034,0.0028381122342156077,0.07414320991782065,1.0],\"colorscale\":[[0.0,\"#440154\"],[0.1111111111111111,\"#482878\"],[0.2222222222222222,\"#3e4989\"],[0.3333333333333333,\"#31688e\"],[0.4444444444444444,\"#26828e\"],[0.5555555555555556,\"#1f9e89\"],[0.6666666666666666,\"#35b779\"],[0.7777777777777778,\"#6ece58\"],[0.8888888888888888,\"#b5de2b\"],[1.0,\"#fde725\"]],\"showscale\":true,\"size\":10},\"mode\":\"markers\",\"x\":[\"CLIENTNUM\",\"Customer_Age\",\"Dependent_count\",\"Months_on_book\",\"Total_Relationship_Count\",\"Months_Inactive_12_mon\",\"Contacts_Count_12_mon\",\"Credit_Limit\",\"Total_Revolving_Bal\",\"Avg_Open_To_Buy\",\"Total_Amt_Chng_Q4_Q1\",\"Total_Trans_Amt\",\"Total_Trans_Ct\",\"Total_Ct_Chng_Q4_Q1\",\"Avg_Utilization_Ratio\",\"CLIENTNUM\",\"Customer_Age\",\"Dependent_count\",\"Months_on_book\",\"Total_Relationship_Count\",\"Months_Inactive_12_mon\",\"Contacts_Count_12_mon\",\"Credit_Limit\",\"Total_Revolving_Bal\",\"Avg_Open_To_Buy\",\"Total_Amt_Chng_Q4_Q1\",\"Total_Trans_Amt\",\"Total_Trans_Ct\",\"Total_Ct_Chng_Q4_Q1\",\"Avg_Utilization_Ratio\",\"CLIENTNUM\",\"Customer_Age\",\"Dependent_count\",\"Months_on_book\",\"Total_Relationship_Count\",\"Months_Inactive_12_mon\",\"Contacts_Count_12_mon\",\"Credit_Limit\",\"Total_Revolving_Bal\",\"Avg_Open_To_Buy\",\"Total_Amt_Chng_Q4_Q1\",\"Total_Trans_Amt\",\"Total_Trans_Ct\",\"Total_Ct_Chng_Q4_Q1\",\"Avg_Utilization_Ratio\",\"CLIENTNUM\",\"Customer_Age\",\"Dependent_count\",\"Months_on_book\",\"Total_Relationship_Count\",\"Months_Inactive_12_mon\",\"Contacts_Count_12_mon\",\"Credit_Limit\",\"Total_Revolving_Bal\",\"Avg_Open_To_Buy\",\"Total_Amt_Chng_Q4_Q1\",\"Total_Trans_Amt\",\"Total_Trans_Ct\",\"Total_Ct_Chng_Q4_Q1\",\"Avg_Utilization_Ratio\",\"CLIENTNUM\",\"Customer_Age\",\"Dependent_count\",\"Months_on_book\",\"Total_Relationship_Count\",\"Months_Inactive_12_mon\",\"Contacts_Count_12_mon\",\"Credit_Limit\",\"Total_Revolving_Bal\",\"Avg_Open_To_Buy\",\"Total_Amt_Chng_Q4_Q1\",\"Total_Trans_Amt\",\"Total_Trans_Ct\",\"Total_Ct_Chng_Q4_Q1\",\"Avg_Utilization_Ratio\",\"CLIENTNUM\",\"Customer_Age\",\"Dependent_count\",\"Months_on_book\",\"Total_Relationship_Count\",\"Months_Inactive_12_mon\",\"Contacts_Count_12_mon\",\"Credit_Limit\",\"Total_Revolving_Bal\",\"Avg_Open_To_Buy\",\"Total_Amt_Chng_Q4_Q1\",\"Total_Trans_Amt\",\"Total_Trans_Ct\",\"Total_Ct_Chng_Q4_Q1\",\"Avg_Utilization_Ratio\",\"CLIENTNUM\",\"Customer_Age\",\"Dependent_count\",\"Months_on_book\",\"Total_Relationship_Count\",\"Months_Inactive_12_mon\",\"Contacts_Count_12_mon\",\"Credit_Limit\",\"Total_Revolving_Bal\",\"Avg_Open_To_Buy\",\"Total_Amt_Chng_Q4_Q1\",\"Total_Trans_Amt\",\"Total_Trans_Ct\",\"Total_Ct_Chng_Q4_Q1\",\"Avg_Utilization_Ratio\",\"CLIENTNUM\",\"Customer_Age\",\"Dependent_count\",\"Months_on_book\",\"Total_Relationship_Count\",\"Months_Inactive_12_mon\",\"Contacts_Count_12_mon\",\"Credit_Limit\",\"Total_Revolving_Bal\",\"Avg_Open_To_Buy\",\"Total_Amt_Chng_Q4_Q1\",\"Total_Trans_Amt\",\"Total_Trans_Ct\",\"Total_Ct_Chng_Q4_Q1\",\"Avg_Utilization_Ratio\",\"CLIENTNUM\",\"Customer_Age\",\"Dependent_count\",\"Months_on_book\",\"Total_Relationship_Count\",\"Months_Inactive_12_mon\",\"Contacts_Count_12_mon\",\"Credit_Limit\",\"Total_Revolving_Bal\",\"Avg_Open_To_Buy\",\"Total_Amt_Chng_Q4_Q1\",\"Total_Trans_Amt\",\"Total_Trans_Ct\",\"Total_Ct_Chng_Q4_Q1\",\"Avg_Utilization_Ratio\",\"CLIENTNUM\",\"Customer_Age\",\"Dependent_count\",\"Months_on_book\",\"Total_Relationship_Count\",\"Months_Inactive_12_mon\",\"Contacts_Count_12_mon\",\"Credit_Limit\",\"Total_Revolving_Bal\",\"Avg_Open_To_Buy\",\"Total_Amt_Chng_Q4_Q1\",\"Total_Trans_Amt\",\"Total_Trans_Ct\",\"Total_Ct_Chng_Q4_Q1\",\"Avg_Utilization_Ratio\",\"CLIENTNUM\",\"Customer_Age\",\"Dependent_count\",\"Months_on_book\",\"Total_Relationship_Count\",\"Months_Inactive_12_mon\",\"Contacts_Count_12_mon\",\"Credit_Limit\",\"Total_Revolving_Bal\",\"Avg_Open_To_Buy\",\"Total_Amt_Chng_Q4_Q1\",\"Total_Trans_Amt\",\"Total_Trans_Ct\",\"Total_Ct_Chng_Q4_Q1\",\"Avg_Utilization_Ratio\",\"CLIENTNUM\",\"Customer_Age\",\"Dependent_count\",\"Months_on_book\",\"Total_Relationship_Count\",\"Months_Inactive_12_mon\",\"Contacts_Count_12_mon\",\"Credit_Limit\",\"Total_Revolving_Bal\",\"Avg_Open_To_Buy\",\"Total_Amt_Chng_Q4_Q1\",\"Total_Trans_Amt\",\"Total_Trans_Ct\",\"Total_Ct_Chng_Q4_Q1\",\"Avg_Utilization_Ratio\",\"CLIENTNUM\",\"Customer_Age\",\"Dependent_count\",\"Months_on_book\",\"Total_Relationship_Count\",\"Months_Inactive_12_mon\",\"Contacts_Count_12_mon\",\"Credit_Limit\",\"Total_Revolving_Bal\",\"Avg_Open_To_Buy\",\"Total_Amt_Chng_Q4_Q1\",\"Total_Trans_Amt\",\"Total_Trans_Ct\",\"Total_Ct_Chng_Q4_Q1\",\"Avg_Utilization_Ratio\",\"CLIENTNUM\",\"Customer_Age\",\"Dependent_count\",\"Months_on_book\",\"Total_Relationship_Count\",\"Months_Inactive_12_mon\",\"Contacts_Count_12_mon\",\"Credit_Limit\",\"Total_Revolving_Bal\",\"Avg_Open_To_Buy\",\"Total_Amt_Chng_Q4_Q1\",\"Total_Trans_Amt\",\"Total_Trans_Ct\",\"Total_Ct_Chng_Q4_Q1\",\"Avg_Utilization_Ratio\",\"CLIENTNUM\",\"Customer_Age\",\"Dependent_count\",\"Months_on_book\",\"Total_Relationship_Count\",\"Months_Inactive_12_mon\",\"Contacts_Count_12_mon\",\"Credit_Limit\",\"Total_Revolving_Bal\",\"Avg_Open_To_Buy\",\"Total_Amt_Chng_Q4_Q1\",\"Total_Trans_Amt\",\"Total_Trans_Ct\",\"Total_Ct_Chng_Q4_Q1\",\"Avg_Utilization_Ratio\"],\"y\":[\"CLIENTNUM\",\"CLIENTNUM\",\"CLIENTNUM\",\"CLIENTNUM\",\"CLIENTNUM\",\"CLIENTNUM\",\"CLIENTNUM\",\"CLIENTNUM\",\"CLIENTNUM\",\"CLIENTNUM\",\"CLIENTNUM\",\"CLIENTNUM\",\"CLIENTNUM\",\"CLIENTNUM\",\"CLIENTNUM\",\"Customer_Age\",\"Customer_Age\",\"Customer_Age\",\"Customer_Age\",\"Customer_Age\",\"Customer_Age\",\"Customer_Age\",\"Customer_Age\",\"Customer_Age\",\"Customer_Age\",\"Customer_Age\",\"Customer_Age\",\"Customer_Age\",\"Customer_Age\",\"Customer_Age\",\"Dependent_count\",\"Dependent_count\",\"Dependent_count\",\"Dependent_count\",\"Dependent_count\",\"Dependent_count\",\"Dependent_count\",\"Dependent_count\",\"Dependent_count\",\"Dependent_count\",\"Dependent_count\",\"Dependent_count\",\"Dependent_count\",\"Dependent_count\",\"Dependent_count\",\"Months_on_book\",\"Months_on_book\",\"Months_on_book\",\"Months_on_book\",\"Months_on_book\",\"Months_on_book\",\"Months_on_book\",\"Months_on_book\",\"Months_on_book\",\"Months_on_book\",\"Months_on_book\",\"Months_on_book\",\"Months_on_book\",\"Months_on_book\",\"Months_on_book\",\"Total_Relationship_Count\",\"Total_Relationship_Count\",\"Total_Relationship_Count\",\"Total_Relationship_Count\",\"Total_Relationship_Count\",\"Total_Relationship_Count\",\"Total_Relationship_Count\",\"Total_Relationship_Count\",\"Total_Relationship_Count\",\"Total_Relationship_Count\",\"Total_Relationship_Count\",\"Total_Relationship_Count\",\"Total_Relationship_Count\",\"Total_Relationship_Count\",\"Total_Relationship_Count\",\"Months_Inactive_12_mon\",\"Months_Inactive_12_mon\",\"Months_Inactive_12_mon\",\"Months_Inactive_12_mon\",\"Months_Inactive_12_mon\",\"Months_Inactive_12_mon\",\"Months_Inactive_12_mon\",\"Months_Inactive_12_mon\",\"Months_Inactive_12_mon\",\"Months_Inactive_12_mon\",\"Months_Inactive_12_mon\",\"Months_Inactive_12_mon\",\"Months_Inactive_12_mon\",\"Months_Inactive_12_mon\",\"Months_Inactive_12_mon\",\"Contacts_Count_12_mon\",\"Contacts_Count_12_mon\",\"Contacts_Count_12_mon\",\"Contacts_Count_12_mon\",\"Contacts_Count_12_mon\",\"Contacts_Count_12_mon\",\"Contacts_Count_12_mon\",\"Contacts_Count_12_mon\",\"Contacts_Count_12_mon\",\"Contacts_Count_12_mon\",\"Contacts_Count_12_mon\",\"Contacts_Count_12_mon\",\"Contacts_Count_12_mon\",\"Contacts_Count_12_mon\",\"Contacts_Count_12_mon\",\"Credit_Limit\",\"Credit_Limit\",\"Credit_Limit\",\"Credit_Limit\",\"Credit_Limit\",\"Credit_Limit\",\"Credit_Limit\",\"Credit_Limit\",\"Credit_Limit\",\"Credit_Limit\",\"Credit_Limit\",\"Credit_Limit\",\"Credit_Limit\",\"Credit_Limit\",\"Credit_Limit\",\"Total_Revolving_Bal\",\"Total_Revolving_Bal\",\"Total_Revolving_Bal\",\"Total_Revolving_Bal\",\"Total_Revolving_Bal\",\"Total_Revolving_Bal\",\"Total_Revolving_Bal\",\"Total_Revolving_Bal\",\"Total_Revolving_Bal\",\"Total_Revolving_Bal\",\"Total_Revolving_Bal\",\"Total_Revolving_Bal\",\"Total_Revolving_Bal\",\"Total_Revolving_Bal\",\"Total_Revolving_Bal\",\"Avg_Open_To_Buy\",\"Avg_Open_To_Buy\",\"Avg_Open_To_Buy\",\"Avg_Open_To_Buy\",\"Avg_Open_To_Buy\",\"Avg_Open_To_Buy\",\"Avg_Open_To_Buy\",\"Avg_Open_To_Buy\",\"Avg_Open_To_Buy\",\"Avg_Open_To_Buy\",\"Avg_Open_To_Buy\",\"Avg_Open_To_Buy\",\"Avg_Open_To_Buy\",\"Avg_Open_To_Buy\",\"Avg_Open_To_Buy\",\"Total_Amt_Chng_Q4_Q1\",\"Total_Amt_Chng_Q4_Q1\",\"Total_Amt_Chng_Q4_Q1\",\"Total_Amt_Chng_Q4_Q1\",\"Total_Amt_Chng_Q4_Q1\",\"Total_Amt_Chng_Q4_Q1\",\"Total_Amt_Chng_Q4_Q1\",\"Total_Amt_Chng_Q4_Q1\",\"Total_Amt_Chng_Q4_Q1\",\"Total_Amt_Chng_Q4_Q1\",\"Total_Amt_Chng_Q4_Q1\",\"Total_Amt_Chng_Q4_Q1\",\"Total_Amt_Chng_Q4_Q1\",\"Total_Amt_Chng_Q4_Q1\",\"Total_Amt_Chng_Q4_Q1\",\"Total_Trans_Amt\",\"Total_Trans_Amt\",\"Total_Trans_Amt\",\"Total_Trans_Amt\",\"Total_Trans_Amt\",\"Total_Trans_Amt\",\"Total_Trans_Amt\",\"Total_Trans_Amt\",\"Total_Trans_Amt\",\"Total_Trans_Amt\",\"Total_Trans_Amt\",\"Total_Trans_Amt\",\"Total_Trans_Amt\",\"Total_Trans_Amt\",\"Total_Trans_Amt\",\"Total_Trans_Ct\",\"Total_Trans_Ct\",\"Total_Trans_Ct\",\"Total_Trans_Ct\",\"Total_Trans_Ct\",\"Total_Trans_Ct\",\"Total_Trans_Ct\",\"Total_Trans_Ct\",\"Total_Trans_Ct\",\"Total_Trans_Ct\",\"Total_Trans_Ct\",\"Total_Trans_Ct\",\"Total_Trans_Ct\",\"Total_Trans_Ct\",\"Total_Trans_Ct\",\"Total_Ct_Chng_Q4_Q1\",\"Total_Ct_Chng_Q4_Q1\",\"Total_Ct_Chng_Q4_Q1\",\"Total_Ct_Chng_Q4_Q1\",\"Total_Ct_Chng_Q4_Q1\",\"Total_Ct_Chng_Q4_Q1\",\"Total_Ct_Chng_Q4_Q1\",\"Total_Ct_Chng_Q4_Q1\",\"Total_Ct_Chng_Q4_Q1\",\"Total_Ct_Chng_Q4_Q1\",\"Total_Ct_Chng_Q4_Q1\",\"Total_Ct_Chng_Q4_Q1\",\"Total_Ct_Chng_Q4_Q1\",\"Total_Ct_Chng_Q4_Q1\",\"Total_Ct_Chng_Q4_Q1\",\"Avg_Utilization_Ratio\",\"Avg_Utilization_Ratio\",\"Avg_Utilization_Ratio\",\"Avg_Utilization_Ratio\",\"Avg_Utilization_Ratio\",\"Avg_Utilization_Ratio\",\"Avg_Utilization_Ratio\",\"Avg_Utilization_Ratio\",\"Avg_Utilization_Ratio\",\"Avg_Utilization_Ratio\",\"Avg_Utilization_Ratio\",\"Avg_Utilization_Ratio\",\"Avg_Utilization_Ratio\",\"Avg_Utilization_Ratio\",\"Avg_Utilization_Ratio\"],\"type\":\"scatter\"}],                        {\"template\":{\"data\":{\"histogram2dcontour\":[{\"type\":\"histogram2dcontour\",\"colorbar\":{\"outlinewidth\":0,\"ticks\":\"\"},\"colorscale\":[[0.0,\"#0d0887\"],[0.1111111111111111,\"#46039f\"],[0.2222222222222222,\"#7201a8\"],[0.3333333333333333,\"#9c179e\"],[0.4444444444444444,\"#bd3786\"],[0.5555555555555556,\"#d8576b\"],[0.6666666666666666,\"#ed7953\"],[0.7777777777777778,\"#fb9f3a\"],[0.8888888888888888,\"#fdca26\"],[1.0,\"#f0f921\"]]}],\"choropleth\":[{\"type\":\"choropleth\",\"colorbar\":{\"outlinewidth\":0,\"ticks\":\"\"}}],\"histogram2d\":[{\"type\":\"histogram2d\",\"colorbar\":{\"outlinewidth\":0,\"ticks\":\"\"},\"colorscale\":[[0.0,\"#0d0887\"],[0.1111111111111111,\"#46039f\"],[0.2222222222222222,\"#7201a8\"],[0.3333333333333333,\"#9c179e\"],[0.4444444444444444,\"#bd3786\"],[0.5555555555555556,\"#d8576b\"],[0.6666666666666666,\"#ed7953\"],[0.7777777777777778,\"#fb9f3a\"],[0.8888888888888888,\"#fdca26\"],[1.0,\"#f0f921\"]]}],\"heatmap\":[{\"type\":\"heatmap\",\"colorbar\":{\"outlinewidth\":0,\"ticks\":\"\"},\"colorscale\":[[0.0,\"#0d0887\"],[0.1111111111111111,\"#46039f\"],[0.2222222222222222,\"#7201a8\"],[0.3333333333333333,\"#9c179e\"],[0.4444444444444444,\"#bd3786\"],[0.5555555555555556,\"#d8576b\"],[0.6666666666666666,\"#ed7953\"],[0.7777777777777778,\"#fb9f3a\"],[0.8888888888888888,\"#fdca26\"],[1.0,\"#f0f921\"]]}],\"heatmapgl\":[{\"type\":\"heatmapgl\",\"colorbar\":{\"outlinewidth\":0,\"ticks\":\"\"},\"colorscale\":[[0.0,\"#0d0887\"],[0.1111111111111111,\"#46039f\"],[0.2222222222222222,\"#7201a8\"],[0.3333333333333333,\"#9c179e\"],[0.4444444444444444,\"#bd3786\"],[0.5555555555555556,\"#d8576b\"],[0.6666666666666666,\"#ed7953\"],[0.7777777777777778,\"#fb9f3a\"],[0.8888888888888888,\"#fdca26\"],[1.0,\"#f0f921\"]]}],\"contourcarpet\":[{\"type\":\"contourcarpet\",\"colorbar\":{\"outlinewidth\":0,\"ticks\":\"\"}}],\"contour\":[{\"type\":\"contour\",\"colorbar\":{\"outlinewidth\":0,\"ticks\":\"\"},\"colorscale\":[[0.0,\"#0d0887\"],[0.1111111111111111,\"#46039f\"],[0.2222222222222222,\"#7201a8\"],[0.3333333333333333,\"#9c179e\"],[0.4444444444444444,\"#bd3786\"],[0.5555555555555556,\"#d8576b\"],[0.6666666666666666,\"#ed7953\"],[0.7777777777777778,\"#fb9f3a\"],[0.8888888888888888,\"#fdca26\"],[1.0,\"#f0f921\"]]}],\"surface\":[{\"type\":\"surface\",\"colorbar\":{\"outlinewidth\":0,\"ticks\":\"\"},\"colorscale\":[[0.0,\"#0d0887\"],[0.1111111111111111,\"#46039f\"],[0.2222222222222222,\"#7201a8\"],[0.3333333333333333,\"#9c179e\"],[0.4444444444444444,\"#bd3786\"],[0.5555555555555556,\"#d8576b\"],[0.6666666666666666,\"#ed7953\"],[0.7777777777777778,\"#fb9f3a\"],[0.8888888888888888,\"#fdca26\"],[1.0,\"#f0f921\"]]}],\"mesh3d\":[{\"type\":\"mesh3d\",\"colorbar\":{\"outlinewidth\":0,\"ticks\":\"\"}}],\"scatter\":[{\"fillpattern\":{\"fillmode\":\"overlay\",\"size\":10,\"solidity\":0.2},\"type\":\"scatter\"}],\"parcoords\":[{\"type\":\"parcoords\",\"line\":{\"colorbar\":{\"outlinewidth\":0,\"ticks\":\"\"}}}],\"scatterpolargl\":[{\"type\":\"scatterpolargl\",\"marker\":{\"colorbar\":{\"outlinewidth\":0,\"ticks\":\"\"}}}],\"bar\":[{\"error_x\":{\"color\":\"#2a3f5f\"},\"error_y\":{\"color\":\"#2a3f5f\"},\"marker\":{\"line\":{\"color\":\"#E5ECF6\",\"width\":0.5},\"pattern\":{\"fillmode\":\"overlay\",\"size\":10,\"solidity\":0.2}},\"type\":\"bar\"}],\"scattergeo\":[{\"type\":\"scattergeo\",\"marker\":{\"colorbar\":{\"outlinewidth\":0,\"ticks\":\"\"}}}],\"scatterpolar\":[{\"type\":\"scatterpolar\",\"marker\":{\"colorbar\":{\"outlinewidth\":0,\"ticks\":\"\"}}}],\"histogram\":[{\"marker\":{\"pattern\":{\"fillmode\":\"overlay\",\"size\":10,\"solidity\":0.2}},\"type\":\"histogram\"}],\"scattergl\":[{\"type\":\"scattergl\",\"marker\":{\"colorbar\":{\"outlinewidth\":0,\"ticks\":\"\"}}}],\"scatter3d\":[{\"type\":\"scatter3d\",\"line\":{\"colorbar\":{\"outlinewidth\":0,\"ticks\":\"\"}},\"marker\":{\"colorbar\":{\"outlinewidth\":0,\"ticks\":\"\"}}}],\"scattermapbox\":[{\"type\":\"scattermapbox\",\"marker\":{\"colorbar\":{\"outlinewidth\":0,\"ticks\":\"\"}}}],\"scatterternary\":[{\"type\":\"scatterternary\",\"marker\":{\"colorbar\":{\"outlinewidth\":0,\"ticks\":\"\"}}}],\"scattercarpet\":[{\"type\":\"scattercarpet\",\"marker\":{\"colorbar\":{\"outlinewidth\":0,\"ticks\":\"\"}}}],\"carpet\":[{\"aaxis\":{\"endlinecolor\":\"#2a3f5f\",\"gridcolor\":\"white\",\"linecolor\":\"white\",\"minorgridcolor\":\"white\",\"startlinecolor\":\"#2a3f5f\"},\"baxis\":{\"endlinecolor\":\"#2a3f5f\",\"gridcolor\":\"white\",\"linecolor\":\"white\",\"minorgridcolor\":\"white\",\"startlinecolor\":\"#2a3f5f\"},\"type\":\"carpet\"}],\"table\":[{\"cells\":{\"fill\":{\"color\":\"#EBF0F8\"},\"line\":{\"color\":\"white\"}},\"header\":{\"fill\":{\"color\":\"#C8D4E3\"},\"line\":{\"color\":\"white\"}},\"type\":\"table\"}],\"barpolar\":[{\"marker\":{\"line\":{\"color\":\"#E5ECF6\",\"width\":0.5},\"pattern\":{\"fillmode\":\"overlay\",\"size\":10,\"solidity\":0.2}},\"type\":\"barpolar\"}],\"pie\":[{\"automargin\":true,\"type\":\"pie\"}]},\"layout\":{\"autotypenumbers\":\"strict\",\"colorway\":[\"#636efa\",\"#EF553B\",\"#00cc96\",\"#ab63fa\",\"#FFA15A\",\"#19d3f3\",\"#FF6692\",\"#B6E880\",\"#FF97FF\",\"#FECB52\"],\"font\":{\"color\":\"#2a3f5f\"},\"hovermode\":\"closest\",\"hoverlabel\":{\"align\":\"left\"},\"paper_bgcolor\":\"white\",\"plot_bgcolor\":\"#E5ECF6\",\"polar\":{\"bgcolor\":\"#E5ECF6\",\"angularaxis\":{\"gridcolor\":\"white\",\"linecolor\":\"white\",\"ticks\":\"\"},\"radialaxis\":{\"gridcolor\":\"white\",\"linecolor\":\"white\",\"ticks\":\"\"}},\"ternary\":{\"bgcolor\":\"#E5ECF6\",\"aaxis\":{\"gridcolor\":\"white\",\"linecolor\":\"white\",\"ticks\":\"\"},\"baxis\":{\"gridcolor\":\"white\",\"linecolor\":\"white\",\"ticks\":\"\"},\"caxis\":{\"gridcolor\":\"white\",\"linecolor\":\"white\",\"ticks\":\"\"}},\"coloraxis\":{\"colorbar\":{\"outlinewidth\":0,\"ticks\":\"\"}},\"colorscale\":{\"sequential\":[[0.0,\"#0d0887\"],[0.1111111111111111,\"#46039f\"],[0.2222222222222222,\"#7201a8\"],[0.3333333333333333,\"#9c179e\"],[0.4444444444444444,\"#bd3786\"],[0.5555555555555556,\"#d8576b\"],[0.6666666666666666,\"#ed7953\"],[0.7777777777777778,\"#fb9f3a\"],[0.8888888888888888,\"#fdca26\"],[1.0,\"#f0f921\"]],\"sequentialminus\":[[0.0,\"#0d0887\"],[0.1111111111111111,\"#46039f\"],[0.2222222222222222,\"#7201a8\"],[0.3333333333333333,\"#9c179e\"],[0.4444444444444444,\"#bd3786\"],[0.5555555555555556,\"#d8576b\"],[0.6666666666666666,\"#ed7953\"],[0.7777777777777778,\"#fb9f3a\"],[0.8888888888888888,\"#fdca26\"],[1.0,\"#f0f921\"]],\"diverging\":[[0,\"#8e0152\"],[0.1,\"#c51b7d\"],[0.2,\"#de77ae\"],[0.3,\"#f1b6da\"],[0.4,\"#fde0ef\"],[0.5,\"#f7f7f7\"],[0.6,\"#e6f5d0\"],[0.7,\"#b8e186\"],[0.8,\"#7fbc41\"],[0.9,\"#4d9221\"],[1,\"#276419\"]]},\"xaxis\":{\"gridcolor\":\"white\",\"linecolor\":\"white\",\"ticks\":\"\",\"title\":{\"standoff\":15},\"zerolinecolor\":\"white\",\"automargin\":true,\"zerolinewidth\":2},\"yaxis\":{\"gridcolor\":\"white\",\"linecolor\":\"white\",\"ticks\":\"\",\"title\":{\"standoff\":15},\"zerolinecolor\":\"white\",\"automargin\":true,\"zerolinewidth\":2},\"scene\":{\"xaxis\":{\"backgroundcolor\":\"#E5ECF6\",\"gridcolor\":\"white\",\"linecolor\":\"white\",\"showbackground\":true,\"ticks\":\"\",\"zerolinecolor\":\"white\",\"gridwidth\":2},\"yaxis\":{\"backgroundcolor\":\"#E5ECF6\",\"gridcolor\":\"white\",\"linecolor\":\"white\",\"showbackground\":true,\"ticks\":\"\",\"zerolinecolor\":\"white\",\"gridwidth\":2},\"zaxis\":{\"backgroundcolor\":\"#E5ECF6\",\"gridcolor\":\"white\",\"linecolor\":\"white\",\"showbackground\":true,\"ticks\":\"\",\"zerolinecolor\":\"white\",\"gridwidth\":2}},\"shapedefaults\":{\"line\":{\"color\":\"#2a3f5f\"}},\"annotationdefaults\":{\"arrowcolor\":\"#2a3f5f\",\"arrowhead\":0,\"arrowwidth\":1},\"geo\":{\"bgcolor\":\"white\",\"landcolor\":\"#E5ECF6\",\"subunitcolor\":\"white\",\"showland\":true,\"showlakes\":true,\"lakecolor\":\"white\"},\"title\":{\"x\":0.05},\"mapbox\":{\"style\":\"light\"}}},\"xaxis\":{\"tickvals\":[0,1,2,3,4,5,6,7,8,9,10,11,12,13,14],\"ticktext\":[\"CLIENTNUM\",\"Customer_Age\",\"Dependent_count\",\"Months_on_book\",\"Total_Relationship_Count\",\"Months_Inactive_12_mon\",\"Contacts_Count_12_mon\",\"Credit_Limit\",\"Total_Revolving_Bal\",\"Avg_Open_To_Buy\",\"Total_Amt_Chng_Q4_Q1\",\"Total_Trans_Amt\",\"Total_Trans_Ct\",\"Total_Ct_Chng_Q4_Q1\",\"Avg_Utilization_Ratio\"],\"title\":{\"text\":\"X Variables\"}},\"yaxis\":{\"tickvals\":[0,1,2,3,4,5,6,7,8,9,10,11,12,13,14],\"ticktext\":[\"CLIENTNUM\",\"Customer_Age\",\"Dependent_count\",\"Months_on_book\",\"Total_Relationship_Count\",\"Months_Inactive_12_mon\",\"Contacts_Count_12_mon\",\"Credit_Limit\",\"Total_Revolving_Bal\",\"Avg_Open_To_Buy\",\"Total_Amt_Chng_Q4_Q1\",\"Total_Trans_Amt\",\"Total_Trans_Ct\",\"Total_Ct_Chng_Q4_Q1\",\"Avg_Utilization_Ratio\"],\"title\":{\"text\":\"Y Variables\"}},\"title\":{\"text\":\"Correlation Scatter Plot\"}},                        {\"responsive\": true}                    ).then(function(){\n",
       "                            \n",
       "var gd = document.getElementById('b249cb83-42c8-46db-9308-5b18a38fbc3c');\n",
       "var x = new MutationObserver(function (mutations, observer) {{\n",
       "        var display = window.getComputedStyle(gd).display;\n",
       "        if (!display || display === 'none') {{\n",
       "            console.log([gd, 'removed!']);\n",
       "            Plotly.purge(gd);\n",
       "            observer.disconnect();\n",
       "        }}\n",
       "}});\n",
       "\n",
       "// Listen for the removal of the full notebook cells\n",
       "var notebookContainer = gd.closest('#notebook-container');\n",
       "if (notebookContainer) {{\n",
       "    x.observe(notebookContainer, {childList: true});\n",
       "}}\n",
       "\n",
       "// Listen for the clearing of the current output cell\n",
       "var outputEl = gd.closest('.output');\n",
       "if (outputEl) {{\n",
       "    x.observe(outputEl, {childList: true});\n",
       "}}\n",
       "\n",
       "                        })                };                });            </script>        </div>"
      ]
     },
     "metadata": {},
     "output_type": "display_data"
    }
   ],
   "source": [
    "# Correlation Graph - Scatter Plot\n",
    "fig = go.Figure(data=go.Scatter(\n",
    "    x=np.tile(x, len(y)),\n",
    "    y=np.repeat(y, len(x)),\n",
    "    mode='markers',\n",
    "    marker=dict(\n",
    "        color=values.flatten(),\n",
    "        colorscale='Viridis',\n",
    "        size=10,\n",
    "        showscale=True\n",
    "    )\n",
    "))\n",
    "\n",
    "fig.update_layout(\n",
    "    title='Correlation Scatter Plot',\n",
    "    xaxis=dict(tickvals=list(range(len(x))), ticktext=x, title='X Variables'),\n",
    "    yaxis=dict(tickvals=list(range(len(y))), ticktext=y, title='Y Variables')\n",
    ")\n",
    "\n",
    "fig.show()"
   ]
  },
  {
   "cell_type": "markdown",
   "id": "6fd5987b",
   "metadata": {
    "papermill": {
     "duration": 0.014593,
     "end_time": "2023-08-26T02:23:17.923238",
     "exception": false,
     "start_time": "2023-08-26T02:23:17.908645",
     "status": "completed"
    },
    "tags": []
   },
   "source": [
    "Correlation:\n",
    "1. Customer Age and Months on Book\n",
    "2. Total Revolving Balance andAverage Utilization Ration = 0.624\n",
    "\n",
    "# Summary\n",
    "Based on the varoius variables there's certain demographics that stick out. The goal for this analysis is customer churn for the credit card company; I split it into Income Categories, Age, Gender and Education Level. We discovered that the groups that are more likely to attrit are Females with a 2.75% higher then mens. As well as individuals in the income bracket of \\\\$120,000 and more, followed by the lowest income group which was individuals who make less than \\\\$40,000. "
   ]
  }
 ],
 "metadata": {
  "kernelspec": {
   "display_name": "Python 3 (ipykernel)",
   "language": "python",
   "name": "python3"
  },
  "language_info": {
   "codemirror_mode": {
    "name": "ipython",
    "version": 3
   },
   "file_extension": ".py",
   "mimetype": "text/x-python",
   "name": "python",
   "nbconvert_exporter": "python",
   "pygments_lexer": "ipython3",
   "version": "3.9.7"
  },
  "papermill": {
   "default_parameters": {},
   "duration": 17.53656,
   "end_time": "2023-08-26T02:23:19.264310",
   "environment_variables": {},
   "exception": null,
   "input_path": "__notebook__.ipynb",
   "output_path": "__notebook__.ipynb",
   "parameters": {},
   "start_time": "2023-08-26T02:23:01.727750",
   "version": "2.4.0"
  }
 },
 "nbformat": 4,
 "nbformat_minor": 5
}
